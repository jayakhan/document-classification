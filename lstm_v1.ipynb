{
  "cells": [
    {
      "cell_type": "markdown",
      "metadata": {
        "id": "view-in-github",
        "colab_type": "text"
      },
      "source": [
        "<a href=\"https://colab.research.google.com/github/jayakhan/document-classification/blob/main/lstm_v1.ipynb\" target=\"_parent\"><img src=\"https://colab.research.google.com/assets/colab-badge.svg\" alt=\"Open In Colab\"/></a>"
      ]
    },
    {
      "cell_type": "markdown",
      "source": [
        "## 1) Import Libraries"
      ],
      "metadata": {
        "id": "OMv-jNrCyAw4"
      }
    },
    {
      "cell_type": "code",
      "execution_count": null,
      "metadata": {
        "id": "Nbz7pFk_tGTH"
      },
      "outputs": [],
      "source": [
        "import numpy as np\n",
        "import nltk\n",
        "nltk.download('stopwords')\n",
        "import pandas as pd\n",
        "import matplotlib.pyplot as plt\n",
        "from sklearn.model_selection import train_test_split\n",
        "\n",
        "from nltk.corpus import stopwords\n",
        "STOPWORDS = set(stopwords.words('english'))\n",
        "\n",
        "from tensorflow import keras\n",
        "import tensorflow as tf\n",
        "from tensorflow.keras.models import Sequential\n",
        "from tensorflow.keras.preprocessing.text import Tokenizer\n",
        "from tensorflow.keras.preprocessing.sequence import pad_sequences"
      ]
    },
    {
      "cell_type": "markdown",
      "source": [
        "## 2) Set Model Hyperparameters"
      ],
      "metadata": {
        "id": "AyYbSjZIyKpN"
      }
    },
    {
      "cell_type": "code",
      "execution_count": 2,
      "metadata": {
        "id": "Aj7eML586AMb"
      },
      "outputs": [],
      "source": [
        "#Hyperparameters\n",
        "vocab_size = 2000\n",
        "embedding_dim = 64\n",
        "max_length = 500\n",
        "trunc_type = 'post'\n",
        "padding_type = 'post'\n",
        "oov_tok = '<OOV>'\n",
        "training_portion = .8"
      ]
    },
    {
      "cell_type": "markdown",
      "source": [
        "## 3) Load Real Dataset"
      ],
      "metadata": {
        "id": "Z_C6P_nSyRg_"
      }
    },
    {
      "cell_type": "code",
      "execution_count": 3,
      "metadata": {
        "id": "7bl3sH6ZtQFm"
      },
      "outputs": [],
      "source": [
        "# Adding Dataset into articles and labels list\n",
        "articles = []\n",
        "labels = []\n",
        "with open('/content/20ng-train-stemmed.txt') as file:\n",
        "  docs = file.readlines()\n",
        "  for line in docs:\n",
        "    labels.append(line.split('\\t')[0])\n",
        "    article = line.split('\\t')[1]\n",
        "    for word in STOPWORDS:\n",
        "      token = ' ' + word + ' '\n",
        "      article = article.replace(token, ' ')\n",
        "      article = article.replace(' ', ' ')\n",
        "    articles.append(article)"
      ]
    },
    {
      "cell_type": "code",
      "source": [
        "# Clean Label Names\n",
        "labels_new = []\n",
        "for i in labels:\n",
        "  i = i.replace('.', '')\n",
        "  i = i.replace('-', '')\n",
        "  labels_new.append(i)"
      ],
      "metadata": {
        "id": "BHgRDxNCmJrn"
      },
      "execution_count": 4,
      "outputs": []
    },
    {
      "cell_type": "markdown",
      "source": [
        "## 4) Split data into 70% training and 30% validation datasets"
      ],
      "metadata": {
        "id": "k9yC_BsoygJJ"
      }
    },
    {
      "cell_type": "code",
      "source": [
        "train_articles, validation_articles, train_labels, validation_labels = train_test_split(articles, labels_new, test_size=0.3, stratify=labels_new)"
      ],
      "metadata": {
        "id": "Pm-YSCezWZCL"
      },
      "execution_count": 5,
      "outputs": []
    },
    {
      "cell_type": "code",
      "execution_count": 6,
      "metadata": {
        "colab": {
          "base_uri": "https://localhost:8080/"
        },
        "id": "rM0Phhsc8jkw",
        "outputId": "d3fff4e7-08e6-4f99-fd85-b08dc6ad71c6"
      },
      "outputs": [
        {
          "output_type": "stream",
          "name": "stdout",
          "text": [
            "7905\n",
            "7905\n",
            "3388\n",
            "3388\n"
          ]
        }
      ],
      "source": [
        "print(len(train_articles))\n",
        "print(len(train_labels))\n",
        "print(len(validation_articles))\n",
        "print(len(validation_labels))"
      ]
    },
    {
      "cell_type": "code",
      "source": [
        "# Check distribution of training dataset\n",
        "pd.Series(train_labels).value_counts()"
      ],
      "metadata": {
        "colab": {
          "base_uri": "https://localhost:8080/"
        },
        "id": "uVbvpNlvVoAU",
        "outputId": "7b81cca3-8ef8-41ab-ba86-4e598f3f0142"
      },
      "execution_count": 7,
      "outputs": [
        {
          "output_type": "execute_result",
          "data": {
            "text/plain": [
              "recsporthockey          420\n",
              "recmotorcycles          419\n",
              "socreligionchristian    419\n",
              "recsportbaseball        418\n",
              "scicrypt                416\n",
              "scimed                  416\n",
              "recautos                416\n",
              "scispace                415\n",
              "compwindowsx            415\n",
              "scielectronics          414\n",
              "compsysibmpchardware    413\n",
              "miscforsale             409\n",
              "compgraphics            409\n",
              "compsysmachardware      405\n",
              "composmswindowsmisc     400\n",
              "talkpoliticsmideast     395\n",
              "talkpoliticsguns        381\n",
              "altatheism              336\n",
              "talkpoliticsmisc        325\n",
              "talkreligionmisc        264\n",
              "dtype: int64"
            ]
          },
          "metadata": {},
          "execution_count": 7
        }
      ]
    },
    {
      "cell_type": "code",
      "source": [
        " # Check distribution of validation dataset\n",
        " pd.Series(validation_labels).value_counts()"
      ],
      "metadata": {
        "colab": {
          "base_uri": "https://localhost:8080/"
        },
        "id": "j2PZgN7-dQnv",
        "outputId": "105c5dae-3e7a-4e7b-9873-26983477a305"
      },
      "execution_count": 8,
      "outputs": [
        {
          "output_type": "execute_result",
          "data": {
            "text/plain": [
              "recsporthockey          180\n",
              "scicrypt                179\n",
              "socreligionchristian    179\n",
              "recsportbaseball        179\n",
              "recmotorcycles          179\n",
              "scispace                178\n",
              "scimed                  178\n",
              "recautos                178\n",
              "compwindowsx            178\n",
              "compsysibmpchardware    177\n",
              "scielectronics          177\n",
              "miscforsale             176\n",
              "compgraphics            175\n",
              "compsysmachardware      173\n",
              "composmswindowsmisc     172\n",
              "talkpoliticsmideast     169\n",
              "talkpoliticsguns        164\n",
              "altatheism              144\n",
              "talkpoliticsmisc        140\n",
              "talkreligionmisc        113\n",
              "dtype: int64"
            ]
          },
          "metadata": {},
          "execution_count": 8
        }
      ]
    },
    {
      "cell_type": "markdown",
      "source": [
        "## 5a) Tokenization and Vectorization - Articles"
      ],
      "metadata": {
        "id": "B2e-79W5y0IM"
      }
    },
    {
      "cell_type": "code",
      "execution_count": 9,
      "metadata": {
        "colab": {
          "base_uri": "https://localhost:8080/"
        },
        "id": "9Nqv14ys6eTz",
        "outputId": "7a4a9b8c-8e91-42db-fd7b-09af71ba5484"
      },
      "outputs": [
        {
          "output_type": "stream",
          "name": "stdout",
          "text": [
            "[575, 137, 18, 1, 3, 1, 1, 3, 842, 1, 4, 5, 18, 1, 1, 1, 1, 771, 1, 1, 1696, 731, 4, 361, 1, 1439, 2, 218, 789, 1771, 1716, 1, 238, 489, 1, 115, 1440, 58, 1671, 137, 1, 110, 1771, 238, 1361, 489, 1, 1, 1, 92, 1515, 1, 58, 1771, 238, 489, 935, 12, 489, 575, 116, 393, 1995, 1996, 817, 195, 137, 31, 354, 69, 137, 58, 1019, 554, 6, 1887, 362, 172, 575, 527, 1238, 1887, 28, 550, 41, 7, 875, 575, 266, 186, 564, 918, 1117, 489, 575, 29, 1, 1117, 15, 1, 8, 41, 129, 28, 550, 28, 575, 1887, 28, 550, 778, 137, 1, 28, 1051, 179, 1042, 1238, 1887, 575, 1515, 1064, 58, 926, 95, 134, 1064, 44, 4, 1064, 575, 9, 575, 134, 209, 1, 575, 31, 115, 1, 1]\n",
            "[1, 5, 18, 1, 3, 1, 1, 3, 1, 1, 4, 1, 1, 1835, 509, 6, 502, 1086, 1350, 1086, 1]\n"
          ]
        }
      ],
      "source": [
        "# Tokenize articles for training datasets\n",
        "tokenizer = Tokenizer(num_words = vocab_size, oov_token=oov_tok)\n",
        "tokenizer.fit_on_texts(train_articles)\n",
        "train_sequences = tokenizer.texts_to_sequences(train_articles)\n",
        "validation_sequences = tokenizer.texts_to_sequences(validation_articles)\n",
        "\n",
        "print(train_sequences[10])\n",
        "print(validation_sequences[10])"
      ]
    },
    {
      "cell_type": "code",
      "execution_count": 10,
      "metadata": {
        "colab": {
          "base_uri": "https://localhost:8080/"
        },
        "id": "-OJgosYj7Ash",
        "outputId": "0a3c4e68-7d55-4249-d462-d0a8b0e5628c"
      },
      "outputs": [
        {
          "output_type": "stream",
          "name": "stdout",
          "text": [
            "92\n",
            "500\n",
            "34\n",
            "500\n",
            "141\n",
            "500\n",
            "21\n",
            "500\n"
          ]
        }
      ],
      "source": [
        "# Padding to the end of the training and validation articles\n",
        "train_padded = pad_sequences(train_sequences, maxlen=max_length, padding=padding_type, truncating=trunc_type)\n",
        "validation_padded = pad_sequences(validation_sequences, maxlen=max_length, padding=padding_type, truncating=trunc_type)\n",
        "\n",
        "print(len(train_sequences[0]))\n",
        "print(len(train_padded[0]))\n",
        "\n",
        "print(len(train_sequences[1]))\n",
        "print(len(train_padded[1]))\n",
        "\n",
        "print(len(train_sequences[10]))\n",
        "print(len(train_padded[10]))\n",
        "\n",
        "print(len(validation_sequences[10]))\n",
        "print(len(validation_padded[10]))"
      ]
    },
    {
      "cell_type": "markdown",
      "source": [
        "## 5b) Tokenization and Vectorization - Labels"
      ],
      "metadata": {
        "id": "Y9t-oTWUzhDa"
      }
    },
    {
      "cell_type": "code",
      "execution_count": 11,
      "metadata": {
        "colab": {
          "base_uri": "https://localhost:8080/"
        },
        "id": "PNtlnmms9Qv7",
        "outputId": "5c572f83-7c51-4592-bc12-25e955253d59"
      },
      "outputs": [
        {
          "output_type": "stream",
          "name": "stdout",
          "text": [
            "[10]\n",
            "[2]\n",
            "[4]\n",
            "(7905, 1)\n",
            "[2]\n",
            "[13]\n",
            "[18]\n",
            "(3388, 1)\n"
          ]
        }
      ],
      "source": [
        "label_tokenizer = Tokenizer()\n",
        "label_tokenizer.fit_on_texts(labels_new)\n",
        "training_label_seq = np.asarray(label_tokenizer.texts_to_sequences(train_labels))\n",
        "validation_label_seq = np.asarray(label_tokenizer.texts_to_sequences(validation_labels))\n",
        "print(training_label_seq[0])\n",
        "print(training_label_seq[1])\n",
        "print(training_label_seq[2])\n",
        "print(training_label_seq.shape)\n",
        "\n",
        "print(validation_label_seq[0])\n",
        "print(validation_label_seq[1])\n",
        "print(validation_label_seq[2])\n",
        "print(validation_label_seq.shape)"
      ]
    },
    {
      "cell_type": "markdown",
      "source": [
        "## 6) Model Building"
      ],
      "metadata": {
        "id": "aY5dhJ7Uzttt"
      }
    },
    {
      "cell_type": "code",
      "execution_count": 12,
      "metadata": {
        "colab": {
          "base_uri": "https://localhost:8080/"
        },
        "id": "pEk37J04AObX",
        "outputId": "4f11389e-7fec-42a9-d602-f6390636cddc"
      },
      "outputs": [
        {
          "output_type": "stream",
          "name": "stdout",
          "text": [
            "Model: \"sequential\"\n",
            "_________________________________________________________________\n",
            " Layer (type)                Output Shape              Param #   \n",
            "=================================================================\n",
            " embedding (Embedding)       (None, None, 64)          128000    \n",
            "                                                                 \n",
            " bidirectional (Bidirectiona  (None, 128)              66048     \n",
            " l)                                                              \n",
            "                                                                 \n",
            " dense (Dense)               (None, 64)                8256      \n",
            "                                                                 \n",
            " dense_1 (Dense)             (None, 32)                2080      \n",
            "                                                                 \n",
            "=================================================================\n",
            "Total params: 204,384\n",
            "Trainable params: 204,384\n",
            "Non-trainable params: 0\n",
            "_________________________________________________________________\n"
          ]
        }
      ],
      "source": [
        "model = tf.keras.Sequential([\n",
        "    # Add an Embedding layer expecting input vocab of size 2000, and output embedding dimension of size 64\n",
        "    tf.keras.layers.Embedding(vocab_size, embedding_dim),\n",
        "    tf.keras.layers.Bidirectional(tf.keras.layers.LSTM(embedding_dim)),\n",
        "    tf.keras.layers.Dense(embedding_dim, activation='relu'),\n",
        "    tf.keras.layers.Dense(32, activation='softmax')\n",
        "])\n",
        "model.summary()"
      ]
    },
    {
      "cell_type": "code",
      "source": [
        "[print(i.shape, i.dtype) for i in model.inputs]\n",
        "[print(o.shape, o.dtype) for o in model.outputs]\n",
        "[print(l.name, l.input_shape, l.dtype) for l in model.layers]"
      ],
      "metadata": {
        "colab": {
          "base_uri": "https://localhost:8080/"
        },
        "id": "m7QyMUS00BhU",
        "outputId": "e21647d4-2b57-4aa7-e8ae-918104ffaef7"
      },
      "execution_count": 13,
      "outputs": [
        {
          "output_type": "stream",
          "name": "stdout",
          "text": [
            "(None, None) <dtype: 'float32'>\n",
            "(None, 32) <dtype: 'float32'>\n",
            "embedding (None, None) float32\n",
            "bidirectional (None, None, 64) float32\n",
            "dense (None, 128) float32\n",
            "dense_1 (None, 64) float32\n"
          ]
        },
        {
          "output_type": "execute_result",
          "data": {
            "text/plain": [
              "[None, None, None, None]"
            ]
          },
          "metadata": {},
          "execution_count": 13
        }
      ]
    },
    {
      "cell_type": "code",
      "execution_count": 14,
      "metadata": {
        "colab": {
          "base_uri": "https://localhost:8080/"
        },
        "id": "k3Tz3RjBBTkL",
        "outputId": "406db6d1-7586-498d-b207-7b1231363829"
      },
      "outputs": [
        {
          "output_type": "stream",
          "name": "stdout",
          "text": [
            "(7905, 500)\n",
            "(7905, 1)\n",
            "(3388, 500)\n",
            "(3388, 1)\n"
          ]
        }
      ],
      "source": [
        "# Check dataset before model fitting\n",
        "print(train_padded.shape)\n",
        "print(training_label_seq.shape)\n",
        "print(validation_padded.shape)\n",
        "print(validation_label_seq.shape)"
      ]
    },
    {
      "cell_type": "code",
      "execution_count": 15,
      "metadata": {
        "colab": {
          "base_uri": "https://localhost:8080/"
        },
        "id": "SGGa_ixyF5OW",
        "outputId": "6176eb6c-8663-42e7-aec8-f2c3b0a13e72"
      },
      "outputs": [
        {
          "output_type": "stream",
          "name": "stdout",
          "text": [
            "<class 'numpy.ndarray'>\n",
            "<class 'numpy.ndarray'>\n",
            "<class 'numpy.ndarray'>\n",
            "<class 'numpy.ndarray'>\n"
          ]
        }
      ],
      "source": [
        "# Check dataset before model fitting\n",
        "print(type(train_padded))\n",
        "print(type(training_label_seq))\n",
        "print(type(validation_padded))\n",
        "print(type(validation_label_seq))"
      ]
    },
    {
      "cell_type": "markdown",
      "source": [
        "## 6) Model Validation"
      ],
      "metadata": {
        "id": "H8WM5tJVcjsP"
      }
    },
    {
      "cell_type": "code",
      "execution_count": 16,
      "metadata": {
        "id": "JWxWZyvAAYtm",
        "colab": {
          "base_uri": "https://localhost:8080/"
        },
        "outputId": "388cc54e-defa-49ab-9d2b-d8bbf5a0bcec"
      },
      "outputs": [
        {
          "output_type": "stream",
          "name": "stdout",
          "text": [
            "Epoch 1/10\n",
            "248/248 - 62s - loss: 2.8051 - accuracy: 0.1183 - val_loss: 2.3026 - val_accuracy: 0.2264 - 62s/epoch - 249ms/step\n",
            "Epoch 2/10\n",
            "248/248 - 54s - loss: 1.9167 - accuracy: 0.3515 - val_loss: 1.6684 - val_accuracy: 0.4268 - 54s/epoch - 218ms/step\n",
            "Epoch 3/10\n",
            "248/248 - 54s - loss: 1.3058 - accuracy: 0.5782 - val_loss: 1.3241 - val_accuracy: 0.5714 - 54s/epoch - 216ms/step\n",
            "Epoch 4/10\n",
            "248/248 - 54s - loss: 0.9070 - accuracy: 0.7169 - val_loss: 1.0894 - val_accuracy: 0.6738 - 54s/epoch - 217ms/step\n",
            "Epoch 5/10\n",
            "248/248 - 53s - loss: 0.6724 - accuracy: 0.7933 - val_loss: 0.9411 - val_accuracy: 0.7226 - 53s/epoch - 215ms/step\n",
            "Epoch 6/10\n",
            "248/248 - 54s - loss: 0.5029 - accuracy: 0.8457 - val_loss: 0.9400 - val_accuracy: 0.7521 - 54s/epoch - 217ms/step\n",
            "Epoch 7/10\n",
            "248/248 - 54s - loss: 0.4168 - accuracy: 0.8732 - val_loss: 0.9238 - val_accuracy: 0.7594 - 54s/epoch - 216ms/step\n",
            "Epoch 8/10\n",
            "248/248 - 54s - loss: 0.3543 - accuracy: 0.8896 - val_loss: 0.9317 - val_accuracy: 0.7718 - 54s/epoch - 216ms/step\n",
            "Epoch 9/10\n",
            "248/248 - 54s - loss: 0.2690 - accuracy: 0.9197 - val_loss: 0.9387 - val_accuracy: 0.7772 - 54s/epoch - 216ms/step\n",
            "Epoch 10/10\n",
            "248/248 - 54s - loss: 0.2505 - accuracy: 0.9273 - val_loss: 0.9359 - val_accuracy: 0.7875 - 54s/epoch - 216ms/step\n"
          ]
        }
      ],
      "source": [
        "model.compile(loss='sparse_categorical_crossentropy', optimizer='adam', metrics=['accuracy'])\n",
        "num_epochs = 10\n",
        "history = model.fit(train_padded, training_label_seq, epochs=num_epochs, validation_data=(validation_padded, validation_label_seq), verbose=2)"
      ]
    },
    {
      "cell_type": "markdown",
      "source": [
        "## 7) Model Evaluation"
      ],
      "metadata": {
        "id": "Hi0cbKbB0LtQ"
      }
    },
    {
      "cell_type": "code",
      "source": [
        "score = model.evaluate(validation_padded, validation_label_seq, verbose=10)\n",
        "\n",
        "print(\"Loss: %.3f \\nAccuracy: %.3f\" % (score[0], score[1]))"
      ],
      "metadata": {
        "colab": {
          "base_uri": "https://localhost:8080/"
        },
        "id": "rXqI2UJYvojM",
        "outputId": "03e0ad78-0388-439f-c12d-a77e4a0e26a3"
      },
      "execution_count": 17,
      "outputs": [
        {
          "output_type": "stream",
          "name": "stdout",
          "text": [
            "Loss: 0.936 \n",
            "Accuracy: 0.787\n"
          ]
        }
      ]
    },
    {
      "cell_type": "code",
      "source": [
        "LABELS = ['altatheism', 'compgraphics', 'composmswindowsmisc', 'compsysibmpchardware', 'compsysmachardware', 'compwindowsx', 'miscforsale', 'recautos', 'recmotorcycles', 'recsportbaseball',\n",
        "              'recsporthockey', 'scicrypt', 'scielectronics', 'scimed', 'scispace', 'socreligionchristian', 'talkpoliticsguns', 'talkpoliticsmideast', 'talkpoliticsmisc', 'talkreligionmisc']"
      ],
      "metadata": {
        "id": "OkOdTPO8X1W4"
      },
      "execution_count": 18,
      "outputs": []
    },
    {
      "cell_type": "code",
      "source": [
        "from sklearn.metrics import classification_report\n",
        "\n",
        "y_pred = model.predict(validation_padded, batch_size=64, verbose=10)\n",
        "y_pred_bool = np.argmax(y_pred, axis=1)\n",
        "print(classification_report(validation_label_seq.copy(), y_pred_bool.copy(), target_names=LABELS))"
      ],
      "metadata": {
        "colab": {
          "base_uri": "https://localhost:8080/"
        },
        "id": "nHDrH_IPw5AI",
        "outputId": "6333f8c9-0e61-4092-fc24-9d84bf92bf8c"
      },
      "execution_count": 19,
      "outputs": [
        {
          "output_type": "stream",
          "name": "stdout",
          "text": [
            "                      precision    recall  f1-score   support\n",
            "\n",
            "          altatheism       0.92      0.89      0.90       180\n",
            "        compgraphics       0.82      0.85      0.84       179\n",
            " composmswindowsmisc       0.87      0.79      0.82       179\n",
            "compsysibmpchardware       0.79      0.84      0.82       179\n",
            "  compsysmachardware       0.88      0.88      0.88       179\n",
            "        compwindowsx       0.82      0.78      0.80       178\n",
            "         miscforsale       0.79      0.78      0.79       178\n",
            "            recautos       0.78      0.81      0.79       178\n",
            "      recmotorcycles       0.83      0.88      0.85       178\n",
            "    recsportbaseball       0.73      0.68      0.70       177\n",
            "      recsporthockey       0.75      0.54      0.63       177\n",
            "            scicrypt       0.67      0.69      0.68       176\n",
            "      scielectronics       0.55      0.66      0.60       175\n",
            "              scimed       0.77      0.76      0.76       173\n",
            "            scispace       0.72      0.79      0.75       172\n",
            "socreligionchristian       0.87      0.91      0.89       169\n",
            "    talkpoliticsguns       0.82      0.89      0.86       164\n",
            " talkpoliticsmideast       0.85      0.85      0.85       144\n",
            "    talkpoliticsmisc       0.82      0.76      0.79       140\n",
            "    talkreligionmisc       0.76      0.73      0.74       113\n",
            "\n",
            "            accuracy                           0.79      3388\n",
            "           macro avg       0.79      0.79      0.79      3388\n",
            "        weighted avg       0.79      0.79      0.79      3388\n",
            "\n"
          ]
        }
      ]
    },
    {
      "cell_type": "code",
      "source": [
        "# Plot graphs for accuracy and loss\n",
        "def plot_graphs(history, string):\n",
        "  plt.plot(history.history[string])\n",
        "  plt.plot(history.history['val_'+string])\n",
        "  plt.xlabel(\"Epochs\")\n",
        "  plt.ylabel(string)\n",
        "  plt.legend([string, 'val_'+string])\n",
        "  plt.show()\n",
        "  \n",
        "plot_graphs(history, \"accuracy\")\n",
        "plot_graphs(history, \"loss\")"
      ],
      "metadata": {
        "colab": {
          "base_uri": "https://localhost:8080/",
          "height": 541
        },
        "id": "EA20eH5o9xt0",
        "outputId": "723f1041-3cfa-4329-8560-8c54e3a07fe4"
      },
      "execution_count": 20,
      "outputs": [
        {
          "output_type": "display_data",
          "data": {
            "image/png": "[encoded data removed]",
            "text/plain": [
              "<Figure size 432x288 with 1 Axes>"
            ]
          },
          "metadata": {
            "needs_background": "light"
          }
        },
        {
          "output_type": "display_data",
          "data": {
            "image/png": "[encoded data removed]",
            "text/plain": [
              "<Figure size 432x288 with 1 Axes>"
            ]
          },
          "metadata": {
            "needs_background": "light"
          }
        }
      ]
    }
  ],
  "metadata": {
    "colab": {
      "collapsed_sections": [],
      "name": "lstm_v1.ipynb",
      "provenance": [],
      "authorship_tag": "ABX9TyO+yqSny7kijvjzMeaOvTn4",
      "include_colab_link": true
    },
    "kernelspec": {
      "display_name": "Python 3",
      "name": "python3"
    },
    "language_info": {
      "name": "python"
    },
    "accelerator": "GPU"
  },
  "nbformat": 4,
  "nbformat_minor": 0
}