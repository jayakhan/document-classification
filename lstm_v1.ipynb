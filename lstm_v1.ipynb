{
  "cells": [
    {
      "cell_type": "markdown",
      "metadata": {
        "id": "view-in-github",
        "colab_type": "text"
      },
      "source": [
        "<a href=\"https://colab.research.google.com/github/jayakhan/document-classification/blob/main/lstm_v1.ipynb\" target=\"_parent\"><img src=\"https://colab.research.google.com/assets/colab-badge.svg\" alt=\"Open In Colab\"/></a>"
      ]
    },
    {
      "cell_type": "markdown",
      "source": [
        "## Import Libraries"
      ],
      "metadata": {
        "id": "OMv-jNrCyAw4"
      }
    },
    {
      "cell_type": "code",
      "execution_count": null,
      "metadata": {
        "id": "Nbz7pFk_tGTH"
      },
      "outputs": [],
      "source": [
        "import numpy as np\n",
        "import nltk\n",
        "nltk.download('stopwords')\n",
        "import pandas as pd\n",
        "import matplotlib.pyplot as plt\n",
        "from sklearn.model_selection import train_test_split\n",
        "\n",
        "from nltk.corpus import stopwords\n",
        "STOPWORDS = set(stopwords.words('english'))\n",
        "\n",
        "from tensorflow import keras\n",
        "import tensorflow as tf\n",
        "from tensorflow.keras.models import Sequential\n",
        "from tensorflow.keras.preprocessing.text import Tokenizer\n",
        "from tensorflow.keras.preprocessing.sequence import pad_sequences"
      ]
    },
    {
      "cell_type": "markdown",
      "source": [
        "## Set Model Hyperparameters"
      ],
      "metadata": {
        "id": "AyYbSjZIyKpN"
      }
    },
    {
      "cell_type": "code",
      "execution_count": 38,
      "metadata": {
        "id": "Aj7eML586AMb"
      },
      "outputs": [],
      "source": [
        "#Hyperparameters\n",
        "vocab_size = 2000\n",
        "embedding_dim = 64\n",
        "max_length = 500\n",
        "trunc_type = 'post'\n",
        "padding_type = 'post'\n",
        "oov_tok = '<OOV>'\n",
        "training_portion = .8"
      ]
    },
    {
      "cell_type": "markdown",
      "source": [
        "## Load Real Dataset"
      ],
      "metadata": {
        "id": "Z_C6P_nSyRg_"
      }
    },
    {
      "cell_type": "code",
      "execution_count": 39,
      "metadata": {
        "id": "7bl3sH6ZtQFm"
      },
      "outputs": [],
      "source": [
        "articles = []\n",
        "labels = []\n",
        "with open('/content/20ng-train-stemmed.txt') as file:\n",
        "  docs = file.readlines()\n",
        "  for line in docs:\n",
        "    labels.append(line.split('\\t')[0])\n",
        "    article = line.split('\\t')[1]\n",
        "    for word in STOPWORDS:\n",
        "      token = ' ' + word + ' '\n",
        "      article = article.replace(token, ' ')\n",
        "      article = article.replace(' ', ' ')\n",
        "    articles.append(article)"
      ]
    },
    {
      "cell_type": "code",
      "source": [
        "labels_new = []\n",
        "for i in labels:\n",
        "  i = i.replace('.', '')\n",
        "  i = i.replace('-', '')\n",
        "  labels_new.append(i)"
      ],
      "metadata": {
        "id": "BHgRDxNCmJrn"
      },
      "execution_count": 40,
      "outputs": []
    },
    {
      "cell_type": "markdown",
      "source": [
        "## Split data into training and validation"
      ],
      "metadata": {
        "id": "k9yC_BsoygJJ"
      }
    },
    {
      "cell_type": "code",
      "source": [
        "train_articles, validation_articles, train_labels, validation_labels = train_test_split(articles, labels_new, test_size=0.3, stratify=labels_new)"
      ],
      "metadata": {
        "id": "Pm-YSCezWZCL"
      },
      "execution_count": 41,
      "outputs": []
    },
    {
      "cell_type": "code",
      "execution_count": 42,
      "metadata": {
        "colab": {
          "base_uri": "https://localhost:8080/"
        },
        "id": "rM0Phhsc8jkw",
        "outputId": "093d475f-4e78-4405-dbbb-369b01d94347"
      },
      "outputs": [
        {
          "output_type": "stream",
          "name": "stdout",
          "text": [
            "7905\n",
            "7905\n",
            "3388\n",
            "3388\n"
          ]
        }
      ],
      "source": [
        "print(len(train_articles))\n",
        "print(len(train_labels))\n",
        "print(len(validation_articles))\n",
        "print(len(validation_labels))"
      ]
    },
    {
      "cell_type": "markdown",
      "source": [
        "## Check distribution of training and validation datasets"
      ],
      "metadata": {
        "id": "zEVuMd2tdImc"
      }
    },
    {
      "cell_type": "code",
      "source": [
        "pd.Series(train_labels).value_counts()"
      ],
      "metadata": {
        "colab": {
          "base_uri": "https://localhost:8080/"
        },
        "id": "uVbvpNlvVoAU",
        "outputId": "7269097d-c323-43c6-8a4d-f5671d8bc24a"
      },
      "execution_count": 43,
      "outputs": [
        {
          "output_type": "execute_result",
          "data": {
            "text/plain": [
              "recsporthockey          420\n",
              "socreligionchristian    419\n",
              "recmotorcycles          419\n",
              "recsportbaseball        418\n",
              "recautos                416\n",
              "scicrypt                416\n",
              "scimed                  416\n",
              "compwindowsx            415\n",
              "scispace                415\n",
              "scielectronics          414\n",
              "compsysibmpchardware    413\n",
              "miscforsale             409\n",
              "compgraphics            409\n",
              "compsysmachardware      405\n",
              "composmswindowsmisc     400\n",
              "talkpoliticsmideast     395\n",
              "talkpoliticsguns        381\n",
              "altatheism              336\n",
              "talkpoliticsmisc        325\n",
              "talkreligionmisc        264\n",
              "dtype: int64"
            ]
          },
          "metadata": {},
          "execution_count": 43
        }
      ]
    },
    {
      "cell_type": "code",
      "source": [
        "pd.Series(validation_labels).value_counts()"
      ],
      "metadata": {
        "colab": {
          "base_uri": "https://localhost:8080/"
        },
        "id": "j2PZgN7-dQnv",
        "outputId": "cbd4c3aa-c75f-4d9b-8e49-d5e61354c75a"
      },
      "execution_count": 60,
      "outputs": [
        {
          "output_type": "execute_result",
          "data": {
            "text/plain": [
              "recsporthockey          180\n",
              "recmotorcycles          179\n",
              "scicrypt                179\n",
              "socreligionchristian    179\n",
              "recsportbaseball        179\n",
              "scispace                178\n",
              "recautos                178\n",
              "scimed                  178\n",
              "compwindowsx            178\n",
              "compsysibmpchardware    177\n",
              "scielectronics          177\n",
              "miscforsale             176\n",
              "compgraphics            175\n",
              "compsysmachardware      173\n",
              "composmswindowsmisc     172\n",
              "talkpoliticsmideast     169\n",
              "talkpoliticsguns        164\n",
              "altatheism              144\n",
              "talkpoliticsmisc        140\n",
              "talkreligionmisc        113\n",
              "dtype: int64"
            ]
          },
          "metadata": {},
          "execution_count": 60
        }
      ]
    },
    {
      "cell_type": "markdown",
      "source": [
        "## Tokenization and Sequencing - Articles"
      ],
      "metadata": {
        "id": "B2e-79W5y0IM"
      }
    },
    {
      "cell_type": "code",
      "execution_count": 45,
      "metadata": {
        "colab": {
          "base_uri": "https://localhost:8080/"
        },
        "id": "9Nqv14ys6eTz",
        "outputId": "9de0097e-81ec-4ba5-b4b6-0d61c4bdcb76"
      },
      "outputs": [
        {
          "output_type": "stream",
          "name": "stdout",
          "text": [
            "[265, 1854, 5, 1, 1, 1, 1, 1, 1, 4, 22, 36, 265, 1854, 232, 12, 1855, 1, 12, 1, 1, 1, 1, 1951, 785, 1, 1, 684, 1, 1186, 1, 1, 1884, 372, 49, 1, 1, 1, 1, 1, 1]\n",
            "[1, 73, 1625, 788, 1, 1, 198, 1996, 1, 4, 170, 82, 1535, 788, 875, 16, 1, 93, 87, 900, 1, 1, 1, 83, 8, 398, 1535, 1, 537, 1, 1, 762, 57, 1, 1, 11, 292, 10, 1291, 1, 148, 12, 1, 1050, 16, 97, 237, 1, 12, 1971, 591, 1, 1218, 1256, 57, 203, 1, 788, 2, 10, 918, 1, 112, 1, 1, 1060, 1478, 1, 1, 2, 72, 178, 277, 229, 1]\n"
          ]
        }
      ],
      "source": [
        "# Tokenize articles for training datasets\n",
        "tokenizer = Tokenizer(num_words = vocab_size, oov_token=oov_tok)\n",
        "tokenizer.fit_on_texts(train_articles)\n",
        "train_sequences = tokenizer.texts_to_sequences(train_articles)\n",
        "validation_sequences = tokenizer.texts_to_sequences(validation_articles)\n",
        "\n",
        "print(train_sequences[10])\n",
        "print(validation_sequences[10])"
      ]
    },
    {
      "cell_type": "code",
      "execution_count": 46,
      "metadata": {
        "colab": {
          "base_uri": "https://localhost:8080/"
        },
        "id": "-OJgosYj7Ash",
        "outputId": "e537d559-1b60-4890-8d06-17652d36e908"
      },
      "outputs": [
        {
          "output_type": "stream",
          "name": "stdout",
          "text": [
            "51\n",
            "500\n",
            "198\n",
            "500\n",
            "41\n",
            "500\n",
            "75\n",
            "500\n"
          ]
        }
      ],
      "source": [
        "# Padding to the end of the training and validation articles\n",
        "train_padded = pad_sequences(train_sequences, maxlen=max_length, padding=padding_type, truncating=trunc_type)\n",
        "validation_padded = pad_sequences(validation_sequences, maxlen=max_length, padding=padding_type, truncating=trunc_type)\n",
        "\n",
        "print(len(train_sequences[0]))\n",
        "print(len(train_padded[0]))\n",
        "\n",
        "print(len(train_sequences[1]))\n",
        "print(len(train_padded[1]))\n",
        "\n",
        "print(len(train_sequences[10]))\n",
        "print(len(train_padded[10]))\n",
        "\n",
        "print(len(validation_sequences[10]))\n",
        "print(len(validation_padded[10]))"
      ]
    },
    {
      "cell_type": "markdown",
      "source": [
        "## Tokenization and Sequencing - Labels"
      ],
      "metadata": {
        "id": "Y9t-oTWUzhDa"
      }
    },
    {
      "cell_type": "code",
      "execution_count": 47,
      "metadata": {
        "colab": {
          "base_uri": "https://localhost:8080/"
        },
        "id": "PNtlnmms9Qv7",
        "outputId": "d19c0737-052b-4cbe-cc87-d6d7ff13ff5d"
      },
      "outputs": [
        {
          "output_type": "stream",
          "name": "stdout",
          "text": [
            "[20.]\n",
            "[5.]\n",
            "[20.]\n",
            "(7905, 1)\n",
            "[15.]\n",
            "[15.]\n",
            "[12.]\n",
            "(3388, 1)\n"
          ]
        }
      ],
      "source": [
        "label_tokenizer = Tokenizer()\n",
        "label_tokenizer.fit_on_texts(labels_new)\n",
        "training_label_seq = np.asarray(label_tokenizer.texts_to_sequences(train_labels)).astype('float32')\n",
        "validation_label_seq = np.asarray(label_tokenizer.texts_to_sequences(validation_labels)).astype('float32')\n",
        "print(training_label_seq[0])\n",
        "print(training_label_seq[1])\n",
        "print(training_label_seq[2])\n",
        "print(training_label_seq.shape)\n",
        "\n",
        "print(validation_label_seq[0])\n",
        "print(validation_label_seq[1])\n",
        "print(validation_label_seq[2])\n",
        "print(validation_label_seq.shape)"
      ]
    },
    {
      "cell_type": "markdown",
      "source": [
        "## Model Building"
      ],
      "metadata": {
        "id": "aY5dhJ7Uzttt"
      }
    },
    {
      "cell_type": "code",
      "execution_count": 53,
      "metadata": {
        "colab": {
          "base_uri": "https://localhost:8080/"
        },
        "id": "pEk37J04AObX",
        "outputId": "b43d00e5-486f-4391-991a-5af49dfefe95"
      },
      "outputs": [
        {
          "output_type": "stream",
          "name": "stdout",
          "text": [
            "Model: \"sequential_3\"\n",
            "_________________________________________________________________\n",
            " Layer (type)                Output Shape              Param #   \n",
            "=================================================================\n",
            " embedding_3 (Embedding)     (None, None, 64)          128000    \n",
            "                                                                 \n",
            " bidirectional_3 (Bidirectio  (None, 128)              66048     \n",
            " nal)                                                            \n",
            "                                                                 \n",
            " dense_6 (Dense)             (None, 64)                8256      \n",
            "                                                                 \n",
            " dense_7 (Dense)             (None, 32)                2080      \n",
            "                                                                 \n",
            "=================================================================\n",
            "Total params: 204,384\n",
            "Trainable params: 204,384\n",
            "Non-trainable params: 0\n",
            "_________________________________________________________________\n"
          ]
        }
      ],
      "source": [
        "model = tf.keras.Sequential([\n",
        "    # Add an Embedding layer expecting input vocab of size 2000, and output embedding dimension of size 64 we set at the top\n",
        "    tf.keras.layers.Embedding(vocab_size, embedding_dim),\n",
        "    tf.keras.layers.Bidirectional(tf.keras.layers.LSTM(embedding_dim)),\n",
        "    tf.keras.layers.Dense(embedding_dim, activation='relu'),\n",
        "    tf.keras.layers.Dense(32, activation='softmax')\n",
        "])\n",
        "model.summary()"
      ]
    },
    {
      "cell_type": "code",
      "source": [
        "[print(i.shape, i.dtype) for i in model.inputs]\n",
        "[print(o.shape, o.dtype) for o in model.outputs]\n",
        "[print(l.name, l.input_shape, l.dtype) for l in model.layers]"
      ],
      "metadata": {
        "colab": {
          "base_uri": "https://localhost:8080/"
        },
        "id": "m7QyMUS00BhU",
        "outputId": "13de651f-9423-4b69-cc8c-c560d768ec49"
      },
      "execution_count": 49,
      "outputs": [
        {
          "output_type": "stream",
          "name": "stdout",
          "text": [
            "(None, None) <dtype: 'float32'>\n",
            "(None, 32) <dtype: 'float32'>\n",
            "embedding_2 (None, None) float32\n",
            "dropout_6 (None, None, 64) float32\n",
            "bidirectional_2 (None, None, 64) float32\n",
            "dropout_7 (None, 128) float32\n",
            "dense_4 (None, 128) float32\n",
            "dropout_8 (None, 64) float32\n",
            "dense_5 (None, 64) float32\n"
          ]
        },
        {
          "output_type": "execute_result",
          "data": {
            "text/plain": [
              "[None, None, None, None, None, None, None]"
            ]
          },
          "metadata": {},
          "execution_count": 49
        }
      ]
    },
    {
      "cell_type": "markdown",
      "source": [
        "## Check dataset before model fitting"
      ],
      "metadata": {
        "id": "XOuBzxdEz32n"
      }
    },
    {
      "cell_type": "code",
      "execution_count": 50,
      "metadata": {
        "colab": {
          "base_uri": "https://localhost:8080/"
        },
        "id": "k3Tz3RjBBTkL",
        "outputId": "94bfc2b6-8f0e-43c5-b2ee-ef1816085fd3"
      },
      "outputs": [
        {
          "output_type": "stream",
          "name": "stdout",
          "text": [
            "(7905, 500)\n",
            "(7905, 1)\n",
            "(3388, 500)\n",
            "(3388, 1)\n"
          ]
        }
      ],
      "source": [
        "print(train_padded.shape)\n",
        "print(training_label_seq.shape)\n",
        "print(validation_padded.shape)\n",
        "print(validation_label_seq.shape)"
      ]
    },
    {
      "cell_type": "code",
      "execution_count": 51,
      "metadata": {
        "colab": {
          "base_uri": "https://localhost:8080/"
        },
        "id": "SGGa_ixyF5OW",
        "outputId": "d523bbbd-d001-48c4-df17-7abca97ce228"
      },
      "outputs": [
        {
          "output_type": "stream",
          "name": "stdout",
          "text": [
            "<class 'numpy.ndarray'>\n",
            "<class 'numpy.ndarray'>\n",
            "<class 'numpy.ndarray'>\n",
            "<class 'numpy.ndarray'>\n"
          ]
        }
      ],
      "source": [
        "print(type(train_padded))\n",
        "print(type(training_label_seq))\n",
        "print(type(validation_padded))\n",
        "print(type(validation_label_seq))"
      ]
    },
    {
      "cell_type": "code",
      "execution_count": 54,
      "metadata": {
        "id": "JWxWZyvAAYtm",
        "colab": {
          "base_uri": "https://localhost:8080/"
        },
        "outputId": "2da84657-8dde-424b-87e9-1496910c5956"
      },
      "outputs": [
        {
          "output_type": "stream",
          "name": "stdout",
          "text": [
            "Epoch 1/10\n",
            "248/248 - 59s - loss: 2.7753 - accuracy: 0.1336 - val_loss: 2.0728 - val_accuracy: 0.3427 - 59s/epoch - 237ms/step\n",
            "Epoch 2/10\n",
            "248/248 - 54s - loss: 1.5759 - accuracy: 0.4673 - val_loss: 1.5149 - val_accuracy: 0.4867 - 54s/epoch - 218ms/step\n",
            "Epoch 3/10\n",
            "248/248 - 54s - loss: 1.0147 - accuracy: 0.6745 - val_loss: 1.1058 - val_accuracy: 0.6656 - 54s/epoch - 218ms/step\n",
            "Epoch 4/10\n",
            "248/248 - 54s - loss: 0.7187 - accuracy: 0.7819 - val_loss: 1.0410 - val_accuracy: 0.6989 - 54s/epoch - 218ms/step\n",
            "Epoch 5/10\n",
            "248/248 - 54s - loss: 0.5120 - accuracy: 0.8463 - val_loss: 0.9133 - val_accuracy: 0.7541 - 54s/epoch - 219ms/step\n",
            "Epoch 6/10\n",
            "248/248 - 54s - loss: 0.4021 - accuracy: 0.8769 - val_loss: 0.9340 - val_accuracy: 0.7497 - 54s/epoch - 219ms/step\n",
            "Epoch 7/10\n",
            "248/248 - 54s - loss: 0.3243 - accuracy: 0.9018 - val_loss: 0.9398 - val_accuracy: 0.7574 - 54s/epoch - 218ms/step\n",
            "Epoch 8/10\n",
            "248/248 - 54s - loss: 0.2750 - accuracy: 0.9185 - val_loss: 0.9645 - val_accuracy: 0.7615 - 54s/epoch - 218ms/step\n",
            "Epoch 9/10\n",
            "248/248 - 54s - loss: 0.2242 - accuracy: 0.9313 - val_loss: 0.9817 - val_accuracy: 0.7751 - 54s/epoch - 218ms/step\n",
            "Epoch 10/10\n",
            "248/248 - 54s - loss: 0.1923 - accuracy: 0.9433 - val_loss: 1.0033 - val_accuracy: 0.7721 - 54s/epoch - 218ms/step\n"
          ]
        }
      ],
      "source": [
        "model.compile(loss='sparse_categorical_crossentropy', optimizer='adam', metrics=['accuracy'])\n",
        "num_epochs = 10\n",
        "history = model.fit(train_padded, training_label_seq, epochs=num_epochs, validation_data=(validation_padded, validation_label_seq), verbose=2)"
      ]
    },
    {
      "cell_type": "markdown",
      "source": [
        "## Model Evaluation"
      ],
      "metadata": {
        "id": "Hi0cbKbB0LtQ"
      }
    },
    {
      "cell_type": "code",
      "source": [
        "score = model.evaluate(validation_padded, validation_label_seq, verbose=10)\n",
        "\n",
        "print(\"Loss:%.3f Accuracy: %.3f\" % (score[0], score[1]))"
      ],
      "metadata": {
        "colab": {
          "base_uri": "https://localhost:8080/"
        },
        "id": "rXqI2UJYvojM",
        "outputId": "6f3fe70b-fb80-410c-dd6f-78c63dae90aa"
      },
      "execution_count": 55,
      "outputs": [
        {
          "output_type": "stream",
          "name": "stdout",
          "text": [
            "Loss:1.003 Accuracy: 0.772\n"
          ]
        }
      ]
    },
    {
      "cell_type": "code",
      "source": [
        "from sklearn.metrics import classification_report\n",
        "\n",
        "y_pred = model.predict(validation_padded, batch_size=64, verbose=10)\n",
        "y_pred_bool = np.argmax(y_pred, axis=1)"
      ],
      "metadata": {
        "id": "nHDrH_IPw5AI"
      },
      "execution_count": 56,
      "outputs": []
    },
    {
      "cell_type": "code",
      "source": [
        "print(classification_report(validation_label_seq.copy(), y_pred_bool.copy()))"
      ],
      "metadata": {
        "colab": {
          "base_uri": "https://localhost:8080/"
        },
        "id": "bKTvNw6p9FUR",
        "outputId": "d5a73948-fad3-4622-94f1-cc87e4e254aa"
      },
      "execution_count": 58,
      "outputs": [
        {
          "output_type": "stream",
          "name": "stdout",
          "text": [
            "              precision    recall  f1-score   support\n",
            "\n",
            "         1.0       0.89      0.86      0.87       180\n",
            "         2.0       0.77      0.80      0.79       179\n",
            "         3.0       0.84      0.80      0.82       179\n",
            "         4.0       0.87      0.78      0.82       179\n",
            "         5.0       0.93      0.88      0.90       179\n",
            "         6.0       0.75      0.86      0.80       178\n",
            "         7.0       0.81      0.73      0.77       178\n",
            "         8.0       0.77      0.71      0.74       178\n",
            "         9.0       0.87      0.86      0.86       178\n",
            "        10.0       0.79      0.55      0.65       177\n",
            "        11.0       0.67      0.68      0.68       177\n",
            "        12.0       0.69      0.71      0.70       176\n",
            "        13.0       0.64      0.74      0.69       175\n",
            "        14.0       0.67      0.75      0.71       173\n",
            "        15.0       0.67      0.77      0.72       172\n",
            "        16.0       0.89      0.88      0.88       169\n",
            "        17.0       0.84      0.87      0.86       164\n",
            "        18.0       0.66      0.76      0.71       144\n",
            "        19.0       0.72      0.80      0.76       140\n",
            "        20.0       0.76      0.60      0.67       113\n",
            "\n",
            "    accuracy                           0.77      3388\n",
            "   macro avg       0.78      0.77      0.77      3388\n",
            "weighted avg       0.78      0.77      0.77      3388\n",
            "\n"
          ]
        }
      ]
    },
    {
      "cell_type": "code",
      "source": [
        "def plot_graphs(history, string):\n",
        "  plt.plot(history.history[string])\n",
        "  plt.plot(history.history['val_'+string])\n",
        "  plt.xlabel(\"Epochs\")\n",
        "  plt.ylabel(string)\n",
        "  plt.legend([string, 'val_'+string])\n",
        "  plt.show()\n",
        "  \n",
        "plot_graphs(history, \"accuracy\")\n",
        "plot_graphs(history, \"loss\")"
      ],
      "metadata": {
        "colab": {
          "base_uri": "https://localhost:8080/",
          "height": 541
        },
        "id": "EA20eH5o9xt0",
        "outputId": "8d4deb51-312e-4961-f2f9-6e6249e5b2b9"
      },
      "execution_count": 59,
      "outputs": [
        {
          "output_type": "display_data",
          "data": {
            "image/png": "[encoded data removed]",
            "text/plain": [
              "<Figure size 432x288 with 1 Axes>"
            ]
          },
          "metadata": {
            "needs_background": "light"
          }
        },
        {
          "output_type": "display_data",
          "data": {
            "image/png": "[encoded data removed]",
            "text/plain": [
              "<Figure size 432x288 with 1 Axes>"
            ]
          },
          "metadata": {
            "needs_background": "light"
          }
        }
      ]
    }
  ],
  "metadata": {
    "colab": {
      "collapsed_sections": [],
      "name": "lstm_v1.ipynb",
      "provenance": [],
      "authorship_tag": "ABX9TyPTdRCzHYA9SPxdtDngGAap",
      "include_colab_link": true
    },
    "kernelspec": {
      "display_name": "Python 3",
      "name": "python3"
    },
    "language_info": {
      "name": "python"
    },
    "accelerator": "GPU"
  },
  "nbformat": 4,
  "nbformat_minor": 0
}