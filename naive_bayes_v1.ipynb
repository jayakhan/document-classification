{
  "nbformat": 4,
  "nbformat_minor": 0,
  "metadata": {
    "colab": {
      "name": "naive_bayes_v1.ipynb",
      "provenance": [],
      "collapsed_sections": [],
      "authorship_tag": "ABX9TyNkxwtLYMyRQaYnqQHAu/sf",
      "include_colab_link": true
    },
    "kernelspec": {
      "name": "python3",
      "display_name": "Python 3"
    },
    "language_info": {
      "name": "python"
    }
  },
  "cells": [
    {
      "cell_type": "markdown",
      "metadata": {
        "id": "view-in-github",
        "colab_type": "text"
      },
      "source": [
        "<a href=\"https://colab.research.google.com/github/jayakhan/document-classification/blob/main/naive_bayes_v1.ipynb\" target=\"_parent\"><img src=\"https://colab.research.google.com/assets/colab-badge.svg\" alt=\"Open In Colab\"/></a>"
      ]
    },
    {
      "cell_type": "markdown",
      "source": [
        "## Load Libraries"
      ],
      "metadata": {
        "id": "MzsQFaSjDDxP"
      }
    },
    {
      "cell_type": "code",
      "execution_count": null,
      "metadata": {
        "id": "jnIEcacP-aLA"
      },
      "outputs": [],
      "source": [
        "from pathlib import Path\n",
        "import numpy as np\n",
        "import matplotlib.pyplot as plt\n",
        "\n",
        "from sklearn.naive_bayes import MultinomialNB\n",
        "from sklearn.feature_extraction.text import CountVectorizer\n",
        "from sklearn.metrics import accuracy_score, recall_score, f1_score\n",
        "from sklearn.model_selection import train_test_split\n",
        "\n",
        "import nltk\n",
        "from nltk.corpus import stopwords\n",
        "nltk.download('stopwords')\n",
        "STOPWORDS = set(stopwords.words('english'))\n",
        "from nltk import word_tokenize          \n",
        "from nltk.stem import WordNetLemmatizer \n",
        "\n",
        "from tensorflow.keras.preprocessing.text import Tokenizer\n",
        "from tensorflow.keras.preprocessing.sequence import pad_sequences"
      ]
    },
    {
      "cell_type": "markdown",
      "source": [
        "## Load Dataset"
      ],
      "metadata": {
        "id": "NKd2jSPSDL5d"
      }
    },
    {
      "cell_type": "code",
      "source": [
        "articles = []\n",
        "labels = []\n",
        "with open('/content/20ng-train-stemmed.txt') as file:\n",
        "  docs = file.readlines()\n",
        "  for line in docs:\n",
        "    labels.append(line.split('\\t')[0])\n",
        "    article = line.split('\\t')[1]\n",
        "    for word in STOPWORDS:\n",
        "      token = ' ' + word + ' '\n",
        "      article = article.replace(token, ' ')\n",
        "      article = article.replace(' ', ' ')\n",
        "    articles.append(article)"
      ],
      "metadata": {
        "id": "3QAoE2oR-y8R"
      },
      "execution_count": 109,
      "outputs": []
    },
    {
      "cell_type": "code",
      "source": [
        "labels_new = []\n",
        "for i in labels:\n",
        "  i = i.replace('.', '')\n",
        "  i = i.replace('-', '')\n",
        "  labels_new.append(i)"
      ],
      "metadata": {
        "id": "s6_Ovke_-93P"
      },
      "execution_count": 110,
      "outputs": []
    },
    {
      "cell_type": "markdown",
      "source": [
        "## Plot Distribution of Articles across Labels"
      ],
      "metadata": {
        "id": "1YhrGOEiDzW1"
      }
    },
    {
      "cell_type": "code",
      "source": [
        "labels = pd.DataFrame(labels_new)"
      ],
      "metadata": {
        "id": "Mrn_XL4dCSAg"
      },
      "execution_count": 111,
      "outputs": []
    },
    {
      "cell_type": "code",
      "source": [
        "LABELS = ['altatheism', 'compgraphics', 'composmswindowsmisc', 'compsysibmpchardware', 'compsysmachardware', 'compwindowsx', 'miscforsale', 'recautos', 'recmotorcycles', 'recsportbaseball',\n",
        "              'recsporthockey', 'scicrypt', 'scielectronics', 'scimed', 'scispace', 'socreligionchristian', 'talkpoliticsgun', 'talkpoliticsmideast', 'talkpoliticsmisc', 'talkreligionmisc']"
      ],
      "metadata": {
        "id": "V4pbUo7iACuW"
      },
      "execution_count": 112,
      "outputs": []
    },
    {
      "cell_type": "code",
      "source": [
        "new = pd.DataFrame(0, index=np.arange(len(labels)), columns=LABELS)"
      ],
      "metadata": {
        "id": "JNagzgFZAKul"
      },
      "execution_count": 113,
      "outputs": []
    },
    {
      "cell_type": "code",
      "source": [
        "new['recmotorcycles'] = np.where(labels == 'recmotorcycles', 1, 0)\n",
        "new['recsportbaseball'] = np.where(labels == 'recsportbaseball', 1, 0)\n",
        "new['recsporthockey'] = np.where(labels == 'recsporthockey', 1, 0)\n",
        "new['scicrypt'] = np.where(labels == 'scicrypt', 1, 0)\n",
        "new['scielectronics'] = np.where(labels == 'scielectronics', 1, 0)\n",
        "new['scimed'] = np.where(labels == 'scimed', 1, 0)\n",
        "new['scispace'] = np.where(labels == 'scispace', 1, 0)\n",
        "new['socreligionchristian'] = np.where(labels == 'socreligionchristian', 1, 0)\n",
        "new['talkpoliticsgun'] = np.where(labels == 'talkpoliticsgun', 1, 0)\n",
        "new['talkpoliticsmideast'] = np.where(labels == 'talkpoliticsmideast', 1, 0)\n",
        "new['talkpoliticsmisc'] = np.where(labels == 'talkpoliticsmisc', 1, 0)\n",
        "new['talkreligionmisc'] = np.where(labels == 'talkreligionmisc', 1, 0)\n",
        "new['recautos'] = np.where(labels == 'recautos', 1, 0)\n",
        "new['altatheism'] = np.where(labels == 'altatheism', 1, 0)\n",
        "new['compgraphics'] = np.where(labels == 'compgraphics', 1, 0)\n",
        "new['composmswindowsmisc'] = np.where(labels == 'composmswindowsmisc', 1, 0)\n",
        "new['compsysibmpchardware'] = np.where(labels == 'compsysibmpchardware', 1, 0)\n",
        "new['compsysmachardware'] = np.where(labels == 'compsysmachardware', 1, 0)\n",
        "new['compwindowsx'] = np.where(labels == 'compwindowsx', 1, 0)\n",
        "new['miscforsale'] = np.where(labels == 'miscforsale', 1, 0)"
      ],
      "metadata": {
        "id": "8FB-JGw6AQZx"
      },
      "execution_count": 114,
      "outputs": []
    },
    {
      "cell_type": "code",
      "source": [
        "# Plot category data\n",
        "plt.figure(figsize=(10,6))\n",
        "new.sum(axis=0).plot.bar()\n",
        "plt.xlabel(\"Labels\")\n",
        "plt.ylabel(\"Number of Articles\")\n",
        "plt.title(\"Distribution of Articles across Labels\")\n",
        "plt.show()"
      ],
      "metadata": {
        "colab": {
          "base_uri": "https://localhost:8080/",
          "height": 515
        },
        "id": "QTyn9_7OB5Ms",
        "outputId": "d83be212-d7c5-4129-a39c-c690173baac6"
      },
      "execution_count": 115,
      "outputs": [
        {
          "output_type": "display_data",
          "data": {
            "image/png": "[encoded data removed]",
            "text/plain": [
              "<Figure size 720x432 with 1 Axes>"
            ]
          },
          "metadata": {
            "needs_background": "light"
          }
        }
      ]
    },
    {
      "cell_type": "markdown",
      "source": [
        "## Split data into 80% training and 20% validation datasets"
      ],
      "metadata": {
        "id": "O3FWVFbqEKef"
      }
    },
    {
      "cell_type": "code",
      "source": [
        "train_articles, validation_articles, train_labels, validation_labels = train_test_split(articles, labels_new, test_size=0.3, stratify=labels_new)"
      ],
      "metadata": {
        "id": "yauCBR11h6Lj"
      },
      "execution_count": 116,
      "outputs": []
    },
    {
      "cell_type": "code",
      "source": [
        "print(len(train_articles))\n",
        "print(len(train_labels))\n",
        "print(len(validation_articles))\n",
        "print(len(validation_labels))"
      ],
      "metadata": {
        "colab": {
          "base_uri": "https://localhost:8080/"
        },
        "id": "7NWifZXB_NP8",
        "outputId": "23381fe6-4be7-4819-f860-8c05156cd5e4"
      },
      "execution_count": 117,
      "outputs": [
        {
          "output_type": "stream",
          "name": "stdout",
          "text": [
            "7905\n",
            "7905\n",
            "3388\n",
            "3388\n"
          ]
        }
      ]
    },
    {
      "cell_type": "markdown",
      "source": [
        "## Lemmatization and Vectorization"
      ],
      "metadata": {
        "id": "DlSAZW2UEoib"
      }
    },
    {
      "cell_type": "code",
      "source": [
        "class LemmaTokenizer(object):\n",
        "    def __init__(self):\n",
        "        self.wnl = WordNetLemmatizer()\n",
        "\n",
        "    def __call__(self, doc):\n",
        "        return [self.wnl.lemmatize(t) for t in word_tokenize(doc) if len(t) >= 2]"
      ],
      "metadata": {
        "id": "0ZJfztMHFbG1"
      },
      "execution_count": 118,
      "outputs": []
    },
    {
      "cell_type": "code",
      "source": [
        "from sklearn.feature_extraction.text import CountVectorizer\n",
        "cv = CountVectorizer(input='content', analyzer='word', stop_words='english',\n",
        "                             tokenizer=LemmaTokenizer(), max_features=2000)"
      ],
      "metadata": {
        "id": "7EkEubZSFlmw"
      },
      "execution_count": 119,
      "outputs": []
    },
    {
      "cell_type": "code",
      "source": [
        "X_train_cv = cv.fit_transform(train_articles)\n",
        "X_test_cv = cv.transform(validation_articles)"
      ],
      "metadata": {
        "id": "zcnnHlDbF3tj"
      },
      "execution_count": null,
      "outputs": []
    },
    {
      "cell_type": "markdown",
      "source": [
        "## Model Building"
      ],
      "metadata": {
        "id": "s5dtpJ06FJKB"
      }
    },
    {
      "cell_type": "code",
      "source": [
        "#Train the model\n",
        "naive_bayes = MultinomialNB()\n",
        "naive_bayes.fit(X_train_cv, train_labels)"
      ],
      "metadata": {
        "id": "SRsU01JgAF30"
      },
      "execution_count": null,
      "outputs": []
    },
    {
      "cell_type": "code",
      "source": [
        "#Predict Validation data on trained model\n",
        "predictions = naive_bayes.predict(X_test_cv)"
      ],
      "metadata": {
        "id": "QPYudlLjAVHl"
      },
      "execution_count": 122,
      "outputs": []
    },
    {
      "cell_type": "code",
      "source": [
        "predictions"
      ],
      "metadata": {
        "colab": {
          "base_uri": "https://localhost:8080/"
        },
        "id": "9_zeJcNRGpSC",
        "outputId": "2711e101-5446-443e-efc1-6cb149e66765"
      },
      "execution_count": 123,
      "outputs": [
        {
          "output_type": "execute_result",
          "data": {
            "text/plain": [
              "array(['recsporthockey', 'recsporthockey', 'talkpoliticsmideast', ...,\n",
              "       'miscforsale', 'recmotorcycles', 'compsysibmpchardware'],\n",
              "      dtype='<U20')"
            ]
          },
          "metadata": {},
          "execution_count": 123
        }
      ]
    },
    {
      "cell_type": "code",
      "source": [
        "print('Accuracy score: ', accuracy_score(validation_labels, predictions))\n",
        "print('Recall score: ', recall_score(validation_labels, predictions, average='weighted', labels=np.unique(validation_labels)))\n",
        "print('F1 score: ', f1_score(validation_labels, predictions, average='weighted', labels=np.unique(validation_labels)))"
      ],
      "metadata": {
        "colab": {
          "base_uri": "https://localhost:8080/"
        },
        "id": "uI1wqX9mAcSg",
        "outputId": "e3e92841-8226-4ce9-aaa5-3d471ad69bfb"
      },
      "execution_count": 124,
      "outputs": [
        {
          "output_type": "stream",
          "name": "stdout",
          "text": [
            "Accuracy score:  0.8078512396694215\n",
            "Recall score:  0.8078512396694215\n",
            "F1 score:  0.8079655165202181\n"
          ]
        }
      ]
    }
  ]
}