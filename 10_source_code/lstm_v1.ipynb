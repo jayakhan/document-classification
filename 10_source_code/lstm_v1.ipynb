{
  "cells": [
    {
      "cell_type": "markdown",
      "source": [
        "## 1) Import Libraries"
      ],
      "metadata": {
        "id": "OMv-jNrCyAw4"
      }
    },
    {
      "cell_type": "code",
      "execution_count": null,
      "metadata": {
        "id": "Nbz7pFk_tGTH"
      },
      "outputs": [],
      "source": [
        "import numpy as np\n",
        "import nltk\n",
        "nltk.download('stopwords')\n",
        "import pandas as pd\n",
        "import matplotlib.pyplot as plt\n",
        "from sklearn.model_selection import train_test_split\n",
        "\n",
        "from nltk.corpus import stopwords\n",
        "STOPWORDS = set(stopwords.words('english'))\n",
        "\n",
        "from tensorflow import keras\n",
        "import tensorflow as tf\n",
        "from tensorflow.keras.models import Sequential\n",
        "from tensorflow.keras.preprocessing.text import Tokenizer\n",
        "from tensorflow.keras.preprocessing.sequence import pad_sequences"
      ]
    },
    {
      "cell_type": "markdown",
      "source": [
        "## 2) Set Model Hyperparameters"
      ],
      "metadata": {
        "id": "AyYbSjZIyKpN"
      }
    },
    {
      "cell_type": "code",
      "execution_count": 2,
      "metadata": {
        "id": "Aj7eML586AMb"
      },
      "outputs": [],
      "source": [
        "#Hyperparameters\n",
        "vocab_size = 2000\n",
        "embedding_dim = 64\n",
        "max_length = 500\n",
        "trunc_type = 'post'\n",
        "padding_type = 'post'\n",
        "oov_tok = '<OOV>'\n",
        "training_portion = .8"
      ]
    },
    {
      "cell_type": "markdown",
      "source": [
        "## 3) Load Real Dataset"
      ],
      "metadata": {
        "id": "Z_C6P_nSyRg_"
      }
    },
    {
      "cell_type": "code",
      "execution_count": 5,
      "metadata": {
        "id": "7bl3sH6ZtQFm"
      },
      "outputs": [],
      "source": [
        "# Adding Dataset into articles and labels list\n",
        "articles = []\n",
        "labels = []\n",
        "with open('/content/20ng-train-stemmed.txt') as file:\n",
        "  docs = file.readlines()\n",
        "  for line in docs:\n",
        "    labels.append(line.split('\\t')[0])\n",
        "    article = line.split('\\t')[1]\n",
        "    for word in STOPWORDS:\n",
        "      token = ' ' + word + ' '\n",
        "      article = article.replace(token, ' ')\n",
        "      article = article.replace(' ', ' ')\n",
        "    articles.append(article)"
      ]
    },
    {
      "cell_type": "code",
      "source": [
        "# Clean Label Names\n",
        "labels_new = []\n",
        "for i in labels:\n",
        "  i = i.replace('.', '')\n",
        "  i = i.replace('-', '')\n",
        "  labels_new.append(i)"
      ],
      "metadata": {
        "id": "BHgRDxNCmJrn"
      },
      "execution_count": 6,
      "outputs": []
    },
    {
      "cell_type": "markdown",
      "source": [
        "## 4) Split data into 70% training and 30% validation datasets"
      ],
      "metadata": {
        "id": "k9yC_BsoygJJ"
      }
    },
    {
      "cell_type": "code",
      "source": [
        "train_articles, validation_articles, train_labels, validation_labels = train_test_split(articles, labels_new, test_size=0.3, stratify=labels_new)"
      ],
      "metadata": {
        "id": "Pm-YSCezWZCL"
      },
      "execution_count": 7,
      "outputs": []
    },
    {
      "cell_type": "code",
      "execution_count": 8,
      "metadata": {
        "colab": {
          "base_uri": "https://localhost:8080/"
        },
        "id": "rM0Phhsc8jkw",
        "outputId": "001b18ba-8411-494b-ff1a-00888addac40"
      },
      "outputs": [
        {
          "output_type": "stream",
          "name": "stdout",
          "text": [
            "7905\n",
            "7905\n",
            "3388\n",
            "3388\n"
          ]
        }
      ],
      "source": [
        "print(len(train_articles))\n",
        "print(len(train_labels))\n",
        "print(len(validation_articles))\n",
        "print(len(validation_labels))"
      ]
    },
    {
      "cell_type": "code",
      "source": [
        "# Check distribution of training dataset\n",
        "pd.Series(train_labels).value_counts()"
      ],
      "metadata": {
        "colab": {
          "base_uri": "https://localhost:8080/"
        },
        "id": "uVbvpNlvVoAU",
        "outputId": "fd6e14bc-689b-4372-c3f7-5be513aae5d1"
      },
      "execution_count": 9,
      "outputs": [
        {
          "output_type": "execute_result",
          "data": {
            "text/plain": [
              "recsporthockey          420\n",
              "recmotorcycles          419\n",
              "socreligionchristian    419\n",
              "recsportbaseball        418\n",
              "scicrypt                416\n",
              "scimed                  416\n",
              "recautos                416\n",
              "compwindowsx            415\n",
              "scispace                415\n",
              "scielectronics          414\n",
              "compsysibmpchardware    413\n",
              "miscforsale             409\n",
              "compgraphics            409\n",
              "compsysmachardware      405\n",
              "composmswindowsmisc     400\n",
              "talkpoliticsmideast     395\n",
              "talkpoliticsguns        381\n",
              "altatheism              336\n",
              "talkpoliticsmisc        325\n",
              "talkreligionmisc        264\n",
              "dtype: int64"
            ]
          },
          "metadata": {},
          "execution_count": 9
        }
      ]
    },
    {
      "cell_type": "code",
      "source": [
        " # Check distribution of validation dataset\n",
        " pd.Series(validation_labels).value_counts()"
      ],
      "metadata": {
        "colab": {
          "base_uri": "https://localhost:8080/"
        },
        "id": "j2PZgN7-dQnv",
        "outputId": "40509680-a6c3-4c0f-a1c6-8e8da5b12869"
      },
      "execution_count": 10,
      "outputs": [
        {
          "output_type": "execute_result",
          "data": {
            "text/plain": [
              "recsporthockey          180\n",
              "scicrypt                179\n",
              "socreligionchristian    179\n",
              "recsportbaseball        179\n",
              "recmotorcycles          179\n",
              "scimed                  178\n",
              "scispace                178\n",
              "recautos                178\n",
              "compwindowsx            178\n",
              "compsysibmpchardware    177\n",
              "scielectronics          177\n",
              "miscforsale             176\n",
              "compgraphics            175\n",
              "compsysmachardware      173\n",
              "composmswindowsmisc     172\n",
              "talkpoliticsmideast     169\n",
              "talkpoliticsguns        164\n",
              "altatheism              144\n",
              "talkpoliticsmisc        140\n",
              "talkreligionmisc        113\n",
              "dtype: int64"
            ]
          },
          "metadata": {},
          "execution_count": 10
        }
      ]
    },
    {
      "cell_type": "markdown",
      "source": [
        "## 5a) Tokenization and Vectorization - Articles"
      ],
      "metadata": {
        "id": "B2e-79W5y0IM"
      }
    },
    {
      "cell_type": "code",
      "execution_count": 11,
      "metadata": {
        "colab": {
          "base_uri": "https://localhost:8080/"
        },
        "id": "9Nqv14ys6eTz",
        "outputId": "912004bd-de07-4050-9cf5-d497f18a20b4"
      },
      "outputs": [
        {
          "output_type": "stream",
          "name": "stdout",
          "text": [
            "[5, 1, 1, 154, 1, 3, 1, 1, 154, 1, 3, 1, 1, 1, 4, 5, 1, 1, 1, 1396, 1, 48, 1, 4, 5, 1, 1, 1, 500, 793, 3, 1, 1448, 1, 793, 3, 216, 191, 17, 874, 1, 720, 30, 1023, 310, 1, 1023, 1, 1, 310, 1, 170, 310, 166, 357, 420, 577, 846, 152, 1, 131, 1856, 1289, 131, 1787, 310, 669, 48, 1, 1, 1, 1396, 1, 128, 1023, 1, 720, 782, 652, 176, 8, 1, 310, 720, 30, 176, 8, 1, 294, 1, 1, 222, 30, 1, 782, 1803, 436, 176, 70, 648, 199, 1788, 1, 1, 971, 1, 222, 29, 22, 36, 1, 22, 148, 1, 12, 44, 30, 318, 534, 183, 146, 840, 1, 222, 30, 689, 59, 628, 689, 30, 1803, 558, 121, 1, 451, 1, 1, 1, 1418, 30, 222, 44, 782, 1404, 835, 166, 22, 148, 1, 310, 30, 1, 782, 176, 8, 70, 648, 199, 1788, 1, 269, 697, 310, 1, 159, 166, 1217, 1267, 1, 971, 1101, 294, 29, 148, 1, 299, 12, 1023, 30, 1, 176, 8, 70, 648, 199, 1788, 1570, 1139, 37, 1, 1217, 1, 1, 971, 378, 253, 135, 534, 683, 1490, 30, 761, 29, 148, 152, 1, 720, 30, 748, 310, 30, 222, 1, 30, 310, 30, 971, 310, 277, 222, 1, 170, 336, 899, 294, 30, 310, 1, 1, 274, 222, 1, 1418, 53, 294, 1023, 1, 799, 30, 971, 15, 1, 139, 275, 299, 14, 536, 54, 53, 258, 222, 97, 1825, 840, 1, 820, 247, 1, 459, 1, 53, 1825, 840, 1, 1, 231, 642, 840, 301, 1, 933, 72, 301, 1, 29, 405, 78, 1, 2, 102, 1, 459, 301, 301, 1, 1, 1, 1, 1, 1, 3, 186, 1, 1, 1, 1, 3]\n",
            "[1, 1, 1, 1, 1914, 931, 875, 1, 1, 1558, 400, 1, 1, 1, 875, 945, 924, 234, 400, 1012, 1, 292, 1, 110, 875, 1, 12, 1525, 1, 1558, 1012, 1, 945, 1165, 1, 28, 1, 1, 1, 1, 929, 224, 1, 324, 148, 1, 315, 767, 340, 12, 8, 58, 1, 197, 1, 1, 67, 164, 559, 1, 586, 172, 1, 1, 1, 3, 1]\n"
          ]
        }
      ],
      "source": [
        "# Tokenize articles for training datasets\n",
        "tokenizer = Tokenizer(num_words = vocab_size, oov_token=oov_tok)\n",
        "tokenizer.fit_on_texts(train_articles)\n",
        "train_sequences = tokenizer.texts_to_sequences(train_articles)\n",
        "validation_sequences = tokenizer.texts_to_sequences(validation_articles)\n",
        "\n",
        "print(train_sequences[10])\n",
        "print(validation_sequences[10])"
      ]
    },
    {
      "cell_type": "code",
      "execution_count": 12,
      "metadata": {
        "colab": {
          "base_uri": "https://localhost:8080/"
        },
        "id": "-OJgosYj7Ash",
        "outputId": "44c0066f-8ecf-4bfa-8407-12e806531434"
      },
      "outputs": [
        {
          "output_type": "stream",
          "name": "stdout",
          "text": [
            "365\n",
            "500\n",
            "1033\n",
            "500\n",
            "297\n",
            "500\n",
            "67\n",
            "500\n"
          ]
        }
      ],
      "source": [
        "# Padding to the end of the training and validation articles\n",
        "train_padded = pad_sequences(train_sequences, maxlen=max_length, padding=padding_type, truncating=trunc_type)\n",
        "validation_padded = pad_sequences(validation_sequences, maxlen=max_length, padding=padding_type, truncating=trunc_type)\n",
        "\n",
        "print(len(train_sequences[0]))\n",
        "print(len(train_padded[0]))\n",
        "\n",
        "print(len(train_sequences[1]))\n",
        "print(len(train_padded[1]))\n",
        "\n",
        "print(len(train_sequences[10]))\n",
        "print(len(train_padded[10]))\n",
        "\n",
        "print(len(validation_sequences[10]))\n",
        "print(len(validation_padded[10]))"
      ]
    },
    {
      "cell_type": "markdown",
      "source": [
        "## 5b) Tokenization and Vectorization - Labels"
      ],
      "metadata": {
        "id": "Y9t-oTWUzhDa"
      }
    },
    {
      "cell_type": "code",
      "execution_count": 14,
      "metadata": {
        "colab": {
          "base_uri": "https://localhost:8080/"
        },
        "id": "PNtlnmms9Qv7",
        "outputId": "563c23b7-5237-4eed-be25-0ea6d6a1be80"
      },
      "outputs": [
        {
          "output_type": "stream",
          "name": "stdout",
          "text": [
            "[1]\n",
            "[18]\n",
            "[15]\n",
            "(7905, 1)\n",
            "[15]\n",
            "[1]\n",
            "[11]\n",
            "(3388, 1)\n"
          ]
        }
      ],
      "source": [
        "label_tokenizer = Tokenizer()\n",
        "label_tokenizer.fit_on_texts(labels_new)\n",
        "training_label_seq = np.asarray(label_tokenizer.texts_to_sequences(train_labels))\n",
        "validation_label_seq = np.asarray(label_tokenizer.texts_to_sequences(validation_labels))\n",
        "print(training_label_seq[0])\n",
        "print(training_label_seq[1])\n",
        "print(training_label_seq[2])\n",
        "print(training_label_seq.shape)\n",
        "\n",
        "print(validation_label_seq[0])\n",
        "print(validation_label_seq[1])\n",
        "print(validation_label_seq[2])\n",
        "print(validation_label_seq.shape)"
      ]
    },
    {
      "cell_type": "markdown",
      "source": [
        "## 6) Model Building"
      ],
      "metadata": {
        "id": "aY5dhJ7Uzttt"
      }
    },
    {
      "cell_type": "code",
      "execution_count": 15,
      "metadata": {
        "colab": {
          "base_uri": "https://localhost:8080/"
        },
        "id": "pEk37J04AObX",
        "outputId": "ae20cc80-2cea-405b-abe2-22aec5c5c924"
      },
      "outputs": [
        {
          "output_type": "stream",
          "name": "stdout",
          "text": [
            "Model: \"sequential\"\n",
            "_________________________________________________________________\n",
            " Layer (type)                Output Shape              Param #   \n",
            "=================================================================\n",
            " embedding (Embedding)       (None, None, 64)          128000    \n",
            "                                                                 \n",
            " bidirectional (Bidirectiona  (None, 128)              66048     \n",
            " l)                                                              \n",
            "                                                                 \n",
            " dense (Dense)               (None, 64)                8256      \n",
            "                                                                 \n",
            " dense_1 (Dense)             (None, 32)                2080      \n",
            "                                                                 \n",
            "=================================================================\n",
            "Total params: 204,384\n",
            "Trainable params: 204,384\n",
            "Non-trainable params: 0\n",
            "_________________________________________________________________\n"
          ]
        }
      ],
      "source": [
        "model = tf.keras.Sequential([\n",
        "    # Add an Embedding layer expecting input vocab of size 2000, and output embedding dimension of size 64\n",
        "    tf.keras.layers.Embedding(vocab_size, embedding_dim),\n",
        "    tf.keras.layers.Bidirectional(tf.keras.layers.LSTM(embedding_dim)),\n",
        "    tf.keras.layers.Dense(embedding_dim, activation='relu'),\n",
        "    tf.keras.layers.Dense(32, activation='softmax')\n",
        "])\n",
        "model.summary()"
      ]
    },
    {
      "cell_type": "code",
      "source": [
        "[print(i.shape, i.dtype) for i in model.inputs]\n",
        "[print(o.shape, o.dtype) for o in model.outputs]\n",
        "[print(l.name, l.input_shape, l.dtype) for l in model.layers]"
      ],
      "metadata": {
        "colab": {
          "base_uri": "https://localhost:8080/"
        },
        "id": "m7QyMUS00BhU",
        "outputId": "52561977-e418-4fc7-e516-66c4b306423a"
      },
      "execution_count": 16,
      "outputs": [
        {
          "output_type": "stream",
          "name": "stdout",
          "text": [
            "(None, None) <dtype: 'float32'>\n",
            "(None, 32) <dtype: 'float32'>\n",
            "embedding (None, None) float32\n",
            "bidirectional (None, None, 64) float32\n",
            "dense (None, 128) float32\n",
            "dense_1 (None, 64) float32\n"
          ]
        },
        {
          "output_type": "execute_result",
          "data": {
            "text/plain": [
              "[None, None, None, None]"
            ]
          },
          "metadata": {},
          "execution_count": 16
        }
      ]
    },
    {
      "cell_type": "code",
      "execution_count": 17,
      "metadata": {
        "colab": {
          "base_uri": "https://localhost:8080/"
        },
        "id": "k3Tz3RjBBTkL",
        "outputId": "8618856d-6867-45bc-8b46-2e7f8914d7cb"
      },
      "outputs": [
        {
          "output_type": "stream",
          "name": "stdout",
          "text": [
            "(7905, 500)\n",
            "(7905, 1)\n",
            "(3388, 500)\n",
            "(3388, 1)\n"
          ]
        }
      ],
      "source": [
        "# Check dataset before model fitting\n",
        "print(train_padded.shape)\n",
        "print(training_label_seq.shape)\n",
        "print(validation_padded.shape)\n",
        "print(validation_label_seq.shape)"
      ]
    },
    {
      "cell_type": "code",
      "execution_count": 18,
      "metadata": {
        "colab": {
          "base_uri": "https://localhost:8080/"
        },
        "id": "SGGa_ixyF5OW",
        "outputId": "d242c265-e865-4ad5-9814-e41d5471bb01"
      },
      "outputs": [
        {
          "output_type": "stream",
          "name": "stdout",
          "text": [
            "<class 'numpy.ndarray'>\n",
            "<class 'numpy.ndarray'>\n",
            "<class 'numpy.ndarray'>\n",
            "<class 'numpy.ndarray'>\n"
          ]
        }
      ],
      "source": [
        "# Check dataset before model fitting\n",
        "print(type(train_padded))\n",
        "print(type(training_label_seq))\n",
        "print(type(validation_padded))\n",
        "print(type(validation_label_seq))"
      ]
    },
    {
      "cell_type": "markdown",
      "source": [
        "## 6) Model Validation"
      ],
      "metadata": {
        "id": "H8WM5tJVcjsP"
      }
    },
    {
      "cell_type": "code",
      "execution_count": 19,
      "metadata": {
        "id": "JWxWZyvAAYtm",
        "colab": {
          "base_uri": "https://localhost:8080/"
        },
        "outputId": "25d3f26d-14f8-49ba-e059-cbf223783d3d"
      },
      "outputs": [
        {
          "output_type": "stream",
          "name": "stdout",
          "text": [
            "Epoch 1/10\n",
            "248/248 - 61s - loss: 2.7206 - accuracy: 0.1319 - val_loss: 2.1857 - val_accuracy: 0.2459 - 61s/epoch - 247ms/step\n",
            "Epoch 2/10\n",
            "248/248 - 53s - loss: 1.6414 - accuracy: 0.4568 - val_loss: 1.4192 - val_accuracy: 0.5425 - 53s/epoch - 214ms/step\n",
            "Epoch 3/10\n",
            "248/248 - 53s - loss: 1.0116 - accuracy: 0.6674 - val_loss: 1.0900 - val_accuracy: 0.6547 - 53s/epoch - 214ms/step\n",
            "Epoch 4/10\n",
            "248/248 - 53s - loss: 0.7992 - accuracy: 0.7490 - val_loss: 1.0305 - val_accuracy: 0.6821 - 53s/epoch - 213ms/step\n",
            "Epoch 5/10\n",
            "248/248 - 53s - loss: 0.5656 - accuracy: 0.8240 - val_loss: 0.9133 - val_accuracy: 0.7305 - 53s/epoch - 214ms/step\n",
            "Epoch 6/10\n",
            "248/248 - 53s - loss: 0.4502 - accuracy: 0.8615 - val_loss: 0.9971 - val_accuracy: 0.7231 - 53s/epoch - 213ms/step\n",
            "Epoch 7/10\n",
            "248/248 - 53s - loss: 0.4102 - accuracy: 0.8783 - val_loss: 0.9662 - val_accuracy: 0.7447 - 53s/epoch - 214ms/step\n",
            "Epoch 8/10\n",
            "248/248 - 53s - loss: 0.3502 - accuracy: 0.8944 - val_loss: 0.9435 - val_accuracy: 0.7571 - 53s/epoch - 213ms/step\n",
            "Epoch 9/10\n",
            "248/248 - 53s - loss: 0.2704 - accuracy: 0.9203 - val_loss: 0.9640 - val_accuracy: 0.7627 - 53s/epoch - 213ms/step\n",
            "Epoch 10/10\n",
            "248/248 - 53s - loss: 0.2285 - accuracy: 0.9319 - val_loss: 1.0459 - val_accuracy: 0.7618 - 53s/epoch - 214ms/step\n"
          ]
        }
      ],
      "source": [
        "model.compile(loss='sparse_categorical_crossentropy', optimizer='adam', metrics=['accuracy'])\n",
        "num_epochs = 10\n",
        "history = model.fit(train_padded, training_label_seq, epochs=num_epochs, validation_data=(validation_padded, validation_label_seq), verbose=2)"
      ]
    },
    {
      "cell_type": "markdown",
      "source": [
        "## 7) Model Evaluation"
      ],
      "metadata": {
        "id": "Hi0cbKbB0LtQ"
      }
    },
    {
      "cell_type": "code",
      "source": [
        "score = model.evaluate(validation_padded, validation_label_seq, verbose=10)\n",
        "\n",
        "print(\"Loss: %.3f \\nAccuracy: %.3f\" % (score[0], score[1]))"
      ],
      "metadata": {
        "colab": {
          "base_uri": "https://localhost:8080/"
        },
        "id": "rXqI2UJYvojM",
        "outputId": "9f96da7d-3ce4-4e3f-8223-ecaf8f299063"
      },
      "execution_count": 23,
      "outputs": [
        {
          "output_type": "stream",
          "name": "stdout",
          "text": [
            "Loss: 1.046 \n",
            "Accuracy: 0.762\n"
          ]
        }
      ]
    },
    {
      "cell_type": "code",
      "source": [
        "from sklearn.metrics import classification_report\n",
        "\n",
        "y_pred = model.predict(validation_padded, batch_size=64, verbose=10)\n",
        "y_pred_bool = np.argmax(y_pred, axis=1)\n",
        "print(classification_report(validation_label_seq.copy(), y_pred_bool.copy()))"
      ],
      "metadata": {
        "colab": {
          "base_uri": "https://localhost:8080/"
        },
        "id": "nHDrH_IPw5AI",
        "outputId": "9898b74d-9339-4667-af2c-218ceafe5d21"
      },
      "execution_count": 25,
      "outputs": [
        {
          "output_type": "stream",
          "name": "stdout",
          "text": [
            "              precision    recall  f1-score   support\n",
            "\n",
            "           1       0.82      0.93      0.87       180\n",
            "           2       0.87      0.76      0.81       179\n",
            "           3       0.89      0.75      0.81       179\n",
            "           4       0.76      0.84      0.80       179\n",
            "           5       0.90      0.89      0.90       179\n",
            "           6       0.72      0.74      0.73       178\n",
            "           7       0.84      0.73      0.78       178\n",
            "           8       0.76      0.76      0.76       178\n",
            "           9       0.78      0.87      0.82       178\n",
            "          10       0.68      0.72      0.70       177\n",
            "          11       0.64      0.64      0.64       177\n",
            "          12       0.70      0.74      0.72       176\n",
            "          13       0.57      0.67      0.61       175\n",
            "          14       0.82      0.66      0.73       173\n",
            "          15       0.73      0.69      0.71       172\n",
            "          16       0.86      0.87      0.87       169\n",
            "          17       0.82      0.86      0.84       164\n",
            "          18       0.79      0.69      0.74       144\n",
            "          19       0.65      0.80      0.72       140\n",
            "          20       0.69      0.54      0.61       113\n",
            "\n",
            "    accuracy                           0.76      3388\n",
            "   macro avg       0.76      0.76      0.76      3388\n",
            "weighted avg       0.77      0.76      0.76      3388\n",
            "\n"
          ]
        }
      ]
    },
    {
      "cell_type": "code",
      "source": [
        "# Plot graphs for accuracy and loss\n",
        "def plot_graphs(history, string):\n",
        "  plt.plot(history.history[string])\n",
        "  plt.plot(history.history['val_'+string])\n",
        "  plt.xlabel(\"Epochs\")\n",
        "  plt.ylabel(string)\n",
        "  plt.legend([string, 'val_'+string])\n",
        "  plt.show()\n",
        "  \n",
        "plot_graphs(history, \"accuracy\")\n",
        "plot_graphs(history, \"loss\")"
      ],
      "metadata": {
        "colab": {
          "base_uri": "https://localhost:8080/",
          "height": 541
        },
        "id": "EA20eH5o9xt0",
        "outputId": "191e1743-a2cb-4824-a11d-afd3d8b041e1"
      },
      "execution_count": 26,
      "outputs": [
        {
          "output_type": "display_data",
          "data": {
            "image/png": "[encoded data removed]",
            "text/plain": [
              "<Figure size 432x288 with 1 Axes>"
            ]
          },
          "metadata": {
            "needs_background": "light"
          }
        },
        {
          "output_type": "display_data",
          "data": {
            "image/png": "[encoded data removed]",
            "text/plain": [
              "<Figure size 432x288 with 1 Axes>"
            ]
          },
          "metadata": {
            "needs_background": "light"
          }
        }
      ]
    }
  ],
  "metadata": {
    "colab": {
      "collapsed_sections": [],
      "name": "lstm_v1.ipynb",
      "provenance": []
    },
    "kernelspec": {
      "display_name": "Python 3",
      "name": "python3"
    },
    "language_info": {
      "name": "python"
    },
    "accelerator": "GPU"
  },
  "nbformat": 4,
  "nbformat_minor": 0
}