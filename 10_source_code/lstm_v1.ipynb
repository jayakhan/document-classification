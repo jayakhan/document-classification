{
  "cells": [
    {
      "cell_type": "markdown",
      "source": [
        "## 1) Import Libraries"
      ],
      "metadata": {
        "id": "OMv-jNrCyAw4"
      }
    },
    {
      "cell_type": "code",
      "execution_count": null,
      "metadata": {
        "id": "Nbz7pFk_tGTH"
      },
      "outputs": [],
      "source": [
        "import numpy as np\n",
        "import nltk\n",
        "nltk.download('stopwords')\n",
        "import pandas as pd\n",
        "import matplotlib.pyplot as plt\n",
        "from sklearn.model_selection import train_test_split\n",
        "\n",
        "from nltk.corpus import stopwords\n",
        "STOPWORDS = set(stopwords.words('english'))\n",
        "\n",
        "from tensorflow import keras\n",
        "import tensorflow as tf\n",
        "from tensorflow.keras.models import Sequential\n",
        "from tensorflow.keras.preprocessing.text import Tokenizer\n",
        "from tensorflow.keras.preprocessing.sequence import pad_sequences"
      ]
    },
    {
      "cell_type": "markdown",
      "source": [
        "## 2) Set Model Hyperparameters"
      ],
      "metadata": {
        "id": "AyYbSjZIyKpN"
      }
    },
    {
      "cell_type": "code",
      "execution_count": 27,
      "metadata": {
        "id": "Aj7eML586AMb"
      },
      "outputs": [],
      "source": [
        "#Hyperparameters\n",
        "vocab_size = 2000\n",
        "embedding_dim = 64\n",
        "max_length = 500\n",
        "trunc_type = 'post'\n",
        "padding_type = 'post'\n",
        "oov_tok = '<OOV>'\n",
        "training_portion = .8"
      ]
    },
    {
      "cell_type": "markdown",
      "source": [
        "## 3) Load Real Dataset"
      ],
      "metadata": {
        "id": "Z_C6P_nSyRg_"
      }
    },
    {
      "cell_type": "code",
      "execution_count": 28,
      "metadata": {
        "id": "7bl3sH6ZtQFm"
      },
      "outputs": [],
      "source": [
        "# Adding Dataset into articles and labels list\n",
        "articles = []\n",
        "labels = []\n",
        "with open('/content/20ng-train-stemmed.txt') as file:\n",
        "  docs = file.readlines()\n",
        "  for line in docs:\n",
        "    labels.append(line.split('\\t')[0])\n",
        "    article = line.split('\\t')[1]\n",
        "    for word in STOPWORDS:\n",
        "      token = ' ' + word + ' '\n",
        "      article = article.replace(token, ' ')\n",
        "      article = article.replace(' ', ' ')\n",
        "    articles.append(article)"
      ]
    },
    {
      "cell_type": "code",
      "source": [
        "# Clean Label Names\n",
        "labels_new = []\n",
        "for i in labels:\n",
        "  i = i.replace('.', '')\n",
        "  i = i.replace('-', '')\n",
        "  labels_new.append(i)"
      ],
      "metadata": {
        "id": "BHgRDxNCmJrn"
      },
      "execution_count": 29,
      "outputs": []
    },
    {
      "cell_type": "markdown",
      "source": [
        "## 4) Split data into 70% training and 30% validation datasets"
      ],
      "metadata": {
        "id": "k9yC_BsoygJJ"
      }
    },
    {
      "cell_type": "code",
      "source": [
        "train_articles, validation_articles, train_labels, validation_labels = train_test_split(articles, labels_new, test_size=0.3, stratify=labels_new)"
      ],
      "metadata": {
        "id": "Pm-YSCezWZCL"
      },
      "execution_count": 30,
      "outputs": []
    },
    {
      "cell_type": "code",
      "execution_count": null,
      "metadata": {
        "colab": {
          "base_uri": "https://localhost:8080/"
        },
        "id": "rM0Phhsc8jkw",
        "outputId": "d3fff4e7-08e6-4f99-fd85-b08dc6ad71c6"
      },
      "outputs": [
        {
          "output_type": "stream",
          "name": "stdout",
          "text": [
            "7905\n",
            "7905\n",
            "3388\n",
            "3388\n"
          ]
        }
      ],
      "source": [
        "print(len(train_articles))\n",
        "print(len(train_labels))\n",
        "print(len(validation_articles))\n",
        "print(len(validation_labels))"
      ]
    },
    {
      "cell_type": "code",
      "source": [
        "# Check distribution of training dataset\n",
        "pd.Series(train_labels).value_counts()"
      ],
      "metadata": {
        "colab": {
          "base_uri": "https://localhost:8080/"
        },
        "id": "uVbvpNlvVoAU",
        "outputId": "aaedb5c0-9c18-47fd-f6b2-3faaa41928db"
      },
      "execution_count": 31,
      "outputs": [
        {
          "output_type": "execute_result",
          "data": {
            "text/plain": [
              "recsporthockey          420\n",
              "socreligionchristian    419\n",
              "recmotorcycles          419\n",
              "recsportbaseball        418\n",
              "recautos                416\n",
              "scimed                  416\n",
              "scicrypt                416\n",
              "scispace                415\n",
              "compwindowsx            415\n",
              "scielectronics          414\n",
              "compsysibmpchardware    413\n",
              "compgraphics            409\n",
              "miscforsale             409\n",
              "compsysmachardware      405\n",
              "composmswindowsmisc     400\n",
              "talkpoliticsmideast     395\n",
              "talkpoliticsguns        381\n",
              "altatheism              336\n",
              "talkpoliticsmisc        325\n",
              "talkreligionmisc        264\n",
              "dtype: int64"
            ]
          },
          "metadata": {},
          "execution_count": 31
        }
      ]
    },
    {
      "cell_type": "code",
      "source": [
        " # Check distribution of validation dataset\n",
        " pd.Series(validation_labels).value_counts()"
      ],
      "metadata": {
        "colab": {
          "base_uri": "https://localhost:8080/"
        },
        "id": "j2PZgN7-dQnv",
        "outputId": "dccb30ed-abc7-47ae-fa4b-194e0a4d128c"
      },
      "execution_count": 32,
      "outputs": [
        {
          "output_type": "execute_result",
          "data": {
            "text/plain": [
              "recsporthockey          180\n",
              "scicrypt                179\n",
              "recsportbaseball        179\n",
              "recmotorcycles          179\n",
              "socreligionchristian    179\n",
              "compwindowsx            178\n",
              "scispace                178\n",
              "scimed                  178\n",
              "recautos                178\n",
              "scielectronics          177\n",
              "compsysibmpchardware    177\n",
              "miscforsale             176\n",
              "compgraphics            175\n",
              "compsysmachardware      173\n",
              "composmswindowsmisc     172\n",
              "talkpoliticsmideast     169\n",
              "talkpoliticsguns        164\n",
              "altatheism              144\n",
              "talkpoliticsmisc        140\n",
              "talkreligionmisc        113\n",
              "dtype: int64"
            ]
          },
          "metadata": {},
          "execution_count": 32
        }
      ]
    },
    {
      "cell_type": "markdown",
      "source": [
        "## 5a) Tokenization and Vectorization - Articles"
      ],
      "metadata": {
        "id": "B2e-79W5y0IM"
      }
    },
    {
      "cell_type": "code",
      "execution_count": 33,
      "metadata": {
        "colab": {
          "base_uri": "https://localhost:8080/"
        },
        "id": "9Nqv14ys6eTz",
        "outputId": "4dbb15ba-4890-4b7e-a9ce-aea6a387d91d"
      },
      "outputs": [
        {
          "output_type": "stream",
          "name": "stdout",
          "text": [
            "[1, 1, 337, 639, 5, 1, 1, 1, 3, 1, 1, 337, 1, 1, 219, 10, 1, 1, 1, 976, 210, 1, 1472, 192, 1735, 1, 1, 284, 192, 1, 1, 1, 318, 384, 119, 192, 239, 80, 1, 39, 1, 134, 807, 1, 936, 76, 1448, 384, 361, 1518, 159, 1, 247, 1, 2, 1, 1, 1958, 1895, 1, 192, 1, 1, 1235, 1, 1, 281, 210, 702, 1479, 173, 1, 546, 1, 192, 1, 1, 564, 1, 422, 1, 942, 16, 383, 251, 1374, 277, 416, 187, 1, 1, 918, 1]\n",
            "[5, 18, 1, 1, 1760, 1, 1, 1760, 4, 339, 425, 1432, 65, 620, 1, 1, 25, 1, 1, 1, 240, 1, 1, 349, 366, 479, 27, 1, 309, 1, 1, 1432, 65, 620, 403, 299, 618, 179, 1644, 234, 1, 1, 1, 1, 994, 322, 256, 339, 1340, 653, 1, 1, 1432, 65, 620, 25, 1, 1, 1, 39, 1, 1754, 1, 67, 242, 86, 45, 1823, 242, 1, 584, 1077, 46, 212, 1835, 732, 720, 777, 234, 1, 100, 167, 295, 1, 157, 366, 100, 1, 1, 1658, 1, 2, 159, 462, 60, 1754, 1, 1, 147, 366, 1, 1, 39, 1, 240, 978, 1, 292, 297, 883, 1562, 824, 85, 203, 86, 1, 85, 1462, 618, 1352, 1, 1, 701, 1, 1, 1, 1760, 529, 1, 552, 1, 1760, 1, 552, 1454, 13, 529, 1, 300, 1, 1664, 1356, 1, 94, 671, 1, 1081, 1, 1, 79, 1, 1, 1, 1, 3, 1777, 62, 92]\n"
          ]
        }
      ],
      "source": [
        "# Tokenize articles for training datasets\n",
        "tokenizer = Tokenizer(num_words = vocab_size, oov_token=oov_tok)\n",
        "tokenizer.fit_on_texts(train_articles)\n",
        "train_sequences = tokenizer.texts_to_sequences(train_articles)\n",
        "validation_sequences = tokenizer.texts_to_sequences(validation_articles)\n",
        "\n",
        "print(train_sequences[10])\n",
        "print(validation_sequences[10])"
      ]
    },
    {
      "cell_type": "code",
      "execution_count": 34,
      "metadata": {
        "colab": {
          "base_uri": "https://localhost:8080/"
        },
        "id": "-OJgosYj7Ash",
        "outputId": "46161a50-e4eb-4c64-ef32-0a61186a51e1"
      },
      "outputs": [
        {
          "output_type": "stream",
          "name": "stdout",
          "text": [
            "195\n",
            "500\n",
            "300\n",
            "500\n",
            "93\n",
            "500\n",
            "158\n",
            "500\n"
          ]
        }
      ],
      "source": [
        "# Padding to the end of the training and validation articles\n",
        "train_padded = pad_sequences(train_sequences, maxlen=max_length, padding=padding_type, truncating=trunc_type)\n",
        "validation_padded = pad_sequences(validation_sequences, maxlen=max_length, padding=padding_type, truncating=trunc_type)\n",
        "\n",
        "print(len(train_sequences[0]))\n",
        "print(len(train_padded[0]))\n",
        "\n",
        "print(len(train_sequences[1]))\n",
        "print(len(train_padded[1]))\n",
        "\n",
        "print(len(train_sequences[10]))\n",
        "print(len(train_padded[10]))\n",
        "\n",
        "print(len(validation_sequences[10]))\n",
        "print(len(validation_padded[10]))"
      ]
    },
    {
      "cell_type": "markdown",
      "source": [
        "## 5b) Tokenization and Vectorization - Labels"
      ],
      "metadata": {
        "id": "Y9t-oTWUzhDa"
      }
    },
    {
      "cell_type": "code",
      "execution_count": 35,
      "metadata": {
        "colab": {
          "base_uri": "https://localhost:8080/"
        },
        "id": "PNtlnmms9Qv7",
        "outputId": "469d2f11-801b-465d-e560-22d5813add5a"
      },
      "outputs": [
        {
          "output_type": "stream",
          "name": "stdout",
          "text": [
            "[7]\n",
            "[19]\n",
            "[12]\n",
            "(7905, 1)\n",
            "[12]\n",
            "[6]\n",
            "[2]\n",
            "(3388, 1)\n"
          ]
        }
      ],
      "source": [
        "label_tokenizer = Tokenizer()\n",
        "label_tokenizer.fit_on_texts(labels_new)\n",
        "training_label_seq = np.asarray(label_tokenizer.texts_to_sequences(train_labels))\n",
        "validation_label_seq = np.asarray(label_tokenizer.texts_to_sequences(validation_labels))\n",
        "print(training_label_seq[0])\n",
        "print(training_label_seq[1])\n",
        "print(training_label_seq[2])\n",
        "print(training_label_seq.shape)\n",
        "\n",
        "print(validation_label_seq[0])\n",
        "print(validation_label_seq[1])\n",
        "print(validation_label_seq[2])\n",
        "print(validation_label_seq.shape)"
      ]
    },
    {
      "cell_type": "markdown",
      "source": [
        "## 6) Model Building"
      ],
      "metadata": {
        "id": "aY5dhJ7Uzttt"
      }
    },
    {
      "cell_type": "code",
      "execution_count": 36,
      "metadata": {
        "colab": {
          "base_uri": "https://localhost:8080/"
        },
        "id": "pEk37J04AObX",
        "outputId": "9eccdb0a-d586-46df-eac0-805842972302"
      },
      "outputs": [
        {
          "output_type": "stream",
          "name": "stdout",
          "text": [
            "Model: \"sequential_1\"\n",
            "_________________________________________________________________\n",
            " Layer (type)                Output Shape              Param #   \n",
            "=================================================================\n",
            " embedding_1 (Embedding)     (None, None, 64)          128000    \n",
            "                                                                 \n",
            " bidirectional_1 (Bidirectio  (None, 128)              66048     \n",
            " nal)                                                            \n",
            "                                                                 \n",
            " dense_2 (Dense)             (None, 64)                8256      \n",
            "                                                                 \n",
            " dense_3 (Dense)             (None, 32)                2080      \n",
            "                                                                 \n",
            "=================================================================\n",
            "Total params: 204,384\n",
            "Trainable params: 204,384\n",
            "Non-trainable params: 0\n",
            "_________________________________________________________________\n"
          ]
        }
      ],
      "source": [
        "model = tf.keras.Sequential([\n",
        "    # Add an Embedding layer expecting input vocab of size 2000, and output embedding dimension of size 64\n",
        "    tf.keras.layers.Embedding(vocab_size, embedding_dim),\n",
        "    tf.keras.layers.Bidirectional(tf.keras.layers.LSTM(embedding_dim)),\n",
        "    tf.keras.layers.Dense(embedding_dim, activation='relu'),\n",
        "    tf.keras.layers.Dense(32, activation='softmax')\n",
        "])\n",
        "model.summary()"
      ]
    },
    {
      "cell_type": "code",
      "source": [
        "[print(i.shape, i.dtype) for i in model.inputs]\n",
        "[print(o.shape, o.dtype) for o in model.outputs]\n",
        "[print(l.name, l.input_shape, l.dtype) for l in model.layers]"
      ],
      "metadata": {
        "colab": {
          "base_uri": "https://localhost:8080/"
        },
        "id": "m7QyMUS00BhU",
        "outputId": "ed0fcf29-8637-4f5e-b45a-dcacf5d1572a"
      },
      "execution_count": 37,
      "outputs": [
        {
          "output_type": "stream",
          "name": "stdout",
          "text": [
            "(None, None) <dtype: 'float32'>\n",
            "(None, 32) <dtype: 'float32'>\n",
            "embedding_1 (None, None) float32\n",
            "bidirectional_1 (None, None, 64) float32\n",
            "dense_2 (None, 128) float32\n",
            "dense_3 (None, 64) float32\n"
          ]
        },
        {
          "output_type": "execute_result",
          "data": {
            "text/plain": [
              "[None, None, None, None]"
            ]
          },
          "metadata": {},
          "execution_count": 37
        }
      ]
    },
    {
      "cell_type": "code",
      "execution_count": 38,
      "metadata": {
        "colab": {
          "base_uri": "https://localhost:8080/"
        },
        "id": "k3Tz3RjBBTkL",
        "outputId": "83856a0d-5065-4643-f36c-2e92f4ceb889"
      },
      "outputs": [
        {
          "output_type": "stream",
          "name": "stdout",
          "text": [
            "(7905, 500)\n",
            "(7905, 1)\n",
            "(3388, 500)\n",
            "(3388, 1)\n"
          ]
        }
      ],
      "source": [
        "# Check dataset before model fitting\n",
        "print(train_padded.shape)\n",
        "print(training_label_seq.shape)\n",
        "print(validation_padded.shape)\n",
        "print(validation_label_seq.shape)"
      ]
    },
    {
      "cell_type": "code",
      "execution_count": 39,
      "metadata": {
        "colab": {
          "base_uri": "https://localhost:8080/"
        },
        "id": "SGGa_ixyF5OW",
        "outputId": "c8be621b-0987-444b-dd94-06f80f7cc41e"
      },
      "outputs": [
        {
          "output_type": "stream",
          "name": "stdout",
          "text": [
            "<class 'numpy.ndarray'>\n",
            "<class 'numpy.ndarray'>\n",
            "<class 'numpy.ndarray'>\n",
            "<class 'numpy.ndarray'>\n"
          ]
        }
      ],
      "source": [
        "# Check dataset before model fitting\n",
        "print(type(train_padded))\n",
        "print(type(training_label_seq))\n",
        "print(type(validation_padded))\n",
        "print(type(validation_label_seq))"
      ]
    },
    {
      "cell_type": "markdown",
      "source": [
        "## 6) Model Validation"
      ],
      "metadata": {
        "id": "H8WM5tJVcjsP"
      }
    },
    {
      "cell_type": "code",
      "execution_count": 40,
      "metadata": {
        "id": "JWxWZyvAAYtm",
        "colab": {
          "base_uri": "https://localhost:8080/"
        },
        "outputId": "97ecbca3-971f-4aff-a680-e04294b5a1d6"
      },
      "outputs": [
        {
          "output_type": "stream",
          "name": "stdout",
          "text": [
            "Epoch 1/10\n",
            "248/248 - 58s - loss: 2.8629 - accuracy: 0.1218 - val_loss: 2.3170 - val_accuracy: 0.2320 - 58s/epoch - 236ms/step\n",
            "Epoch 2/10\n",
            "248/248 - 53s - loss: 1.6645 - accuracy: 0.4633 - val_loss: 1.2304 - val_accuracy: 0.6222 - 53s/epoch - 214ms/step\n",
            "Epoch 3/10\n",
            "248/248 - 53s - loss: 0.9160 - accuracy: 0.7159 - val_loss: 0.9302 - val_accuracy: 0.7161 - 53s/epoch - 214ms/step\n",
            "Epoch 4/10\n",
            "248/248 - 53s - loss: 0.6000 - accuracy: 0.8204 - val_loss: 0.9582 - val_accuracy: 0.7240 - 53s/epoch - 215ms/step\n",
            "Epoch 5/10\n",
            "248/248 - 53s - loss: 0.5233 - accuracy: 0.8369 - val_loss: 0.7911 - val_accuracy: 0.7763 - 53s/epoch - 214ms/step\n",
            "Epoch 6/10\n",
            "248/248 - 53s - loss: 0.3743 - accuracy: 0.8861 - val_loss: 0.8364 - val_accuracy: 0.7721 - 53s/epoch - 214ms/step\n",
            "Epoch 7/10\n",
            "248/248 - 53s - loss: 0.3200 - accuracy: 0.9018 - val_loss: 0.8723 - val_accuracy: 0.7671 - 53s/epoch - 214ms/step\n",
            "Epoch 8/10\n",
            "248/248 - 53s - loss: 0.2476 - accuracy: 0.9264 - val_loss: 0.9100 - val_accuracy: 0.7789 - 53s/epoch - 215ms/step\n",
            "Epoch 9/10\n",
            "248/248 - 53s - loss: 0.1926 - accuracy: 0.9442 - val_loss: 0.9614 - val_accuracy: 0.7724 - 53s/epoch - 214ms/step\n",
            "Epoch 10/10\n",
            "248/248 - 53s - loss: 0.2001 - accuracy: 0.9424 - val_loss: 0.9945 - val_accuracy: 0.7786 - 53s/epoch - 214ms/step\n"
          ]
        }
      ],
      "source": [
        "model.compile(loss='sparse_categorical_crossentropy', optimizer='adam', metrics=['accuracy'])\n",
        "num_epochs = 10\n",
        "history = model.fit(train_padded, training_label_seq, epochs=num_epochs, validation_data=(validation_padded, validation_label_seq), verbose=2)"
      ]
    },
    {
      "cell_type": "markdown",
      "source": [
        "## 7) Model Evaluation"
      ],
      "metadata": {
        "id": "Hi0cbKbB0LtQ"
      }
    },
    {
      "cell_type": "code",
      "source": [
        "score = model.evaluate(validation_padded, validation_label_seq, verbose=10)\n",
        "\n",
        "print(\"Loss: %.3f \\nAccuracy: %.3f\" % (score[0], score[1]))"
      ],
      "metadata": {
        "colab": {
          "base_uri": "https://localhost:8080/"
        },
        "id": "rXqI2UJYvojM",
        "outputId": "2950eaf1-b5f7-4d2b-f50a-783e8a4156ae"
      },
      "execution_count": 41,
      "outputs": [
        {
          "output_type": "stream",
          "name": "stdout",
          "text": [
            "Loss: 0.994 \n",
            "Accuracy: 0.779\n"
          ]
        }
      ]
    },
    {
      "cell_type": "code",
      "source": [
        "LABELS = ['altatheism', 'compgraphics', 'composmswindowsmisc', 'compsysibmpchardware', 'compsysmachardware', 'compwindowsx', 'miscforsale', 'recautos', 'recmotorcycles', 'recsportbaseball',\n",
        "              'recsporthockey', 'scicrypt', 'scielectronics', 'scimed', 'scispace', 'socreligionchristian', 'talkpoliticsguns', 'talkpoliticsmideast', 'talkpoliticsmisc', 'talkreligionmisc']"
      ],
      "metadata": {
        "id": "OkOdTPO8X1W4"
      },
      "execution_count": 42,
      "outputs": []
    },
    {
      "cell_type": "code",
      "source": [
        "start_time = time.time()\n",
        "y_pred = model.predict(validation_padded, batch_size=64, verbose=10)\n",
        "print('Done. Time elapsed: {:.2f}s'.format(time.time() - start_time))"
      ],
      "metadata": {
        "id": "p4Nfu47MpnDF",
        "outputId": "84636e29-ccd8-4588-bb06-31f563177ea2",
        "colab": {
          "base_uri": "https://localhost:8080/"
        }
      },
      "execution_count": 43,
      "outputs": [
        {
          "output_type": "stream",
          "name": "stdout",
          "text": [
            "Done. Time elapsed: 6.07s\n"
          ]
        }
      ]
    },
    {
      "cell_type": "code",
      "source": [
        "from sklearn.metrics import classification_report\n",
        "y_pred_bool = np.argmax(y_pred, axis=1)\n",
        "print(classification_report(validation_label_seq.copy(), y_pred_bool.copy(), target_names=LABELS))"
      ],
      "metadata": {
        "colab": {
          "base_uri": "https://localhost:8080/"
        },
        "id": "nHDrH_IPw5AI",
        "outputId": "0dcc46e8-77d8-4a88-b541-f3b08cbae076"
      },
      "execution_count": 44,
      "outputs": [
        {
          "output_type": "stream",
          "name": "stdout",
          "text": [
            "                      precision    recall  f1-score   support\n",
            "\n",
            "          altatheism       0.88      0.89      0.89       180\n",
            "        compgraphics       0.79      0.87      0.82       179\n",
            " composmswindowsmisc       0.83      0.87      0.85       179\n",
            "compsysibmpchardware       0.77      0.85      0.81       179\n",
            "  compsysmachardware       0.94      0.92      0.93       179\n",
            "        compwindowsx       0.83      0.65      0.73       178\n",
            "         miscforsale       0.81      0.75      0.78       178\n",
            "            recautos       0.76      0.74      0.75       178\n",
            "      recmotorcycles       0.86      0.74      0.79       178\n",
            "    recsportbaseball       0.74      0.71      0.72       177\n",
            "      recsporthockey       0.58      0.64      0.61       177\n",
            "            scicrypt       0.69      0.73      0.71       176\n",
            "      scielectronics       0.75      0.66      0.71       175\n",
            "              scimed       0.79      0.68      0.73       173\n",
            "            scispace       0.64      0.77      0.70       172\n",
            "socreligionchristian       0.88      0.90      0.89       169\n",
            "    talkpoliticsguns       0.83      0.90      0.86       164\n",
            " talkpoliticsmideast       0.89      0.76      0.82       144\n",
            "    talkpoliticsmisc       0.70      0.76      0.73       140\n",
            "    talkreligionmisc       0.65      0.79      0.71       113\n",
            "\n",
            "            accuracy                           0.78      3388\n",
            "           macro avg       0.78      0.78      0.78      3388\n",
            "        weighted avg       0.78      0.78      0.78      3388\n",
            "\n"
          ]
        }
      ]
    },
    {
      "cell_type": "code",
      "source": [
        "# Plot graphs for accuracy and loss\n",
        "def plot_graphs(history, string):\n",
        "  plt.plot(history.history[string])\n",
        "  plt.plot(history.history['val_'+string])\n",
        "  plt.xlabel(\"Epochs\")\n",
        "  plt.ylabel(string)\n",
        "  plt.legend([string, 'val_'+string])\n",
        "  plt.show()\n",
        "  \n",
        "plot_graphs(history, \"accuracy\")\n",
        "plot_graphs(history, \"loss\")"
      ],
      "metadata": {
        "colab": {
          "base_uri": "https://localhost:8080/",
          "height": 541
        },
        "id": "EA20eH5o9xt0",
        "outputId": "b56dc546-0e69-4b56-f00f-02df71e62582"
      },
      "execution_count": 45,
      "outputs": [
        {
          "output_type": "display_data",
          "data": {
            "image/png": "[encoded data removed]",
            "text/plain": [
              "<Figure size 432x288 with 1 Axes>"
            ]
          },
          "metadata": {
            "needs_background": "light"
          }
        },
        {
          "output_type": "display_data",
          "data": {
            "image/png": "[encoded data removed]",
            "text/plain": [
              "<Figure size 432x288 with 1 Axes>"
            ]
          },
          "metadata": {
            "needs_background": "light"
          }
        }
      ]
    }
  ],
  "metadata": {
    "colab": {
      "collapsed_sections": [],
      "name": "lstm_v1.ipynb",
      "provenance": []
    },
    "kernelspec": {
      "display_name": "Python 3",
      "name": "python3"
    },
    "language_info": {
      "name": "python"
    },
    "accelerator": "GPU"
  },
  "nbformat": 4,
  "nbformat_minor": 0
}