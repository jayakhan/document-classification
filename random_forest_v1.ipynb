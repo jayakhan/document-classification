{
  "nbformat": 4,
  "nbformat_minor": 0,
  "metadata": {
    "colab": {
      "name": "random_forest_v1.ipynb",
      "provenance": [],
      "collapsed_sections": [],
      "authorship_tag": "ABX9TyPSbNfBblFWxI+924TyK8yQ",
      "include_colab_link": true
    },
    "kernelspec": {
      "name": "python3",
      "display_name": "Python 3"
    },
    "language_info": {
      "name": "python"
    }
  },
  "cells": [
    {
      "cell_type": "markdown",
      "metadata": {
        "id": "view-in-github",
        "colab_type": "text"
      },
      "source": [
        "<a href=\"https://colab.research.google.com/github/jayakhan/document-classification/blob/main/random_forest_v1.ipynb\" target=\"_parent\"><img src=\"https://colab.research.google.com/assets/colab-badge.svg\" alt=\"Open In Colab\"/></a>"
      ]
    },
    {
      "cell_type": "code",
      "execution_count": null,
      "metadata": {
        "id": "U-Use35qLJza"
      },
      "outputs": [],
      "source": [
        "from pathlib import Path\n",
        "import numpy as np\n",
        "import random\n",
        "import matplotlib.pyplot as plt\n",
        "import pandas as pd\n",
        "import time\n",
        "import pickle\n",
        "\n",
        "from sklearn.naive_bayes import MultinomialNB\n",
        "from sklearn.feature_extraction.text import CountVectorizer\n",
        "from sklearn.metrics import accuracy_score, recall_score, f1_score, precision_score\n",
        "from sklearn.model_selection import train_test_split\n",
        "\n",
        "import nltk\n",
        "from nltk.corpus import stopwords\n",
        "nltk.download('stopwords')\n",
        "nltk.download('punkt')\n",
        "nltk.download('wordnet')\n",
        "STOPWORDS = set(stopwords.words('english'))\n",
        "from nltk import word_tokenize          \n",
        "from nltk.stem import WordNetLemmatizer"
      ]
    },
    {
      "cell_type": "code",
      "source": [
        "# Adding Dataset into articles and labels list\n",
        "articles = []\n",
        "labels = []\n",
        "with open('/content/20ng-train-stemmed.txt') as file:\n",
        "  docs = file.readlines()\n",
        "  for line in docs:\n",
        "    labels.append(line.split('\\t')[0])\n",
        "    article = line.split('\\t')[1]\n",
        "    # Filter data based on STOPWORDS\n",
        "    for word in STOPWORDS:\n",
        "      token = ' ' + word + ' '\n",
        "      article = article.replace(token, ' ')\n",
        "      article = article.replace(' ', ' ')\n",
        "    articles.append(article)"
      ],
      "metadata": {
        "id": "YsGgHi6ZLXvx"
      },
      "execution_count": 2,
      "outputs": []
    },
    {
      "cell_type": "code",
      "source": [
        "# Clean Label Names\n",
        "labels_new = []\n",
        "for i in labels:\n",
        "  i = i.replace('.', '')\n",
        "  i = i.replace('-', '')\n",
        "  labels_new.append(i)"
      ],
      "metadata": {
        "id": "wAS0Z9EsLbAl"
      },
      "execution_count": 3,
      "outputs": []
    },
    {
      "cell_type": "code",
      "source": [
        "train_articles, validation_articles, train_labels, validation_labels = train_test_split(articles, labels_new, test_size=0.3, stratify=labels_new)"
      ],
      "metadata": {
        "id": "kWF7qYgTLjVW"
      },
      "execution_count": 4,
      "outputs": []
    },
    {
      "cell_type": "code",
      "source": [
        "\"\"\"This class uses WordNetLemmatizer to stem words with length more than two\"\"\"\n",
        "class LemmaTokenizer(object):\n",
        "    def __init__(self):\n",
        "        self.wnl = WordNetLemmatizer()\n",
        "\n",
        "    def __call__(self, doc):\n",
        "        return [self.wnl.lemmatize(t) for t in word_tokenize(doc) if len(t) >= 2]"
      ],
      "metadata": {
        "id": "PVCX1wDvL5ur"
      },
      "execution_count": 6,
      "outputs": []
    },
    {
      "cell_type": "code",
      "source": [
        "# Load CountVectorizer API\n",
        "from sklearn.feature_extraction.text import CountVectorizer\n",
        "cv = CountVectorizer(input='content', analyzer='word', tokenizer=LemmaTokenizer(), max_features=2000)"
      ],
      "metadata": {
        "id": "99a26g8rL8wH"
      },
      "execution_count": 7,
      "outputs": []
    },
    {
      "cell_type": "code",
      "source": [
        "# Convert Articles to their vector sparse representation\n",
        "X_train_cv = cv.fit_transform(train_articles)\n",
        "X_test_cv = cv.transform(validation_articles)"
      ],
      "metadata": {
        "id": "N02CxB9xMAkz"
      },
      "execution_count": 8,
      "outputs": []
    },
    {
      "cell_type": "code",
      "source": [
        "from sklearn.ensemble import RandomForestClassifier\n",
        "rfc = RandomForestClassifier(random_state=0)\n",
        "rfc.fit(X_train_cv, train_labels)"
      ],
      "metadata": {
        "colab": {
          "base_uri": "https://localhost:8080/"
        },
        "id": "_io_TPDILuCW",
        "outputId": "f0ab1bb2-8de6-463f-8d83-d105c75f14d3"
      },
      "execution_count": 16,
      "outputs": [
        {
          "output_type": "execute_result",
          "data": {
            "text/plain": [
              "RandomForestClassifier(random_state=0)"
            ]
          },
          "metadata": {},
          "execution_count": 16
        }
      ]
    },
    {
      "cell_type": "code",
      "source": [
        "y_pred = rfc.predict(X_test_cv)"
      ],
      "metadata": {
        "id": "VDbKhc_UMLAF"
      },
      "execution_count": 17,
      "outputs": []
    },
    {
      "cell_type": "code",
      "source": [
        "from sklearn.metrics import accuracy_score\n",
        "\n",
        "print('Model accuracy score with 10 decision-trees : {0:0.4f}'. format(accuracy_score(validation_labels, y_pred)))"
      ],
      "metadata": {
        "colab": {
          "base_uri": "https://localhost:8080/"
        },
        "id": "bTDtmKKWMQma",
        "outputId": "383d435d-9404-4d95-a2cc-3f515d01035e"
      },
      "execution_count": 18,
      "outputs": [
        {
          "output_type": "stream",
          "name": "stdout",
          "text": [
            "Model accuracy score with 10 decision-trees : 0.7896\n"
          ]
        }
      ]
    },
    {
      "cell_type": "code",
      "source": [
        "rfc_100 = RandomForestClassifier(n_estimators=100, random_state=0)\n",
        "rfc_100.fit(X_train_cv, train_labels)\n",
        "# Predict on the test set results\n",
        "y_pred_100 = rfc_100.predict(X_test_cv)"
      ],
      "metadata": {
        "id": "D7h3yJnTMakh"
      },
      "execution_count": 19,
      "outputs": []
    },
    {
      "cell_type": "code",
      "source": [
        "print('Model accuracy score with 100 decision-trees : {0:0.4f}'. format(accuracy_score(validation_labels, y_pred_100)))"
      ],
      "metadata": {
        "colab": {
          "base_uri": "https://localhost:8080/"
        },
        "id": "12iY40CNMoXN",
        "outputId": "a852352c-2f85-404e-c314-75dc02bdea56"
      },
      "execution_count": 20,
      "outputs": [
        {
          "output_type": "stream",
          "name": "stdout",
          "text": [
            "Model accuracy score with 100 decision-trees : 0.7896\n"
          ]
        }
      ]
    },
    {
      "cell_type": "code",
      "source": [
        "# view the feature scores\n",
        "\n",
        "feature_scores = pd.Series(rfc.feature_importances_, index=cv.get_feature_names()).sort_values(ascending=False)\n",
        "\n",
        "feature_scores"
      ],
      "metadata": {
        "colab": {
          "base_uri": "https://localhost:8080/"
        },
        "id": "Sx1ONJ_qM_am",
        "outputId": "9f722eed-aa4e-43db-9e52-449ab5b01349"
      },
      "execution_count": 26,
      "outputs": [
        {
          "output_type": "stream",
          "name": "stderr",
          "text": [
            "/usr/local/lib/python3.7/dist-packages/sklearn/utils/deprecation.py:87: FutureWarning: Function get_feature_names is deprecated; get_feature_names is deprecated in 1.0 and will be removed in 1.2. Please use get_feature_names_out instead.\n",
            "  warnings.warn(msg, category=FutureWarning)\n"
          ]
        },
        {
          "output_type": "execute_result",
          "data": {
            "text/plain": [
              "car        0.014844\n",
              "window     0.013398\n",
              "sale       0.012573\n",
              "dod        0.012439\n",
              "bike       0.012095\n",
              "             ...   \n",
              "ottoman    0.000004\n",
              "fprintf    0.000000\n",
              "sumgait    0.000000\n",
              "onam       0.000000\n",
              "eof        0.000000\n",
              "Length: 2000, dtype: float64"
            ]
          },
          "metadata": {},
          "execution_count": 26
        }
      ]
    },
    {
      "cell_type": "code",
      "source": [
        "# Creating a seaborn bar plot\n",
        "import matplotlib.pyplot as plt\n",
        "import seaborn as sns\n",
        "sns.barplot(x=feature_scores, y=feature_scores.index)\n",
        "plt.xlabel('Feature Importance Score')\n",
        "plt.ylabel('Features')\n",
        "plt.title(\"Visualizing Important Features\")\n",
        "plt.show()"
      ],
      "metadata": {
        "colab": {
          "base_uri": "https://localhost:8080/",
          "height": 295
        },
        "id": "6mvXA1_rNpm3",
        "outputId": "22cd8233-5406-4757-f610-d7627ce1445d"
      },
      "execution_count": 27,
      "outputs": [
        {
          "output_type": "display_data",
          "data": {
            "image/png": "[encoded data removed]",
            "text/plain": [
              "<Figure size 432x288 with 1 Axes>"
            ]
          },
          "metadata": {
            "needs_background": "light"
          }
        }
      ]
    },
    {
      "cell_type": "code",
      "source": [
        "from sklearn.metrics import confusion_matrix\n",
        "\n",
        "cm = confusion_matrix(validation_labels, y_pred)\n",
        "\n",
        "print('Confusion matrix\\n\\n', cm)"
      ],
      "metadata": {
        "colab": {
          "base_uri": "https://localhost:8080/"
        },
        "id": "Q4XwJjdJN9AY",
        "outputId": "58036415-70cd-42cf-d5b6-c612004d934c"
      },
      "execution_count": 28,
      "outputs": [
        {
          "output_type": "stream",
          "name": "stdout",
          "text": [
            "Confusion matrix\n",
            "\n",
            " [[112   2   0   0   0   0   0   0   0   0   0   0   3   2   2   7   1   0\n",
            "    2  13]\n",
            " [  0 128   7   5   7   6   4   2   0   3   0   0   3   4   4   1   0   0\n",
            "    1   0]\n",
            " [  0   8 136  10   1  10   3   1   0   0   0   1   2   0   0   0   0   0\n",
            "    0   0]\n",
            " [  0  12  16 106   8   4  10   1   1   1   1   1   6   3   6   1   0   0\n",
            "    0   0]\n",
            " [  0   3   2  20 126   3   4   0   1   1   0   0   8   3   1   0   1   0\n",
            "    0   0]\n",
            " [  0  12  17   3   0 132   0   1   1   1   0   0   3   1   3   3   1   0\n",
            "    0   0]\n",
            " [  0   4   4   9   6   1 132   2   4   5   1   1   5   0   0   0   1   0\n",
            "    1   0]\n",
            " [  0   3   2   3   2   0   8 136   8   4   0   0   8   2   0   1   1   0\n",
            "    0   0]\n",
            " [  1   3   0   0   0   1   6   7 153   2   1   0   2   1   0   0   1   0\n",
            "    1   0]\n",
            " [  0   4   1   1   1   3   2   4   0 158   3   0   1   1   0   0   0   0\n",
            "    0   0]\n",
            " [  0   2   0   0   1   0   0   2   0  12 160   0   0   3   0   0   0   0\n",
            "    0   0]\n",
            " [  0   2   0   0   0   0   0   0   0   0   0 174   1   0   0   0   0   1\n",
            "    1   0]\n",
            " [  0   6   1   7   3   3   9  14   1   3   2   3 114   7   4   0   0   0\n",
            "    0   0]\n",
            " [  0   4   1   3   0   1   3   1   0   0   1   0   5 158   1   0   0   0\n",
            "    0   0]\n",
            " [  0   5   0   3   0   2   1   2   1   0   0   2   1   5 153   2   1   0\n",
            "    0   0]\n",
            " [  2   2   0   0   0   2   0   1   0   2   0   0   0   4   0 160   0   2\n",
            "    4   0]\n",
            " [  1   1   2   0   0   1   1   1   0   1   0   1   1   1   3   1 142   0\n",
            "    7   0]\n",
            " [  3   1   0   0   0   1   2   4   1   1   0   1   0   5   1   0   0 147\n",
            "    2   0]\n",
            " [  2   2   0   1   1   0   2   2   0   2   0   2   2   7   4   3   6   4\n",
            "   99   1]\n",
            " [  8   0   0   0   1   2   2   4   0   0   0   1   0   5   1  31   4   2\n",
            "    3  49]]\n"
          ]
        }
      ]
    },
    {
      "cell_type": "code",
      "source": [
        "from sklearn.metrics import classification_report\n",
        "\n",
        "print(classification_report(validation_labels, y_pred))"
      ],
      "metadata": {
        "colab": {
          "base_uri": "https://localhost:8080/"
        },
        "id": "O-bTyi5UOGw9",
        "outputId": "78c7ee0e-ea57-44f9-a199-ebc0c068cfe9"
      },
      "execution_count": 29,
      "outputs": [
        {
          "output_type": "stream",
          "name": "stdout",
          "text": [
            "                      precision    recall  f1-score   support\n",
            "\n",
            "          altatheism       0.87      0.78      0.82       144\n",
            "        compgraphics       0.63      0.73      0.68       175\n",
            " composmswindowsmisc       0.72      0.79      0.75       172\n",
            "compsysibmpchardware       0.62      0.60      0.61       177\n",
            "  compsysmachardware       0.80      0.73      0.76       173\n",
            "        compwindowsx       0.77      0.74      0.75       178\n",
            "         miscforsale       0.70      0.75      0.72       176\n",
            "            recautos       0.74      0.76      0.75       178\n",
            "      recmotorcycles       0.89      0.85      0.87       179\n",
            "    recsportbaseball       0.81      0.88      0.84       179\n",
            "      recsporthockey       0.95      0.89      0.92       180\n",
            "            scicrypt       0.93      0.97      0.95       179\n",
            "      scielectronics       0.69      0.64      0.67       177\n",
            "              scimed       0.75      0.89      0.81       178\n",
            "            scispace       0.84      0.86      0.85       178\n",
            "socreligionchristian       0.76      0.89      0.82       179\n",
            "    talkpoliticsguns       0.89      0.87      0.88       164\n",
            " talkpoliticsmideast       0.94      0.87      0.90       169\n",
            "    talkpoliticsmisc       0.82      0.71      0.76       140\n",
            "    talkreligionmisc       0.78      0.43      0.56       113\n",
            "\n",
            "            accuracy                           0.79      3388\n",
            "           macro avg       0.79      0.78      0.78      3388\n",
            "        weighted avg       0.79      0.79      0.79      3388\n",
            "\n"
          ]
        }
      ]
    }
  ]
}