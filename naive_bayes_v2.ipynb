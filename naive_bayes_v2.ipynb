{
  "cells": [
    {
      "cell_type": "markdown",
      "metadata": {
        "id": "view-in-github",
        "colab_type": "text"
      },
      "source": [
        "<a href=\"https://colab.research.google.com/github/jayakhan/document-classification/blob/main/naive_bayes_v2.ipynb\" target=\"_parent\"><img src=\"https://colab.research.google.com/assets/colab-badge.svg\" alt=\"Open In Colab\"/></a>"
      ]
    },
    {
      "cell_type": "markdown",
      "metadata": {
        "id": "MzsQFaSjDDxP"
      },
      "source": [
        "## 1) Load Libraries"
      ]
    },
    {
      "cell_type": "code",
      "execution_count": null,
      "metadata": {
        "id": "jnIEcacP-aLA"
      },
      "outputs": [],
      "source": [
        "from pathlib import Path\n",
        "import numpy as np\n",
        "import random\n",
        "import matplotlib.pyplot as plt\n",
        "import pandas as pd\n",
        "import time\n",
        "import pickle\n",
        "\n",
        "from sklearn.naive_bayes import MultinomialNB\n",
        "from sklearn.feature_extraction.text import CountVectorizer\n",
        "from sklearn.metrics import accuracy_score, recall_score, f1_score, precision_score\n",
        "from sklearn.model_selection import train_test_split\n",
        "\n",
        "import nltk\n",
        "from nltk.corpus import stopwords\n",
        "nltk.download('stopwords')\n",
        "nltk.download('punkt')\n",
        "nltk.download('wordnet')\n",
        "STOPWORDS = set(stopwords.words('english'))\n",
        "from nltk import word_tokenize          \n",
        "from nltk.stem import WordNetLemmatizer "
      ]
    },
    {
      "cell_type": "markdown",
      "metadata": {
        "id": "NKd2jSPSDL5d"
      },
      "source": [
        "## 2) Load Dataset"
      ]
    },
    {
      "cell_type": "code",
      "execution_count": 2,
      "metadata": {
        "id": "3QAoE2oR-y8R"
      },
      "outputs": [],
      "source": [
        "# Adding Dataset into articles and labels list\n",
        "articles = []\n",
        "labels = []\n",
        "with open('/content/synthetic_data.txt') as file:\n",
        "  docs = file.readlines()\n",
        "  for line in docs:\n",
        "    labels.append(line.split('\\t')[0])\n",
        "    article = line.split('\\t')[1]\n",
        "    # Filter data based on STOPWORDS\n",
        "    for word in STOPWORDS:\n",
        "      token = ' ' + word + ' '\n",
        "      article = article.replace(token, ' ')\n",
        "      article = article.replace(' ', ' ')\n",
        "    articles.append(article)"
      ]
    },
    {
      "cell_type": "code",
      "execution_count": 3,
      "metadata": {
        "id": "s6_Ovke_-93P"
      },
      "outputs": [],
      "source": [
        "# Clean Label Names\n",
        "labels_new = []\n",
        "for i in labels:\n",
        "  i = i.replace('.', '')\n",
        "  i = i.replace('-', '')\n",
        "  labels_new.append(i)"
      ]
    },
    {
      "cell_type": "markdown",
      "metadata": {
        "id": "1YhrGOEiDzW1"
      },
      "source": [
        "## 3) Plot Distribution of Articles across Labels"
      ]
    },
    {
      "cell_type": "code",
      "execution_count": 4,
      "metadata": {
        "id": "V4pbUo7iACuW"
      },
      "outputs": [],
      "source": [
        "LABELS = ['altatheism', 'compgraphics', 'composmswindowsmisc', 'compsysibmpchardware', 'compsysmachardware', 'compwindowsx', 'miscforsale', 'recautos', 'recmotorcycles', 'recsportbaseball',\n",
        "              'recsporthockey', 'scicrypt', 'scielectronics', 'scimed', 'scispace', 'socreligionchristian', 'talkpoliticsguns', 'talkpoliticsmideast', 'talkpoliticsmisc', 'talkreligionmisc']"
      ]
    },
    {
      "cell_type": "code",
      "execution_count": 5,
      "metadata": {
        "id": "JNagzgFZAKul"
      },
      "outputs": [],
      "source": [
        "labels = pd.DataFrame(labels_new)\n",
        "new = pd.DataFrame(0, index=np.arange(len(labels)), columns=LABELS)"
      ]
    },
    {
      "cell_type": "code",
      "execution_count": 6,
      "metadata": {
        "id": "8FB-JGw6AQZx"
      },
      "outputs": [],
      "source": [
        "new['recmotorcycles'] = np.where(labels == 'recmotorcycles', 1, 0)\n",
        "new['recsportbaseball'] = np.where(labels == 'recsportbaseball', 1, 0)\n",
        "new['recsporthockey'] = np.where(labels == 'recsporthockey', 1, 0)\n",
        "new['scicrypt'] = np.where(labels == 'scicrypt', 1, 0)\n",
        "new['scielectronics'] = np.where(labels == 'scielectronics', 1, 0)\n",
        "new['scimed'] = np.where(labels == 'scimed', 1, 0)\n",
        "new['scispace'] = np.where(labels == 'scispace', 1, 0)\n",
        "new['socreligionchristian'] = np.where(labels == 'socreligionchristian', 1, 0)\n",
        "new['talkpoliticsguns'] = np.where(labels == 'talkpoliticsguns', 1, 0)\n",
        "new['talkpoliticsmideast'] = np.where(labels == 'talkpoliticsmideast', 1, 0)\n",
        "new['talkpoliticsmisc'] = np.where(labels == 'talkpoliticsmisc', 1, 0)\n",
        "new['talkreligionmisc'] = np.where(labels == 'talkreligionmisc', 1, 0)\n",
        "new['recautos'] = np.where(labels == 'recautos', 1, 0)\n",
        "new['altatheism'] = np.where(labels == 'altatheism', 1, 0)\n",
        "new['compgraphics'] = np.where(labels == 'compgraphics', 1, 0)\n",
        "new['composmswindowsmisc'] = np.where(labels == 'composmswindowsmisc', 1, 0)\n",
        "new['compsysibmpchardware'] = np.where(labels == 'compsysibmpchardware', 1, 0)\n",
        "new['compsysmachardware'] = np.where(labels == 'compsysmachardware', 1, 0)\n",
        "new['compwindowsx'] = np.where(labels == 'compwindowsx', 1, 0)\n",
        "new['miscforsale'] = np.where(labels == 'miscforsale', 1, 0)"
      ]
    },
    {
      "cell_type": "code",
      "execution_count": 7,
      "metadata": {
        "colab": {
          "base_uri": "https://localhost:8080/",
          "height": 515
        },
        "id": "QTyn9_7OB5Ms",
        "outputId": "e6dfda8e-2ba0-4468-f551-99162fa0c58b"
      },
      "outputs": [
        {
          "output_type": "display_data",
          "data": {
            "image/png": "[encoded data removed]",
            "text/plain": [
              "<Figure size 720x432 with 1 Axes>"
            ]
          },
          "metadata": {
            "needs_background": "light"
          }
        }
      ],
      "source": [
        "# Plot label data\n",
        "plt.figure(figsize=(10,6))\n",
        "new.sum(axis=0).plot.bar(color='orange')\n",
        "plt.xlabel(\"Labels\")\n",
        "plt.ylabel(\"Number of Articles\")\n",
        "plt.title(\"Distribution of Articles across Labels\")\n",
        "plt.show()"
      ]
    },
    {
      "cell_type": "markdown",
      "metadata": {
        "id": "O3FWVFbqEKef"
      },
      "source": [
        "## 4) Split data into 70% training and 30% validation datasets"
      ]
    },
    {
      "cell_type": "code",
      "execution_count": 8,
      "metadata": {
        "id": "yauCBR11h6Lj"
      },
      "outputs": [],
      "source": [
        "train_articles, validation_articles, train_labels, validation_labels = train_test_split(articles, labels_new, test_size=0.3, stratify=labels_new)"
      ]
    },
    {
      "cell_type": "code",
      "execution_count": 9,
      "metadata": {
        "colab": {
          "base_uri": "https://localhost:8080/"
        },
        "id": "7NWifZXB_NP8",
        "outputId": "e4284009-14c5-4f6b-c5d6-238e551ba070"
      },
      "outputs": [
        {
          "output_type": "stream",
          "name": "stdout",
          "text": [
            "2100\n",
            "2100\n",
            "900\n",
            "900\n"
          ]
        }
      ],
      "source": [
        "print(len(train_articles))\n",
        "print(len(train_labels))\n",
        "print(len(validation_articles))\n",
        "print(len(validation_labels))"
      ]
    },
    {
      "cell_type": "markdown",
      "metadata": {
        "id": "DlSAZW2UEoib"
      },
      "source": [
        "## 5) Lemmatization and Vectorization"
      ]
    },
    {
      "cell_type": "code",
      "execution_count": 10,
      "metadata": {
        "id": "0ZJfztMHFbG1"
      },
      "outputs": [],
      "source": [
        "\"\"\"This class uses WordNetLemmatizer to stem words with length more than two\"\"\"\n",
        "class LemmaTokenizer(object):\n",
        "    def __init__(self):\n",
        "        self.wnl = WordNetLemmatizer()\n",
        "\n",
        "    def __call__(self, doc):\n",
        "        return [self.wnl.lemmatize(t) for t in word_tokenize(doc) if len(t) >= 2]"
      ]
    },
    {
      "cell_type": "code",
      "execution_count": 11,
      "metadata": {
        "id": "7EkEubZSFlmw"
      },
      "outputs": [],
      "source": [
        "# Load CountVectorizer API\n",
        "from sklearn.feature_extraction.text import CountVectorizer\n",
        "cv = CountVectorizer(input='content', analyzer='word', tokenizer=LemmaTokenizer(), max_features=2000)"
      ]
    },
    {
      "cell_type": "code",
      "execution_count": 12,
      "metadata": {
        "id": "zcnnHlDbF3tj"
      },
      "outputs": [],
      "source": [
        "# Convert Articles to their vector sparse representation\n",
        "X_train_cv = cv.fit_transform(train_articles)\n",
        "X_test_cv = cv.transform(validation_articles)"
      ]
    },
    {
      "cell_type": "markdown",
      "metadata": {
        "id": "s5dtpJ06FJKB"
      },
      "source": [
        "## 6) Model Building"
      ]
    },
    {
      "cell_type": "code",
      "execution_count": 13,
      "metadata": {
        "id": "SRsU01JgAF30",
        "colab": {
          "base_uri": "https://localhost:8080/"
        },
        "outputId": "3b6a8534-1c0b-458b-ac32-9eb824f2f61a"
      },
      "outputs": [
        {
          "output_type": "stream",
          "name": "stdout",
          "text": [
            "Done. Time elapsed: 0.03s\n"
          ]
        }
      ],
      "source": [
        "#Train the model\n",
        "naive_bayes = MultinomialNB(alpha=1)\n",
        "start_time = time.time()\n",
        "naive_bayes.fit(X_train_cv, train_labels)\n",
        "print('Done. Time elapsed: {:.2f}s'.format(time.time() - start_time))"
      ]
    },
    {
      "cell_type": "code",
      "execution_count": 14,
      "metadata": {
        "id": "QPYudlLjAVHl",
        "colab": {
          "base_uri": "https://localhost:8080/"
        },
        "outputId": "817a8713-d172-46e2-8c81-ba41974454b9"
      },
      "outputs": [
        {
          "output_type": "stream",
          "name": "stdout",
          "text": [
            "Done. Time elapsed: 0.01s\n"
          ]
        }
      ],
      "source": [
        "#Predict labels for validation dataset via trained model\n",
        "start_time = time.time()\n",
        "predictions = naive_bayes.predict(X_test_cv)\n",
        "print('Done. Time elapsed: {:.2f}s'.format(time.time() - start_time))"
      ]
    },
    {
      "cell_type": "code",
      "source": [
        "# Save model\n",
        "f = open('naive_bayes_sd.pickle', 'wb')\n",
        "pickle.dump(naive_bayes, f)\n",
        "f.close()"
      ],
      "metadata": {
        "id": "gpW7ORLUjqKK"
      },
      "execution_count": 18,
      "outputs": []
    },
    {
      "cell_type": "code",
      "execution_count": 19,
      "metadata": {
        "colab": {
          "base_uri": "https://localhost:8080/"
        },
        "id": "9_zeJcNRGpSC",
        "outputId": "46fdfba0-7752-43be-a8d1-d11a74ae7f00"
      },
      "outputs": [
        {
          "output_type": "execute_result",
          "data": {
            "text/plain": [
              "array(['compsysmachardware', 'composmswindowsmisc', 'composmswindowsmisc',\n",
              "       'miscforsale', 'compgraphics', 'recmotorcycles', 'recsporthockey',\n",
              "       'socreligionchristian', 'talkpoliticsmisc', 'compwindowsx'],\n",
              "      dtype='<U20')"
            ]
          },
          "metadata": {},
          "execution_count": 19
        }
      ],
      "source": [
        "predictions[:10]"
      ]
    },
    {
      "cell_type": "markdown",
      "metadata": {
        "id": "vx8riVrGjdyP"
      },
      "source": [
        "## 7) Model Evaluation"
      ]
    },
    {
      "cell_type": "code",
      "execution_count": 20,
      "metadata": {
        "colab": {
          "base_uri": "https://localhost:8080/"
        },
        "id": "uI1wqX9mAcSg",
        "outputId": "208e6461-d57d-4540-da2a-6d09a3ba7b16"
      },
      "outputs": [
        {
          "output_type": "stream",
          "name": "stdout",
          "text": [
            "Accuracy score:  1.0\n",
            "Precision score:  1.0\n",
            "Recall score:  1.0\n",
            "F1 score:  1.0\n"
          ]
        }
      ],
      "source": [
        "print('Accuracy score: ', accuracy_score(validation_labels, predictions))\n",
        "print('Precision score: ', precision_score(validation_labels, predictions, average='weighted', labels=np.unique(validation_labels)))\n",
        "print('Recall score: ', recall_score(validation_labels, predictions, average='weighted', labels=np.unique(validation_labels)))\n",
        "print('F1 score: ', f1_score(validation_labels, predictions, average='weighted', labels=np.unique(validation_labels)))"
      ]
    },
    {
      "cell_type": "code",
      "source": [
        "from sklearn.metrics import classification_report\n",
        "print(classification_report(validation_labels, predictions, target_names=LABELS))"
      ],
      "metadata": {
        "colab": {
          "base_uri": "https://localhost:8080/"
        },
        "id": "LSKjA_wbShRt",
        "outputId": "db1e90df-30c6-4a13-b089-367f481edfed"
      },
      "execution_count": 21,
      "outputs": [
        {
          "output_type": "stream",
          "name": "stdout",
          "text": [
            "                      precision    recall  f1-score   support\n",
            "\n",
            "          altatheism       1.00      1.00      1.00        47\n",
            "        compgraphics       1.00      1.00      1.00        44\n",
            " composmswindowsmisc       1.00      1.00      1.00        44\n",
            "compsysibmpchardware       1.00      1.00      1.00        42\n",
            "  compsysmachardware       1.00      1.00      1.00        41\n",
            "        compwindowsx       1.00      1.00      1.00        43\n",
            "         miscforsale       1.00      1.00      1.00        48\n",
            "            recautos       1.00      1.00      1.00        44\n",
            "      recmotorcycles       1.00      1.00      1.00        40\n",
            "    recsportbaseball       1.00      1.00      1.00        41\n",
            "      recsporthockey       1.00      1.00      1.00        41\n",
            "            scicrypt       1.00      1.00      1.00        45\n",
            "      scielectronics       1.00      1.00      1.00        45\n",
            "              scimed       1.00      1.00      1.00        43\n",
            "            scispace       1.00      1.00      1.00        45\n",
            "socreligionchristian       1.00      1.00      1.00        55\n",
            "    talkpoliticsguns       1.00      1.00      1.00        45\n",
            " talkpoliticsmideast       1.00      1.00      1.00        47\n",
            "    talkpoliticsmisc       1.00      1.00      1.00        50\n",
            "    talkreligionmisc       1.00      1.00      1.00        50\n",
            "\n",
            "            accuracy                           1.00       900\n",
            "           macro avg       1.00      1.00      1.00       900\n",
            "        weighted avg       1.00      1.00      1.00       900\n",
            "\n"
          ]
        }
      ]
    }
  ],
  "metadata": {
    "colab": {
      "collapsed_sections": [],
      "name": "naive_bayes_v2.ipynb",
      "provenance": [],
      "authorship_tag": "ABX9TyP3jnI8MWyyS0eD5GD91fSe",
      "include_colab_link": true
    },
    "kernelspec": {
      "display_name": "Python 3",
      "name": "python3"
    },
    "language_info": {
      "name": "python"
    }
  },
  "nbformat": 4,
  "nbformat_minor": 0
}