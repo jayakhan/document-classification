{
  "cells": [
    {
      "cell_type": "markdown",
      "metadata": {
        "id": "view-in-github",
        "colab_type": "text"
      },
      "source": [
        "<a href=\"https://colab.research.google.com/github/jayakhan/document-classification/blob/main/naive_bayes_v2.ipynb\" target=\"_parent\"><img src=\"https://colab.research.google.com/assets/colab-badge.svg\" alt=\"Open In Colab\"/></a>"
      ]
    },
    {
      "cell_type": "markdown",
      "metadata": {
        "id": "MzsQFaSjDDxP"
      },
      "source": [
        "## 1) Load Libraries"
      ]
    },
    {
      "cell_type": "code",
      "execution_count": null,
      "metadata": {
        "id": "jnIEcacP-aLA"
      },
      "outputs": [],
      "source": [
        "from pathlib import Path\n",
        "import numpy as np\n",
        "import random\n",
        "import matplotlib.pyplot as plt\n",
        "import pandas as pd\n",
        "\n",
        "from sklearn.naive_bayes import MultinomialNB\n",
        "from sklearn.feature_extraction.text import CountVectorizer\n",
        "from sklearn.metrics import accuracy_score, recall_score, f1_score\n",
        "from sklearn.model_selection import train_test_split\n",
        "\n",
        "import nltk\n",
        "from nltk.corpus import stopwords\n",
        "nltk.download('stopwords')\n",
        "nltk.download('punkt')\n",
        "nltk.download('wordnet')\n",
        "STOPWORDS = set(stopwords.words('english'))\n",
        "from nltk import word_tokenize          \n",
        "from nltk.stem import WordNetLemmatizer \n",
        "\n",
        "from tensorflow.keras.preprocessing.text import Tokenizer\n",
        "from tensorflow.keras.preprocessing.sequence import pad_sequences"
      ]
    },
    {
      "cell_type": "markdown",
      "metadata": {
        "id": "NKd2jSPSDL5d"
      },
      "source": [
        "## 2) Load Dataset"
      ]
    },
    {
      "cell_type": "code",
      "execution_count": 39,
      "metadata": {
        "id": "3QAoE2oR-y8R"
      },
      "outputs": [],
      "source": [
        "# Adding Dataset into articles and labels list\n",
        "articles = []\n",
        "labels = []\n",
        "with open('/content/synthetic_data_v1.txt') as file:\n",
        "  docs = file.readlines()\n",
        "  for line in docs:\n",
        "    labels.append(line.split('\\t')[0])\n",
        "    article = line.split('\\t')[1]\n",
        "    # Filter data based on STOPWORDS\n",
        "    for word in STOPWORDS:\n",
        "      token = ' ' + word + ' '\n",
        "      article = article.replace(token, ' ')\n",
        "      article = article.replace(' ', ' ')\n",
        "    articles.append(article)"
      ]
    },
    {
      "cell_type": "code",
      "execution_count": 40,
      "metadata": {
        "id": "s6_Ovke_-93P"
      },
      "outputs": [],
      "source": [
        "# Clean Label Names\n",
        "labels_new = []\n",
        "for i in labels:\n",
        "  i = i.replace('.', '')\n",
        "  i = i.replace('-', '')\n",
        "  labels_new.append(i)"
      ]
    },
    {
      "cell_type": "markdown",
      "metadata": {
        "id": "1YhrGOEiDzW1"
      },
      "source": [
        "## 3) Plot Distribution of Articles across Labels"
      ]
    },
    {
      "cell_type": "code",
      "execution_count": 41,
      "metadata": {
        "id": "V4pbUo7iACuW"
      },
      "outputs": [],
      "source": [
        "LABELS = ['altatheism', 'compgraphics', 'composmswindowsmisc', 'compsysibmpchardware', 'compsysmachardware', 'compwindowsx', 'miscforsale', 'recautos', 'recmotorcycles', 'recsportbaseball',\n",
        "              'recsporthockey', 'scicrypt', 'scielectronics', 'scimed', 'scispace', 'socreligionchristian', 'talkpoliticsgun', 'talkpoliticsmideast', 'talkpoliticsmisc', 'talkreligionmisc']"
      ]
    },
    {
      "cell_type": "code",
      "execution_count": 42,
      "metadata": {
        "id": "JNagzgFZAKul"
      },
      "outputs": [],
      "source": [
        "labels = pd.DataFrame(labels_new)\n",
        "new = pd.DataFrame(0, index=np.arange(len(labels)), columns=LABELS)"
      ]
    },
    {
      "cell_type": "code",
      "execution_count": 43,
      "metadata": {
        "id": "8FB-JGw6AQZx"
      },
      "outputs": [],
      "source": [
        "new['recmotorcycles'] = np.where(labels == 'recmotorcycles', 1, 0)\n",
        "new['recsportbaseball'] = np.where(labels == 'recsportbaseball', 1, 0)\n",
        "new['recsporthockey'] = np.where(labels == 'recsporthockey', 1, 0)\n",
        "new['scicrypt'] = np.where(labels == 'scicrypt', 1, 0)\n",
        "new['scielectronics'] = np.where(labels == 'scielectronics', 1, 0)\n",
        "new['scimed'] = np.where(labels == 'scimed', 1, 0)\n",
        "new['scispace'] = np.where(labels == 'scispace', 1, 0)\n",
        "new['socreligionchristian'] = np.where(labels == 'socreligionchristian', 1, 0)\n",
        "new['talkpoliticsgun'] = np.where(labels == 'talkpoliticsgun', 1, 0)\n",
        "new['talkpoliticsmideast'] = np.where(labels == 'talkpoliticsmideast', 1, 0)\n",
        "new['talkpoliticsmisc'] = np.where(labels == 'talkpoliticsmisc', 1, 0)\n",
        "new['talkreligionmisc'] = np.where(labels == 'talkreligionmisc', 1, 0)\n",
        "new['recautos'] = np.where(labels == 'recautos', 1, 0)\n",
        "new['altatheism'] = np.where(labels == 'altatheism', 1, 0)\n",
        "new['compgraphics'] = np.where(labels == 'compgraphics', 1, 0)\n",
        "new['composmswindowsmisc'] = np.where(labels == 'composmswindowsmisc', 1, 0)\n",
        "new['compsysibmpchardware'] = np.where(labels == 'compsysibmpchardware', 1, 0)\n",
        "new['compsysmachardware'] = np.where(labels == 'compsysmachardware', 1, 0)\n",
        "new['compwindowsx'] = np.where(labels == 'compwindowsx', 1, 0)\n",
        "new['miscforsale'] = np.where(labels == 'miscforsale', 1, 0)"
      ]
    },
    {
      "cell_type": "code",
      "execution_count": 45,
      "metadata": {
        "colab": {
          "base_uri": "https://localhost:8080/",
          "height": 515
        },
        "id": "QTyn9_7OB5Ms",
        "outputId": "04f5a78e-4e01-4066-fff3-03f0e2b1acd5"
      },
      "outputs": [
        {
          "output_type": "display_data",
          "data": {
            "image/png": "[encoded data removed]",
            "text/plain": [
              "<Figure size 720x432 with 1 Axes>"
            ]
          },
          "metadata": {
            "needs_background": "light"
          }
        }
      ],
      "source": [
        "# Plot label data\n",
        "plt.figure(figsize=(10,6))\n",
        "new.sum(axis=0).plot.bar(color='orange')\n",
        "plt.xlabel(\"Labels\")\n",
        "plt.ylabel(\"Number of Articles\")\n",
        "plt.title(\"Distribution of Articles across Labels\")\n",
        "plt.show()"
      ]
    },
    {
      "cell_type": "markdown",
      "metadata": {
        "id": "O3FWVFbqEKef"
      },
      "source": [
        "## 4) Split data into 80% training and 20% validation datasets"
      ]
    },
    {
      "cell_type": "code",
      "execution_count": 46,
      "metadata": {
        "id": "yauCBR11h6Lj"
      },
      "outputs": [],
      "source": [
        "train_articles, validation_articles, train_labels, validation_labels = train_test_split(articles, labels_new, test_size=0.3, stratify=labels_new)"
      ]
    },
    {
      "cell_type": "code",
      "execution_count": 47,
      "metadata": {
        "colab": {
          "base_uri": "https://localhost:8080/"
        },
        "id": "7NWifZXB_NP8",
        "outputId": "a469be96-6145-47d4-b17e-c461a45f41a6"
      },
      "outputs": [
        {
          "output_type": "stream",
          "name": "stdout",
          "text": [
            "2100\n",
            "2100\n",
            "900\n",
            "900\n"
          ]
        }
      ],
      "source": [
        "print(len(train_articles))\n",
        "print(len(train_labels))\n",
        "print(len(validation_articles))\n",
        "print(len(validation_labels))"
      ]
    },
    {
      "cell_type": "markdown",
      "metadata": {
        "id": "DlSAZW2UEoib"
      },
      "source": [
        "## 5) Lemmatization and Vectorization"
      ]
    },
    {
      "cell_type": "code",
      "execution_count": 48,
      "metadata": {
        "id": "0ZJfztMHFbG1"
      },
      "outputs": [],
      "source": [
        "\"\"\"This class uses WordNetLemmatizer to stem words with length more than two\"\"\"\n",
        "class LemmaTokenizer(object):\n",
        "    def __init__(self):\n",
        "        self.wnl = WordNetLemmatizer()\n",
        "\n",
        "    def __call__(self, doc):\n",
        "        return [self.wnl.lemmatize(t) for t in word_tokenize(doc) if len(t) >= 2]"
      ]
    },
    {
      "cell_type": "code",
      "execution_count": 49,
      "metadata": {
        "id": "7EkEubZSFlmw"
      },
      "outputs": [],
      "source": [
        "# Load CountVectorizer API\n",
        "from sklearn.feature_extraction.text import CountVectorizer\n",
        "cv = CountVectorizer(input='content', analyzer='word', tokenizer=LemmaTokenizer(), max_features=2000)"
      ]
    },
    {
      "cell_type": "code",
      "execution_count": 50,
      "metadata": {
        "id": "zcnnHlDbF3tj"
      },
      "outputs": [],
      "source": [
        "# Convert Articles to their vector sparse representation\n",
        "X_train_cv = cv.fit_transform(train_articles)\n",
        "X_test_cv = cv.transform(validation_articles)"
      ]
    },
    {
      "cell_type": "markdown",
      "metadata": {
        "id": "s5dtpJ06FJKB"
      },
      "source": [
        "## 6) Model Building"
      ]
    },
    {
      "cell_type": "code",
      "execution_count": null,
      "metadata": {
        "id": "SRsU01JgAF30"
      },
      "outputs": [],
      "source": [
        "#Train the model\n",
        "naive_bayes = MultinomialNB()\n",
        "naive_bayes.fit(X_train_cv, train_labels)"
      ]
    },
    {
      "cell_type": "code",
      "execution_count": 52,
      "metadata": {
        "id": "QPYudlLjAVHl"
      },
      "outputs": [],
      "source": [
        "#Predict labels for validation dataset via trained model\n",
        "predictions = naive_bayes.predict(X_test_cv)"
      ]
    },
    {
      "cell_type": "code",
      "execution_count": 54,
      "metadata": {
        "colab": {
          "base_uri": "https://localhost:8080/"
        },
        "id": "9_zeJcNRGpSC",
        "outputId": "93cafc3d-45b7-42d7-f72d-6c76d253ce7e"
      },
      "outputs": [
        {
          "output_type": "execute_result",
          "data": {
            "text/plain": [
              "array(['recmotorcycles', 'talkpoliticsmideast', 'talkpoliticsmisc',\n",
              "       'scielectronics', 'recmotorcycles', 'scielectronics', 'recautos',\n",
              "       'talkpoliticsmisc', 'scielectronics', 'scicrypt'], dtype='<U20')"
            ]
          },
          "metadata": {},
          "execution_count": 54
        }
      ],
      "source": [
        "predictions[:10]"
      ]
    },
    {
      "cell_type": "markdown",
      "metadata": {
        "id": "vx8riVrGjdyP"
      },
      "source": [
        "## 7) Model Evaluation"
      ]
    },
    {
      "cell_type": "code",
      "execution_count": 55,
      "metadata": {
        "colab": {
          "base_uri": "https://localhost:8080/"
        },
        "id": "uI1wqX9mAcSg",
        "outputId": "3ae0b6d1-6cce-4896-be3d-9aa864ef8471"
      },
      "outputs": [
        {
          "output_type": "stream",
          "name": "stdout",
          "text": [
            "Accuracy score:  1.0\n",
            "Recall score:  1.0\n",
            "F1 score:  1.0\n"
          ]
        }
      ],
      "source": [
        "print('Accuracy score: ', accuracy_score(validation_labels, predictions))\n",
        "print('Recall score: ', recall_score(validation_labels, predictions, average='weighted', labels=np.unique(validation_labels)))\n",
        "print('F1 score: ', f1_score(validation_labels, predictions, average='weighted', labels=np.unique(validation_labels)))"
      ]
    }
  ],
  "metadata": {
    "colab": {
      "collapsed_sections": [],
      "name": "naive_bayes_v2.ipynb",
      "provenance": [],
      "authorship_tag": "ABX9TyO/u5yHzzk7kDw6CAImWpEF",
      "include_colab_link": true
    },
    "kernelspec": {
      "display_name": "Python 3",
      "name": "python3"
    },
    "language_info": {
      "name": "python"
    }
  },
  "nbformat": 4,
  "nbformat_minor": 0
}