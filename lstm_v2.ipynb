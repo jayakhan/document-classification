{
  "cells": [
    {
      "cell_type": "markdown",
      "metadata": {
        "id": "view-in-github",
        "colab_type": "text"
      },
      "source": [
        "<a href=\"https://colab.research.google.com/github/jayakhan/document-classification/blob/main/lstm_v2.ipynb\" target=\"_parent\"><img src=\"https://colab.research.google.com/assets/colab-badge.svg\" alt=\"Open In Colab\"/></a>"
      ]
    },
    {
      "cell_type": "markdown",
      "source": [
        "## 1) Import Libraries"
      ],
      "metadata": {
        "id": "OMv-jNrCyAw4"
      }
    },
    {
      "cell_type": "code",
      "execution_count": 1,
      "metadata": {
        "id": "Nbz7pFk_tGTH",
        "colab": {
          "base_uri": "https://localhost:8080/"
        },
        "outputId": "cc202982-4cd0-4443-f1fa-e747da4f8e77"
      },
      "outputs": [
        {
          "output_type": "stream",
          "name": "stdout",
          "text": [
            "[nltk_data] Downloading package stopwords to /root/nltk_data...\n",
            "[nltk_data]   Unzipping corpora/stopwords.zip.\n"
          ]
        }
      ],
      "source": [
        "import numpy as np\n",
        "import nltk\n",
        "nltk.download('stopwords')\n",
        "import pandas as pd\n",
        "import matplotlib.pyplot as plt\n",
        "from sklearn.model_selection import train_test_split\n",
        "\n",
        "from nltk.corpus import stopwords\n",
        "STOPWORDS = set(stopwords.words('english'))\n",
        "\n",
        "from tensorflow import keras\n",
        "import tensorflow as tf\n",
        "from tensorflow.keras.models import Sequential\n",
        "from tensorflow.keras.preprocessing.text import Tokenizer\n",
        "from tensorflow.keras.preprocessing.sequence import pad_sequences"
      ]
    },
    {
      "cell_type": "markdown",
      "source": [
        "## 2) Set Model Hyperparameters"
      ],
      "metadata": {
        "id": "AyYbSjZIyKpN"
      }
    },
    {
      "cell_type": "code",
      "execution_count": 2,
      "metadata": {
        "id": "Aj7eML586AMb"
      },
      "outputs": [],
      "source": [
        "#Hyperparameters\n",
        "vocab_size = 2000\n",
        "embedding_dim = 64\n",
        "max_length = 500\n",
        "trunc_type = 'post'\n",
        "padding_type = 'post'\n",
        "oov_tok = '<OOV>'\n",
        "training_portion = .8"
      ]
    },
    {
      "cell_type": "markdown",
      "source": [
        "## 3) Load Real Dataset"
      ],
      "metadata": {
        "id": "Z_C6P_nSyRg_"
      }
    },
    {
      "cell_type": "code",
      "execution_count": 4,
      "metadata": {
        "id": "7bl3sH6ZtQFm"
      },
      "outputs": [],
      "source": [
        "# Adding Dataset into articles and labels list\n",
        "articles = []\n",
        "labels = []\n",
        "with open('/content/synthetic_data_v2.txt') as file:\n",
        "  docs = file.readlines()\n",
        "  for line in docs:\n",
        "    labels.append(line.split('\\t')[0])\n",
        "    article = line.split('\\t')[1]\n",
        "    for word in STOPWORDS:\n",
        "      token = ' ' + word + ' '\n",
        "      article = article.replace(token, ' ')\n",
        "      article = article.replace(' ', ' ')\n",
        "    articles.append(article)"
      ]
    },
    {
      "cell_type": "code",
      "source": [
        "# Clean Label Names\n",
        "labels_new = []\n",
        "for i in labels:\n",
        "  i = i.replace('.', '')\n",
        "  i = i.replace('-', '')\n",
        "  labels_new.append(i)"
      ],
      "metadata": {
        "id": "BHgRDxNCmJrn"
      },
      "execution_count": 5,
      "outputs": []
    },
    {
      "cell_type": "markdown",
      "source": [
        "## 4) Split data into 70% training and 30% validation datasets"
      ],
      "metadata": {
        "id": "k9yC_BsoygJJ"
      }
    },
    {
      "cell_type": "code",
      "source": [
        "train_articles, validation_articles, train_labels, validation_labels = train_test_split(articles, labels_new, test_size=0.3, stratify=labels_new)"
      ],
      "metadata": {
        "id": "Pm-YSCezWZCL"
      },
      "execution_count": 6,
      "outputs": []
    },
    {
      "cell_type": "code",
      "execution_count": 7,
      "metadata": {
        "colab": {
          "base_uri": "https://localhost:8080/"
        },
        "id": "rM0Phhsc8jkw",
        "outputId": "f4b566ff-3edb-48ad-fef9-761fd8a0bdb8"
      },
      "outputs": [
        {
          "output_type": "stream",
          "name": "stdout",
          "text": [
            "2100\n",
            "2100\n",
            "900\n",
            "900\n"
          ]
        }
      ],
      "source": [
        "print(len(train_articles))\n",
        "print(len(train_labels))\n",
        "print(len(validation_articles))\n",
        "print(len(validation_labels))"
      ]
    },
    {
      "cell_type": "code",
      "source": [
        "# Check distribution of training dataset\n",
        "pd.Series(train_labels).value_counts()"
      ],
      "metadata": {
        "colab": {
          "base_uri": "https://localhost:8080/"
        },
        "id": "uVbvpNlvVoAU",
        "outputId": "5b2f55e1-a6d8-428f-9f1d-1499a7a754fe"
      },
      "execution_count": 8,
      "outputs": [
        {
          "output_type": "execute_result",
          "data": {
            "text/plain": [
              "composmswindowsmisc     123\n",
              "recsportbaseball        121\n",
              "scispace                116\n",
              "scicrypt                114\n",
              "socreligionchristian    110\n",
              "scimed                  106\n",
              "talkpoliticsguns        106\n",
              "recsporthockey          104\n",
              "altatheism              103\n",
              "talkpoliticsmisc        103\n",
              "miscforsale             102\n",
              "recautos                102\n",
              "compsysibmpchardware    102\n",
              "recmotorcycles          101\n",
              "compwindowsx            101\n",
              "compgraphics             99\n",
              "compsysmachardware       99\n",
              "talkreligionmisc         98\n",
              "talkpoliticsmideast      97\n",
              "scielectronics           93\n",
              "dtype: int64"
            ]
          },
          "metadata": {},
          "execution_count": 8
        }
      ]
    },
    {
      "cell_type": "code",
      "source": [
        " # Check distribution of validation dataset\n",
        " pd.Series(validation_labels).value_counts()"
      ],
      "metadata": {
        "colab": {
          "base_uri": "https://localhost:8080/"
        },
        "id": "j2PZgN7-dQnv",
        "outputId": "0db009b5-8be3-4218-deab-f71460360892"
      },
      "execution_count": 9,
      "outputs": [
        {
          "output_type": "execute_result",
          "data": {
            "text/plain": [
              "composmswindowsmisc     52\n",
              "recsportbaseball        52\n",
              "scispace                50\n",
              "scicrypt                49\n",
              "socreligionchristian    47\n",
              "talkpoliticsguns        46\n",
              "scimed                  46\n",
              "miscforsale             44\n",
              "recautos                44\n",
              "talkpoliticsmisc        44\n",
              "recsporthockey          44\n",
              "altatheism              44\n",
              "compsysmachardware      43\n",
              "compwindowsx            43\n",
              "recmotorcycles          43\n",
              "compgraphics            43\n",
              "compsysibmpchardware    43\n",
              "talkreligionmisc        42\n",
              "talkpoliticsmideast     41\n",
              "scielectronics          40\n",
              "dtype: int64"
            ]
          },
          "metadata": {},
          "execution_count": 9
        }
      ]
    },
    {
      "cell_type": "markdown",
      "source": [
        "## 5a) Tokenization and Vectorization - Articles"
      ],
      "metadata": {
        "id": "B2e-79W5y0IM"
      }
    },
    {
      "cell_type": "code",
      "execution_count": 10,
      "metadata": {
        "colab": {
          "base_uri": "https://localhost:8080/"
        },
        "id": "9Nqv14ys6eTz",
        "outputId": "15a55088-b772-4b82-e7e0-d3573bbe1eca"
      },
      "outputs": [
        {
          "output_type": "stream",
          "name": "stdout",
          "text": [
            "[1253, 195, 857, 1047, 7, 15, 340, 838, 1086, 144, 10, 135, 1145, 1634, 779, 442, 92, 58, 193, 30, 369, 1264, 882, 27, 229, 1343, 131, 33, 271, 334, 58, 47, 204, 656, 752, 1293, 1140, 5, 1463, 586, 46, 8, 363, 147, 357, 136, 443, 27, 281, 1928, 915, 99, 857, 27, 569, 214, 34, 822, 21, 752, 722, 27, 691, 1141, 27, 124, 369, 30, 27, 1338, 1921, 225, 166, 1900, 131, 2, 244, 113, 1050, 558, 980, 234, 2, 1722, 1303, 115, 1942, 134, 33, 58, 2, 312, 1167, 405, 226, 205, 1248, 199, 1264, 569, 752, 46, 651, 27, 27, 127, 3, 646, 1861, 508, 2, 27, 1263, 1113, 144, 225, 6, 1216, 129, 753, 284, 187, 1246, 1928, 737, 1004, 803, 1955, 424, 458, 58, 172, 924, 1833, 56, 474, 8, 562, 484, 123, 458, 1047, 1779, 1249, 241, 1381, 121, 651, 24, 72, 1941, 128, 381, 1895, 1248, 483, 656, 1799, 623, 1145, 165, 1017, 656, 153, 381, 25, 3, 6, 1337, 1088, 13, 741, 121, 814, 414, 121, 391, 370, 577, 2, 92, 69, 312, 334, 1555, 1263, 1293, 137, 409, 30, 261, 27, 484, 99, 651, 864, 108, 557, 381, 308, 56, 11, 1279, 19, 25, 253, 1249, 289, 722, 187, 458, 27, 369, 824, 558, 310, 1928, 791, 356, 43, 69, 473, 284, 25, 967, 219, 108, 1740, 305, 334, 724, 740, 58, 1496, 502, 340, 915, 651, 50, 752, 132, 1080, 634, 292, 302, 912, 714, 1461, 681, 405, 50, 37, 89, 31, 11, 72, 2, 103, 1260, 8, 846, 441, 604, 442, 525, 4, 883, 498, 1345, 27, 442, 2, 1373, 372, 74, 432, 667, 634, 7, 27, 305, 1820, 1792, 93, 1059, 740, 414, 980, 833, 529, 1762, 568, 1846, 27, 28, 1510, 7, 1158, 471, 2, 2, 1216, 175, 921, 60, 1706, 415, 1518, 590, 352, 895, 367, 133, 1890, 27, 25, 709, 1293, 882, 61, 27, 1258, 48, 1420, 139, 500, 386, 90, 1113, 118, 266, 648, 325, 814, 25, 1876, 231, 1258, 210, 25, 26, 715, 166, 144, 150, 500, 854, 90, 26, 142, 353, 93, 8, 777, 394, 262, 86, 108, 27, 347, 408, 263, 8, 188, 205, 705, 1810, 144, 1461, 855, 352, 372, 503, 1223, 187, 1276, 10, 1938, 36, 3, 58, 11, 1941, 852, 82, 483, 173, 30, 1462, 436, 159, 1479, 334, 1920, 1861, 27, 33, 90, 275, 71, 350, 315, 25, 646, 483, 372, 175, 57, 864, 414, 807, 409, 87, 85, 58, 692, 11, 408, 173, 123, 1740, 58, 1004, 898, 26, 268, 327, 55, 331, 215, 2, 20, 892, 1406, 795, 502, 1406, 656, 826, 1054, 1876, 10, 2, 1145, 5, 1355, 802, 1810, 1496, 1380, 340, 132, 27, 265, 24, 247, 5, 393, 140, 1305, 46, 385, 245, 372, 107, 82, 1920, 722, 1698, 115, 268, 215, 465, 158, 155, 1420, 144, 92, 648, 20, 1162, 882, 669, 353, 436, 471, 782, 1974, 125, 226, 381, 442, 502, 108, 1051, 2, 1208, 943]\n",
            "[664, 227, 1716, 459, 25, 85, 82, 431, 124, 25, 300, 290, 621, 231, 355, 1780, 150, 22, 705, 814, 305, 718, 266, 983, 34, 799, 728, 847, 1297, 1856, 1578, 241, 159, 50, 118, 41, 512, 157, 557, 556, 740, 236, 823, 2, 283, 63, 459, 56, 42, 642, 1341, 1503, 1667, 1703, 2, 257, 1124, 1062, 107, 40, 257, 1329, 183, 68, 213, 867, 1155, 377, 892, 1333, 293, 212, 705, 584, 39, 1306, 1480, 20, 1181, 70, 1496, 288, 1227, 918, 305, 675, 5, 20, 988, 1232, 8, 3, 7, 234, 36, 77, 57, 1306, 1146, 571, 201, 346, 199, 1603, 1329, 208, 1496, 403, 410, 308, 634, 892, 708, 1043, 593, 246, 208, 1333, 29, 304, 164, 288, 7, 553, 1620, 704, 1358, 425, 75, 702, 1494, 679, 1786, 9, 268, 5, 232, 73, 1887, 537, 1739, 477, 562, 6, 160, 83, 164, 400, 1122, 61, 213, 897, 290, 525, 1297, 459, 931, 920, 25, 470, 241, 817, 8, 295, 92, 415, 9, 108, 396, 797, 389, 82, 53, 125, 1869, 268, 280, 350, 1019, 1420, 541, 1877, 1494, 201, 118, 257, 626, 76, 669, 92, 1790, 201, 586, 1917, 9, 339, 64, 952, 851, 35, 79, 596, 1887, 68, 1366, 1969, 1108, 1514, 293, 74, 1877, 360, 210, 461, 1912, 1790, 1822, 523, 388, 274, 1871, 475, 1652, 1912, 1343, 43, 847, 230, 75, 228, 67, 791, 115, 20, 288, 798, 637, 402, 596, 1764, 7, 1234, 202, 41, 21, 696, 800, 1703, 4, 1536, 758, 728, 1013, 749, 40, 656, 5, 1718, 388, 1716, 1363, 7, 1620, 857, 185, 38, 1912, 21, 10, 718, 385, 8, 616, 730, 637, 361, 3, 305, 588, 1095, 4, 436, 432, 645, 1108, 49, 1969, 798, 2, 425, 100, 458, 1124, 1749, 23, 1695, 74, 50, 874, 571, 1096, 164, 7, 3, 118, 274, 332, 798, 732, 470, 226, 557, 798, 9, 74, 11, 461, 297, 588, 341, 634, 150, 1579, 381, 53, 8, 1231, 779, 1062, 305, 1066, 208, 95, 1239, 189, 150, 380, 491, 3, 1752, 256, 1323, 888, 340, 436, 615, 556, 280, 1607, 1917, 26, 76, 33, 346, 76, 19, 1532, 300, 1420, 305, 809, 288, 9, 662, 159, 1027, 782, 370, 1296, 52, 900, 1579, 799, 1476, 1856, 800, 1402, 458, 2, 808, 744, 39, 409, 92, 734, 5, 621, 341, 1033, 290, 1113, 3, 8, 77, 233, 53, 1343, 1739, 740, 888, 459, 718, 1081, 143, 9, 282, 197, 492, 230, 8, 1006, 552, 679, 823, 286, 2, 340, 1217, 4, 228, 357, 33, 53, 1066, 864, 45, 1887, 1210, 556, 800, 868, 4, 889, 64, 817, 1456, 98, 1660, 1113, 27, 413, 14, 705, 1717, 55, 1412, 86, 1147, 443, 1692, 839, 7, 828, 28, 250, 1366, 508, 471, 1862, 19, 558, 458, 1703, 288, 68, 1877, 40, 79, 347, 1586, 330, 1659, 661, 491, 1591, 728, 76, 290, 1877, 5, 5, 798, 330, 1341, 1514, 20, 1559, 30, 2, 1820, 336, 568, 133, 669, 1200, 232]\n"
          ]
        }
      ],
      "source": [
        "# Tokenize articles for training datasets\n",
        "tokenizer = Tokenizer(num_words = vocab_size, oov_token=oov_tok)\n",
        "tokenizer.fit_on_texts(train_articles)\n",
        "train_sequences = tokenizer.texts_to_sequences(train_articles)\n",
        "validation_sequences = tokenizer.texts_to_sequences(validation_articles)\n",
        "\n",
        "print(train_sequences[10])\n",
        "print(validation_sequences[10])"
      ]
    },
    {
      "cell_type": "code",
      "execution_count": 11,
      "metadata": {
        "colab": {
          "base_uri": "https://localhost:8080/"
        },
        "id": "-OJgosYj7Ash",
        "outputId": "36a1b2c1-8272-45fe-fe08-37e65a20dfc1"
      },
      "outputs": [
        {
          "output_type": "stream",
          "name": "stdout",
          "text": [
            "500\n",
            "500\n",
            "499\n",
            "500\n",
            "498\n",
            "500\n",
            "496\n",
            "500\n"
          ]
        }
      ],
      "source": [
        "# Padding to the end of the training and validation articles\n",
        "train_padded = pad_sequences(train_sequences, maxlen=max_length, padding=padding_type, truncating=trunc_type)\n",
        "validation_padded = pad_sequences(validation_sequences, maxlen=max_length, padding=padding_type, truncating=trunc_type)\n",
        "\n",
        "print(len(train_sequences[0]))\n",
        "print(len(train_padded[0]))\n",
        "\n",
        "print(len(train_sequences[1]))\n",
        "print(len(train_padded[1]))\n",
        "\n",
        "print(len(train_sequences[10]))\n",
        "print(len(train_padded[10]))\n",
        "\n",
        "print(len(validation_sequences[10]))\n",
        "print(len(validation_padded[10]))"
      ]
    },
    {
      "cell_type": "markdown",
      "source": [
        "## 5b) Tokenization and Vectorization - Labels"
      ],
      "metadata": {
        "id": "Y9t-oTWUzhDa"
      }
    },
    {
      "cell_type": "code",
      "execution_count": 12,
      "metadata": {
        "colab": {
          "base_uri": "https://localhost:8080/"
        },
        "id": "PNtlnmms9Qv7",
        "outputId": "c76be05f-73e1-40b3-dac7-6eaeb5d16f2a"
      },
      "outputs": [
        {
          "output_type": "stream",
          "name": "stdout",
          "text": [
            "[2]\n",
            "[20]\n",
            "[9]\n",
            "(2100, 1)\n",
            "[20]\n",
            "[16]\n",
            "[13]\n",
            "(900, 1)\n"
          ]
        }
      ],
      "source": [
        "label_tokenizer = Tokenizer()\n",
        "label_tokenizer.fit_on_texts(labels_new)\n",
        "training_label_seq = np.asarray(label_tokenizer.texts_to_sequences(train_labels))\n",
        "validation_label_seq = np.asarray(label_tokenizer.texts_to_sequences(validation_labels))\n",
        "print(training_label_seq[0])\n",
        "print(training_label_seq[1])\n",
        "print(training_label_seq[2])\n",
        "print(training_label_seq.shape)\n",
        "\n",
        "print(validation_label_seq[0])\n",
        "print(validation_label_seq[1])\n",
        "print(validation_label_seq[2])\n",
        "print(validation_label_seq.shape)"
      ]
    },
    {
      "cell_type": "markdown",
      "source": [
        "## 6) Model Building"
      ],
      "metadata": {
        "id": "aY5dhJ7Uzttt"
      }
    },
    {
      "cell_type": "code",
      "execution_count": 13,
      "metadata": {
        "colab": {
          "base_uri": "https://localhost:8080/"
        },
        "id": "pEk37J04AObX",
        "outputId": "9a682165-6d0f-4c49-b708-3f8c43aac8f9"
      },
      "outputs": [
        {
          "output_type": "stream",
          "name": "stdout",
          "text": [
            "Model: \"sequential\"\n",
            "_________________________________________________________________\n",
            " Layer (type)                Output Shape              Param #   \n",
            "=================================================================\n",
            " embedding (Embedding)       (None, None, 64)          128000    \n",
            "                                                                 \n",
            " bidirectional (Bidirectiona  (None, 128)              66048     \n",
            " l)                                                              \n",
            "                                                                 \n",
            " dense (Dense)               (None, 64)                8256      \n",
            "                                                                 \n",
            " dense_1 (Dense)             (None, 32)                2080      \n",
            "                                                                 \n",
            "=================================================================\n",
            "Total params: 204,384\n",
            "Trainable params: 204,384\n",
            "Non-trainable params: 0\n",
            "_________________________________________________________________\n"
          ]
        }
      ],
      "source": [
        "model = tf.keras.Sequential([\n",
        "    # Add an Embedding layer expecting input vocab of size 2000, and output embedding dimension of size 64\n",
        "    tf.keras.layers.Embedding(vocab_size, embedding_dim),\n",
        "    tf.keras.layers.Bidirectional(tf.keras.layers.LSTM(embedding_dim)),\n",
        "    tf.keras.layers.Dense(embedding_dim, activation='relu'),\n",
        "    tf.keras.layers.Dense(32, activation='softmax')\n",
        "])\n",
        "model.summary()"
      ]
    },
    {
      "cell_type": "code",
      "source": [
        "[print(i.shape, i.dtype) for i in model.inputs]\n",
        "[print(o.shape, o.dtype) for o in model.outputs]\n",
        "[print(l.name, l.input_shape, l.dtype) for l in model.layers]"
      ],
      "metadata": {
        "colab": {
          "base_uri": "https://localhost:8080/"
        },
        "id": "m7QyMUS00BhU",
        "outputId": "00790459-14a0-491c-b887-b7a53adf9117"
      },
      "execution_count": 14,
      "outputs": [
        {
          "output_type": "stream",
          "name": "stdout",
          "text": [
            "(None, None) <dtype: 'float32'>\n",
            "(None, 32) <dtype: 'float32'>\n",
            "embedding (None, None) float32\n",
            "bidirectional (None, None, 64) float32\n",
            "dense (None, 128) float32\n",
            "dense_1 (None, 64) float32\n"
          ]
        },
        {
          "output_type": "execute_result",
          "data": {
            "text/plain": [
              "[None, None, None, None]"
            ]
          },
          "metadata": {},
          "execution_count": 14
        }
      ]
    },
    {
      "cell_type": "code",
      "execution_count": 15,
      "metadata": {
        "colab": {
          "base_uri": "https://localhost:8080/"
        },
        "id": "k3Tz3RjBBTkL",
        "outputId": "688b6917-0c1d-41a4-d814-b900d8a680a7"
      },
      "outputs": [
        {
          "output_type": "stream",
          "name": "stdout",
          "text": [
            "(2100, 500)\n",
            "(2100, 1)\n",
            "(900, 500)\n",
            "(900, 1)\n"
          ]
        }
      ],
      "source": [
        "# Check dataset before model fitting\n",
        "print(train_padded.shape)\n",
        "print(training_label_seq.shape)\n",
        "print(validation_padded.shape)\n",
        "print(validation_label_seq.shape)"
      ]
    },
    {
      "cell_type": "code",
      "execution_count": 16,
      "metadata": {
        "colab": {
          "base_uri": "https://localhost:8080/"
        },
        "id": "SGGa_ixyF5OW",
        "outputId": "af0c00b7-0edd-4870-b917-8697b14a049d"
      },
      "outputs": [
        {
          "output_type": "stream",
          "name": "stdout",
          "text": [
            "<class 'numpy.ndarray'>\n",
            "<class 'numpy.ndarray'>\n",
            "<class 'numpy.ndarray'>\n",
            "<class 'numpy.ndarray'>\n"
          ]
        }
      ],
      "source": [
        "# Check dataset before model fitting\n",
        "print(type(train_padded))\n",
        "print(type(training_label_seq))\n",
        "print(type(validation_padded))\n",
        "print(type(validation_label_seq))"
      ]
    },
    {
      "cell_type": "markdown",
      "source": [
        "## 6) Model Validation"
      ],
      "metadata": {
        "id": "H8WM5tJVcjsP"
      }
    },
    {
      "cell_type": "code",
      "execution_count": 17,
      "metadata": {
        "id": "JWxWZyvAAYtm",
        "colab": {
          "base_uri": "https://localhost:8080/"
        },
        "outputId": "b89be94b-2206-42ea-c5c6-63a877988417"
      },
      "outputs": [
        {
          "output_type": "stream",
          "name": "stdout",
          "text": [
            "Epoch 1/10\n",
            "66/66 - 22s - loss: 3.2005 - accuracy: 0.0571 - val_loss: 3.0054 - val_accuracy: 0.0556 - 22s/epoch - 337ms/step\n",
            "Epoch 2/10\n",
            "66/66 - 14s - loss: 2.8860 - accuracy: 0.0948 - val_loss: 2.6660 - val_accuracy: 0.1467 - 14s/epoch - 216ms/step\n",
            "Epoch 3/10\n",
            "66/66 - 14s - loss: 2.5855 - accuracy: 0.1586 - val_loss: 2.4716 - val_accuracy: 0.1889 - 14s/epoch - 216ms/step\n",
            "Epoch 4/10\n",
            "66/66 - 14s - loss: 1.9991 - accuracy: 0.3110 - val_loss: 1.7661 - val_accuracy: 0.3533 - 14s/epoch - 218ms/step\n",
            "Epoch 5/10\n",
            "66/66 - 14s - loss: 1.6358 - accuracy: 0.4062 - val_loss: 1.6266 - val_accuracy: 0.3922 - 14s/epoch - 218ms/step\n",
            "Epoch 6/10\n",
            "66/66 - 14s - loss: 1.2395 - accuracy: 0.5500 - val_loss: 1.2654 - val_accuracy: 0.5433 - 14s/epoch - 218ms/step\n",
            "Epoch 7/10\n",
            "66/66 - 14s - loss: 1.2670 - accuracy: 0.5533 - val_loss: 1.1795 - val_accuracy: 0.5578 - 14s/epoch - 217ms/step\n",
            "Epoch 8/10\n",
            "66/66 - 14s - loss: 0.8005 - accuracy: 0.7462 - val_loss: 0.8761 - val_accuracy: 0.6833 - 14s/epoch - 219ms/step\n",
            "Epoch 9/10\n",
            "66/66 - 14s - loss: 0.5635 - accuracy: 0.8029 - val_loss: 0.9414 - val_accuracy: 0.6311 - 14s/epoch - 217ms/step\n",
            "Epoch 10/10\n",
            "66/66 - 14s - loss: 0.3789 - accuracy: 0.8833 - val_loss: 0.7584 - val_accuracy: 0.7300 - 14s/epoch - 217ms/step\n"
          ]
        }
      ],
      "source": [
        "model.compile(loss='sparse_categorical_crossentropy', optimizer='adam', metrics=['accuracy'])\n",
        "num_epochs = 10\n",
        "history = model.fit(train_padded, training_label_seq, epochs=num_epochs, validation_data=(validation_padded, validation_label_seq), verbose=2)"
      ]
    },
    {
      "cell_type": "markdown",
      "source": [
        "## 7) Model Evaluation"
      ],
      "metadata": {
        "id": "Hi0cbKbB0LtQ"
      }
    },
    {
      "cell_type": "code",
      "source": [
        "score = model.evaluate(validation_padded, validation_label_seq, verbose=10)\n",
        "\n",
        "print(\"Loss: %.3f \\nAccuracy: %.3f\" % (score[0], score[1]))"
      ],
      "metadata": {
        "colab": {
          "base_uri": "https://localhost:8080/"
        },
        "id": "rXqI2UJYvojM",
        "outputId": "377e6e92-e1f4-4658-8016-17be363a4dc7"
      },
      "execution_count": 18,
      "outputs": [
        {
          "output_type": "stream",
          "name": "stdout",
          "text": [
            "Loss: 0.758 \n",
            "Accuracy: 0.730\n"
          ]
        }
      ]
    },
    {
      "cell_type": "code",
      "source": [
        "from sklearn.metrics import classification_report\n",
        "\n",
        "y_pred = model.predict(validation_padded, batch_size=64, verbose=10)\n",
        "y_pred_bool = np.argmax(y_pred, axis=1)\n",
        "print(classification_report(validation_label_seq.copy(), y_pred_bool.copy()))"
      ],
      "metadata": {
        "colab": {
          "base_uri": "https://localhost:8080/"
        },
        "id": "nHDrH_IPw5AI",
        "outputId": "29f2ba90-4f4f-47b9-9ccc-f7b945cfa9a8"
      },
      "execution_count": 19,
      "outputs": [
        {
          "output_type": "stream",
          "name": "stdout",
          "text": [
            "              precision    recall  f1-score   support\n",
            "\n",
            "           1       0.75      0.63      0.69        52\n",
            "           2       0.96      0.92      0.94        52\n",
            "           3       0.92      0.94      0.93        50\n",
            "           4       1.00      0.90      0.95        49\n",
            "           5       0.51      0.94      0.66        47\n",
            "           6       0.76      0.80      0.78        46\n",
            "           7       0.61      0.93      0.74        46\n",
            "           8       0.96      0.98      0.97        44\n",
            "           9       0.53      0.39      0.45        44\n",
            "          10       0.76      0.70      0.73        44\n",
            "          11       0.93      0.89      0.91        44\n",
            "          12       0.71      0.55      0.62        44\n",
            "          13       0.94      0.37      0.53        43\n",
            "          14       0.73      0.95      0.83        43\n",
            "          15       0.95      0.88      0.92        43\n",
            "          16       0.48      0.79      0.60        43\n",
            "          17       0.59      0.98      0.74        43\n",
            "          18       0.40      0.05      0.09        42\n",
            "          19       0.68      0.56      0.61        41\n",
            "          20       0.69      0.28      0.39        40\n",
            "\n",
            "    accuracy                           0.73       900\n",
            "   macro avg       0.74      0.72      0.70       900\n",
            "weighted avg       0.75      0.73      0.71       900\n",
            "\n"
          ]
        }
      ]
    },
    {
      "cell_type": "code",
      "source": [
        "# Plot graphs for accuracy and loss\n",
        "def plot_graphs(history, string):\n",
        "  plt.plot(history.history[string])\n",
        "  plt.plot(history.history['val_'+string])\n",
        "  plt.xlabel(\"Epochs\")\n",
        "  plt.ylabel(string)\n",
        "  plt.legend([string, 'val_'+string])\n",
        "  plt.show()\n",
        "  \n",
        "plot_graphs(history, \"accuracy\")\n",
        "plot_graphs(history, \"loss\")"
      ],
      "metadata": {
        "colab": {
          "base_uri": "https://localhost:8080/",
          "height": 541
        },
        "id": "EA20eH5o9xt0",
        "outputId": "f4b1983b-f83c-4597-e8a9-e8be9380b5a3"
      },
      "execution_count": 20,
      "outputs": [
        {
          "output_type": "display_data",
          "data": {
            "image/png": "[encoded data removed]",
            "text/plain": [
              "<Figure size 432x288 with 1 Axes>"
            ]
          },
          "metadata": {
            "needs_background": "light"
          }
        },
        {
          "output_type": "display_data",
          "data": {
            "image/png": "[encoded data removed]",
            "text/plain": [
              "<Figure size 432x288 with 1 Axes>"
            ]
          },
          "metadata": {
            "needs_background": "light"
          }
        }
      ]
    }
  ],
  "metadata": {
    "colab": {
      "collapsed_sections": [],
      "name": "lstm_v2.ipynb",
      "provenance": [],
      "authorship_tag": "ABX9TyOsCn48k0yxD+b0fAdnrcPk",
      "include_colab_link": true
    },
    "kernelspec": {
      "display_name": "Python 3",
      "name": "python3"
    },
    "language_info": {
      "name": "python"
    },
    "accelerator": "GPU"
  },
  "nbformat": 4,
  "nbformat_minor": 0
}