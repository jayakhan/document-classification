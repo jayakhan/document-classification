{
  "cells": [
    {
      "cell_type": "markdown",
      "metadata": {
        "id": "view-in-github",
        "colab_type": "text"
      },
      "source": [
        "<a href=\"https://colab.research.google.com/github/jayakhan/document-classification/blob/main/lstm_v2.ipynb\" target=\"_parent\"><img src=\"https://colab.research.google.com/assets/colab-badge.svg\" alt=\"Open In Colab\"/></a>"
      ]
    },
    {
      "cell_type": "markdown",
      "source": [
        "## 1) Import Libraries"
      ],
      "metadata": {
        "id": "OMv-jNrCyAw4"
      }
    },
    {
      "cell_type": "code",
      "execution_count": null,
      "metadata": {
        "id": "Nbz7pFk_tGTH"
      },
      "outputs": [],
      "source": [
        "import numpy as np\n",
        "import nltk\n",
        "nltk.download('stopwords')\n",
        "import pandas as pd\n",
        "import matplotlib.pyplot as plt\n",
        "from sklearn.model_selection import train_test_split\n",
        "\n",
        "from nltk.corpus import stopwords\n",
        "STOPWORDS = set(stopwords.words('english'))\n",
        "\n",
        "from tensorflow import keras\n",
        "import tensorflow as tf\n",
        "from tensorflow.keras.models import Sequential\n",
        "from tensorflow.keras.preprocessing.text import Tokenizer\n",
        "from tensorflow.keras.preprocessing.sequence import pad_sequences"
      ]
    },
    {
      "cell_type": "markdown",
      "source": [
        "## 2) Set Model Hyperparameters"
      ],
      "metadata": {
        "id": "AyYbSjZIyKpN"
      }
    },
    {
      "cell_type": "code",
      "execution_count": 2,
      "metadata": {
        "id": "Aj7eML586AMb"
      },
      "outputs": [],
      "source": [
        "#Hyperparameters\n",
        "vocab_size = 2000\n",
        "embedding_dim = 64\n",
        "max_length = 500\n",
        "trunc_type = 'post'\n",
        "padding_type = 'post'\n",
        "oov_tok = '<OOV>'\n",
        "training_portion = .8"
      ]
    },
    {
      "cell_type": "markdown",
      "source": [
        "## 3) Load Real Dataset"
      ],
      "metadata": {
        "id": "Z_C6P_nSyRg_"
      }
    },
    {
      "cell_type": "code",
      "execution_count": 4,
      "metadata": {
        "id": "7bl3sH6ZtQFm"
      },
      "outputs": [],
      "source": [
        "# Adding Dataset into articles and labels list\n",
        "articles = []\n",
        "labels = []\n",
        "with open('/synthetic_data_v2.txt') as file:\n",
        "  docs = file.readlines()\n",
        "  for line in docs:\n",
        "    labels.append(line.split('\\t')[0])\n",
        "    article = line.split('\\t')[1]\n",
        "    for word in STOPWORDS:\n",
        "      token = ' ' + word + ' '\n",
        "      article = article.replace(token, ' ')\n",
        "      article = article.replace(' ', ' ')\n",
        "    articles.append(article)"
      ]
    },
    {
      "cell_type": "code",
      "source": [
        "# Clean Label Names\n",
        "labels_new = []\n",
        "for i in labels:\n",
        "  i = i.replace('.', '')\n",
        "  i = i.replace('-', '')\n",
        "  labels_new.append(i)"
      ],
      "metadata": {
        "id": "BHgRDxNCmJrn"
      },
      "execution_count": 5,
      "outputs": []
    },
    {
      "cell_type": "markdown",
      "source": [
        "## 4) Split data into 70% training and 30% validation datasets"
      ],
      "metadata": {
        "id": "k9yC_BsoygJJ"
      }
    },
    {
      "cell_type": "code",
      "source": [
        "train_articles, validation_articles, train_labels, validation_labels = train_test_split(articles, labels_new, test_size=0.3, stratify=labels_new)"
      ],
      "metadata": {
        "id": "Pm-YSCezWZCL"
      },
      "execution_count": 6,
      "outputs": []
    },
    {
      "cell_type": "code",
      "execution_count": 7,
      "metadata": {
        "colab": {
          "base_uri": "https://localhost:8080/"
        },
        "id": "rM0Phhsc8jkw",
        "outputId": "7e77d361-30ee-4d01-ff5b-c5f78bf15a2c"
      },
      "outputs": [
        {
          "output_type": "stream",
          "name": "stdout",
          "text": [
            "2100\n",
            "2100\n",
            "900\n",
            "900\n"
          ]
        }
      ],
      "source": [
        "print(len(train_articles))\n",
        "print(len(train_labels))\n",
        "print(len(validation_articles))\n",
        "print(len(validation_labels))"
      ]
    },
    {
      "cell_type": "code",
      "source": [
        "# Check distribution of training dataset\n",
        "pd.Series(train_labels).value_counts()"
      ],
      "metadata": {
        "colab": {
          "base_uri": "https://localhost:8080/"
        },
        "id": "uVbvpNlvVoAU",
        "outputId": "cdfc4093-5695-4ea7-d685-ecc5d79feeaf"
      },
      "execution_count": 8,
      "outputs": [
        {
          "output_type": "execute_result",
          "data": {
            "text/plain": [
              "composmswindowsmisc     123\n",
              "recsportbaseball        121\n",
              "scispace                116\n",
              "scicrypt                114\n",
              "socreligionchristian    110\n",
              "talkpoliticsguns        106\n",
              "scimed                  106\n",
              "recsporthockey          104\n",
              "talkpoliticsmisc        103\n",
              "altatheism              103\n",
              "miscforsale             102\n",
              "compsysibmpchardware    102\n",
              "recautos                102\n",
              "compwindowsx            101\n",
              "recmotorcycles          101\n",
              "compgraphics             99\n",
              "compsysmachardware       99\n",
              "talkreligionmisc         98\n",
              "talkpoliticsmideast      97\n",
              "scielectronics           93\n",
              "dtype: int64"
            ]
          },
          "metadata": {},
          "execution_count": 8
        }
      ]
    },
    {
      "cell_type": "code",
      "source": [
        " # Check distribution of validation dataset\n",
        " pd.Series(validation_labels).value_counts()"
      ],
      "metadata": {
        "colab": {
          "base_uri": "https://localhost:8080/"
        },
        "id": "j2PZgN7-dQnv",
        "outputId": "fee3847a-88cf-4b08-bfe4-d56c7af1048d"
      },
      "execution_count": 9,
      "outputs": [
        {
          "output_type": "execute_result",
          "data": {
            "text/plain": [
              "composmswindowsmisc     52\n",
              "recsportbaseball        52\n",
              "scispace                50\n",
              "scicrypt                49\n",
              "socreligionchristian    47\n",
              "scimed                  46\n",
              "talkpoliticsguns        46\n",
              "miscforsale             44\n",
              "recautos                44\n",
              "recsporthockey          44\n",
              "talkpoliticsmisc        44\n",
              "altatheism              44\n",
              "compgraphics            43\n",
              "compwindowsx            43\n",
              "compsysmachardware      43\n",
              "compsysibmpchardware    43\n",
              "recmotorcycles          43\n",
              "talkreligionmisc        42\n",
              "talkpoliticsmideast     41\n",
              "scielectronics          40\n",
              "dtype: int64"
            ]
          },
          "metadata": {},
          "execution_count": 9
        }
      ]
    },
    {
      "cell_type": "markdown",
      "source": [
        "## 5a) Tokenization and Vectorization - Articles"
      ],
      "metadata": {
        "id": "B2e-79W5y0IM"
      }
    },
    {
      "cell_type": "code",
      "execution_count": 10,
      "metadata": {
        "colab": {
          "base_uri": "https://localhost:8080/"
        },
        "id": "9Nqv14ys6eTz",
        "outputId": "ef42a4f0-270d-4fba-90ce-5d8187c78824"
      },
      "outputs": [
        {
          "output_type": "stream",
          "name": "stdout",
          "text": [
            "[1347, 1948, 641, 1459, 118, 97, 353, 164, 1001, 608, 535, 316, 1307, 609, 23, 622, 27, 41, 1551, 1816, 193, 706, 318, 13, 64, 1898, 1296, 1002, 441, 308, 2, 18, 152, 27, 805, 44, 647, 235, 767, 961, 1908, 592, 748, 794, 8, 265, 1369, 1199, 108, 794, 589, 482, 579, 1468, 916, 1017, 620, 638, 775, 74, 348, 23, 263, 542, 1061, 961, 45, 25, 439, 246, 1662, 230, 1516, 451, 881, 75, 715, 1834, 27, 9, 810, 27, 1260, 246, 324, 629, 165, 981, 2, 1185, 50, 13, 19, 31, 27, 265, 154, 38, 783, 152, 4, 783, 683, 2, 20, 20, 5, 1781, 348, 99, 19, 1559, 178, 2, 33, 345, 124, 1017, 520, 1316, 65, 1198, 1749, 629, 1007, 2, 19, 78, 1942, 8, 111, 51, 357, 1525, 87, 863, 80, 94, 345, 146, 220, 18, 344, 368, 79, 196, 1031, 357, 45, 198, 875, 52, 201, 961, 224, 545, 194, 220, 3, 998, 419, 201, 977, 543, 7, 3, 32, 156, 555, 506, 111, 314, 58, 1330, 124, 977, 144, 650, 9, 129, 666, 748, 118, 2, 308, 7, 748, 32, 472, 312, 60, 1395, 1873, 170, 1369, 546, 380, 368, 27, 5, 1915, 33, 265, 791, 87, 1572, 445, 164, 39, 791, 984, 1975, 4, 984, 103, 147, 169, 44, 236, 39, 176, 507, 775, 303, 1068, 292, 865, 2, 180, 268, 1152, 547, 8, 468, 14, 8, 1046, 34, 825, 1021, 1360, 65, 1100, 201, 254, 824, 75, 1153, 359, 1077, 1383, 2, 19, 863, 875, 1840, 42, 824, 65, 27, 8, 823, 58, 118, 19, 34, 1426, 242, 511, 836, 1017, 303, 25, 69, 262, 344, 2, 2, 148, 308, 193, 748, 186, 762, 76, 168, 8, 1017, 27, 273, 59, 1459, 96, 45, 432, 82, 201, 357, 237, 1289, 9, 441, 441, 14, 1191, 2, 97, 70, 961, 221, 80, 786, 1654, 1933, 1816, 1270, 1058, 4, 147, 307, 70, 3, 22, 1046, 78, 1070, 445, 181, 1131, 380, 707, 353, 263, 318, 269, 8, 1722, 557, 368, 204, 1886, 121, 1586, 579, 771, 989, 514, 1781, 5, 566, 264, 244, 270, 8, 373, 1873, 20, 33, 794, 4, 450, 740, 4, 157, 357, 511, 33, 27, 683, 88, 206, 2, 961, 161, 237, 908, 59, 855, 8, 239, 391, 152, 542, 23, 26, 180, 23, 217, 1016, 2, 45, 229, 19, 838, 1115, 23, 524, 58, 118, 1886, 1014, 144, 1321, 322, 1933, 45, 68, 161, 361, 152, 52, 270, 65, 70, 458, 313, 20, 1596, 237, 26, 14, 25, 482, 269, 3, 118, 1058, 35, 811, 161, 69, 1643, 37, 134, 5, 591, 357, 127, 33, 546, 359, 69, 2, 1884, 280, 643, 545, 1985, 561, 441, 20, 102, 1566, 285, 2, 78, 87, 1771, 435, 527, 1171, 5, 445, 295, 647, 36, 1723, 3, 2, 1467, 1782, 472, 455, 172, 543, 1358, 608, 57, 372, 4, 193, 70, 464, 20, 984, 532, 7, 647, 1839, 824, 117, 26, 65, 1698, 586]\n",
            "[1708, 138, 534, 424, 449, 1711, 126, 51, 554, 59, 517, 958, 307, 119, 1429, 346, 777, 1190, 22, 734, 1922, 379, 350, 126, 204, 17, 15, 129, 170, 722, 69, 25, 175, 195, 176, 603, 244, 347, 3, 631, 51, 211, 121, 1038, 17, 1297, 535, 819, 1089, 850, 460, 1194, 23, 1429, 26, 379, 1763, 2, 671, 656, 128, 1681, 221, 126, 685, 1038, 435, 335, 903, 354, 459, 22, 469, 205, 7, 307, 138, 1604, 195, 409, 4, 47, 476, 275, 123, 253, 281, 1527, 2, 1025, 128, 17, 309, 296, 711, 3, 28, 614, 11, 98, 446, 1310, 732, 438, 4, 203, 711, 17, 425, 573, 287, 555, 46, 687, 12, 272, 951, 109, 1015, 88, 921, 89, 1665, 51, 203, 35, 412, 128, 447, 198, 126, 1544, 1457, 90, 664, 815, 3, 123, 350, 644, 9, 328, 8, 301, 379, 7, 858, 72, 932, 994, 233, 258, 789, 1536, 17, 1032, 568, 614, 1850, 11, 381, 267, 13, 11, 1177, 51, 896, 50, 96, 52, 24, 126, 453, 447, 142, 1193, 202, 542, 404, 123, 424, 85, 17, 1119, 145, 340, 876, 757, 126, 1730, 59, 1304, 2, 309, 539, 160, 17, 126, 338, 51, 1025, 1860, 211, 191, 6, 244, 17, 33, 98, 17, 349, 5, 236, 711, 490, 1725, 17, 3, 1564, 45, 3, 424, 1750, 118, 1492, 941, 447, 37, 328, 536, 1404, 42, 1347, 126, 799, 206, 717, 81, 177, 523, 825, 42, 547, 106, 63, 446, 90, 2, 19, 127, 1310, 126, 4, 420, 519, 405, 207, 11, 1404, 12, 53, 43, 198, 396, 138, 152, 213, 6, 762, 103, 1404, 447, 13, 567, 85, 1179, 17, 45, 51, 29, 90, 42, 687, 11, 20, 347, 758, 126, 382, 185, 3, 307, 711, 111, 549, 1157, 675, 637, 1711, 1084, 574, 203, 1591, 34, 109, 299, 555, 514, 193, 555, 293, 1159, 448, 717, 135, 13, 558, 859, 500, 7, 704, 132, 216, 126, 47, 24, 1959, 896, 13, 614, 274, 17, 46, 170, 1949, 109, 77, 424, 427, 347, 196, 83, 1176, 351, 1157, 767, 155, 1117, 1363, 15, 396, 577, 1679, 17, 711, 921, 185, 3, 583, 382, 574, 717, 458, 955, 206, 382, 24, 143, 1916, 1375, 925, 756, 1728, 6, 483, 188, 555, 1927, 651, 170, 711, 43, 258, 317, 347, 272, 1392, 821, 213, 1158, 39, 1446, 363, 17, 1342, 95, 37, 210, 46, 96, 1365, 1291, 13, 28, 953, 126, 1084, 309, 273, 211, 136, 222, 549, 395, 1038, 932, 142, 930, 519, 13, 706, 11, 265, 855, 1708, 96, 15, 910, 46, 1515, 107, 76, 310, 1688, 129, 158, 24, 60, 1454, 56, 22, 17, 265, 109, 347, 1164, 773, 850, 303, 466, 203, 55, 1857, 51, 13, 258, 98, 3, 149, 211, 425, 1487, 12, 717, 1479, 1411, 67, 17, 195, 851, 1476, 731, 40, 1860, 46, 6, 126, 548, 24, 799, 539, 28, 302, 350, 258, 40, 408, 23, 296, 1179, 1458, 932, 132, 17, 603, 734, 406, 49]\n"
          ]
        }
      ],
      "source": [
        "# Tokenize articles for training datasets\n",
        "tokenizer = Tokenizer(num_words = vocab_size, oov_token=oov_tok)\n",
        "tokenizer.fit_on_texts(train_articles)\n",
        "train_sequences = tokenizer.texts_to_sequences(train_articles)\n",
        "validation_sequences = tokenizer.texts_to_sequences(validation_articles)\n",
        "\n",
        "print(train_sequences[10])\n",
        "print(validation_sequences[10])"
      ]
    },
    {
      "cell_type": "code",
      "execution_count": 11,
      "metadata": {
        "colab": {
          "base_uri": "https://localhost:8080/"
        },
        "id": "-OJgosYj7Ash",
        "outputId": "0735226a-37ba-417f-ce59-ab1b74b74b89"
      },
      "outputs": [
        {
          "output_type": "stream",
          "name": "stdout",
          "text": [
            "497\n",
            "500\n",
            "499\n",
            "500\n",
            "495\n",
            "500\n",
            "498\n",
            "500\n"
          ]
        }
      ],
      "source": [
        "# Padding to the end of the training and validation articles\n",
        "train_padded = pad_sequences(train_sequences, maxlen=max_length, padding=padding_type, truncating=trunc_type)\n",
        "validation_padded = pad_sequences(validation_sequences, maxlen=max_length, padding=padding_type, truncating=trunc_type)\n",
        "\n",
        "print(len(train_sequences[0]))\n",
        "print(len(train_padded[0]))\n",
        "\n",
        "print(len(train_sequences[1]))\n",
        "print(len(train_padded[1]))\n",
        "\n",
        "print(len(train_sequences[10]))\n",
        "print(len(train_padded[10]))\n",
        "\n",
        "print(len(validation_sequences[10]))\n",
        "print(len(validation_padded[10]))"
      ]
    },
    {
      "cell_type": "markdown",
      "source": [
        "## 5b) Tokenization and Vectorization - Labels"
      ],
      "metadata": {
        "id": "Y9t-oTWUzhDa"
      }
    },
    {
      "cell_type": "code",
      "execution_count": 12,
      "metadata": {
        "colab": {
          "base_uri": "https://localhost:8080/"
        },
        "id": "PNtlnmms9Qv7",
        "outputId": "cfd0cbb0-4856-48a8-d45b-4d10c18e1641"
      },
      "outputs": [
        {
          "output_type": "stream",
          "name": "stdout",
          "text": [
            "[15]\n",
            "[17]\n",
            "[20]\n",
            "(2100, 1)\n",
            "[18]\n",
            "[11]\n",
            "[13]\n",
            "(900, 1)\n"
          ]
        }
      ],
      "source": [
        "label_tokenizer = Tokenizer()\n",
        "label_tokenizer.fit_on_texts(labels_new)\n",
        "training_label_seq = np.asarray(label_tokenizer.texts_to_sequences(train_labels))\n",
        "validation_label_seq = np.asarray(label_tokenizer.texts_to_sequences(validation_labels))\n",
        "print(training_label_seq[0])\n",
        "print(training_label_seq[1])\n",
        "print(training_label_seq[2])\n",
        "print(training_label_seq.shape)\n",
        "\n",
        "print(validation_label_seq[0])\n",
        "print(validation_label_seq[1])\n",
        "print(validation_label_seq[2])\n",
        "print(validation_label_seq.shape)"
      ]
    },
    {
      "cell_type": "markdown",
      "source": [
        "## 6) Model Building"
      ],
      "metadata": {
        "id": "aY5dhJ7Uzttt"
      }
    },
    {
      "cell_type": "code",
      "execution_count": 13,
      "metadata": {
        "colab": {
          "base_uri": "https://localhost:8080/"
        },
        "id": "pEk37J04AObX",
        "outputId": "809835df-bdec-414d-d30b-74eb390d55b8"
      },
      "outputs": [
        {
          "output_type": "stream",
          "name": "stdout",
          "text": [
            "Model: \"sequential\"\n",
            "_________________________________________________________________\n",
            " Layer (type)                Output Shape              Param #   \n",
            "=================================================================\n",
            " embedding (Embedding)       (None, None, 64)          128000    \n",
            "                                                                 \n",
            " bidirectional (Bidirectiona  (None, 128)              66048     \n",
            " l)                                                              \n",
            "                                                                 \n",
            " dense (Dense)               (None, 64)                8256      \n",
            "                                                                 \n",
            " dense_1 (Dense)             (None, 32)                2080      \n",
            "                                                                 \n",
            "=================================================================\n",
            "Total params: 204,384\n",
            "Trainable params: 204,384\n",
            "Non-trainable params: 0\n",
            "_________________________________________________________________\n"
          ]
        }
      ],
      "source": [
        "model = tf.keras.Sequential([\n",
        "    # Add an Embedding layer expecting input vocab of size 2000, and output embedding dimension of size 64\n",
        "    tf.keras.layers.Embedding(vocab_size, embedding_dim),\n",
        "    tf.keras.layers.Bidirectional(tf.keras.layers.LSTM(embedding_dim)),\n",
        "    tf.keras.layers.Dense(embedding_dim, activation='relu'),\n",
        "    tf.keras.layers.Dense(32, activation='softmax')\n",
        "])\n",
        "model.summary()"
      ]
    },
    {
      "cell_type": "code",
      "source": [
        "[print(i.shape, i.dtype) for i in model.inputs]\n",
        "[print(o.shape, o.dtype) for o in model.outputs]\n",
        "[print(l.name, l.input_shape, l.dtype) for l in model.layers]"
      ],
      "metadata": {
        "colab": {
          "base_uri": "https://localhost:8080/"
        },
        "id": "m7QyMUS00BhU",
        "outputId": "666f4d59-3c37-481e-8a92-a20148fa234d"
      },
      "execution_count": 14,
      "outputs": [
        {
          "output_type": "stream",
          "name": "stdout",
          "text": [
            "(None, None) <dtype: 'float32'>\n",
            "(None, 32) <dtype: 'float32'>\n",
            "embedding (None, None) float32\n",
            "bidirectional (None, None, 64) float32\n",
            "dense (None, 128) float32\n",
            "dense_1 (None, 64) float32\n"
          ]
        },
        {
          "output_type": "execute_result",
          "data": {
            "text/plain": [
              "[None, None, None, None]"
            ]
          },
          "metadata": {},
          "execution_count": 14
        }
      ]
    },
    {
      "cell_type": "code",
      "execution_count": 15,
      "metadata": {
        "colab": {
          "base_uri": "https://localhost:8080/"
        },
        "id": "k3Tz3RjBBTkL",
        "outputId": "50d4415e-bb9a-4e74-e965-c54c5e2d25b9"
      },
      "outputs": [
        {
          "output_type": "stream",
          "name": "stdout",
          "text": [
            "(2100, 500)\n",
            "(2100, 1)\n",
            "(900, 500)\n",
            "(900, 1)\n"
          ]
        }
      ],
      "source": [
        "# Check dataset before model fitting\n",
        "print(train_padded.shape)\n",
        "print(training_label_seq.shape)\n",
        "print(validation_padded.shape)\n",
        "print(validation_label_seq.shape)"
      ]
    },
    {
      "cell_type": "code",
      "execution_count": 16,
      "metadata": {
        "colab": {
          "base_uri": "https://localhost:8080/"
        },
        "id": "SGGa_ixyF5OW",
        "outputId": "06a4f628-fff7-418b-fa3e-0e67b724e008"
      },
      "outputs": [
        {
          "output_type": "stream",
          "name": "stdout",
          "text": [
            "<class 'numpy.ndarray'>\n",
            "<class 'numpy.ndarray'>\n",
            "<class 'numpy.ndarray'>\n",
            "<class 'numpy.ndarray'>\n"
          ]
        }
      ],
      "source": [
        "# Check dataset before model fitting\n",
        "print(type(train_padded))\n",
        "print(type(training_label_seq))\n",
        "print(type(validation_padded))\n",
        "print(type(validation_label_seq))"
      ]
    },
    {
      "cell_type": "markdown",
      "source": [
        "## 6) Model Validation"
      ],
      "metadata": {
        "id": "H8WM5tJVcjsP"
      }
    },
    {
      "cell_type": "code",
      "execution_count": 17,
      "metadata": {
        "id": "JWxWZyvAAYtm",
        "colab": {
          "base_uri": "https://localhost:8080/"
        },
        "outputId": "bab04643-d678-4700-9ad9-615ac12145d4"
      },
      "outputs": [
        {
          "output_type": "stream",
          "name": "stdout",
          "text": [
            "Epoch 1/10\n",
            "66/66 - 22s - loss: 3.2337 - accuracy: 0.0462 - val_loss: 2.9996 - val_accuracy: 0.0689 - 22s/epoch - 340ms/step\n",
            "Epoch 2/10\n",
            "66/66 - 15s - loss: 2.9110 - accuracy: 0.0895 - val_loss: 2.7709 - val_accuracy: 0.1244 - 15s/epoch - 220ms/step\n",
            "Epoch 3/10\n",
            "66/66 - 15s - loss: 2.4752 - accuracy: 0.1857 - val_loss: 2.1557 - val_accuracy: 0.2756 - 15s/epoch - 222ms/step\n",
            "Epoch 4/10\n",
            "66/66 - 15s - loss: 1.9842 - accuracy: 0.2843 - val_loss: 1.7452 - val_accuracy: 0.3656 - 15s/epoch - 220ms/step\n",
            "Epoch 5/10\n",
            "66/66 - 15s - loss: 1.5888 - accuracy: 0.4133 - val_loss: 1.4044 - val_accuracy: 0.4656 - 15s/epoch - 221ms/step\n",
            "Epoch 6/10\n",
            "66/66 - 15s - loss: 1.2233 - accuracy: 0.5857 - val_loss: 1.3117 - val_accuracy: 0.5256 - 15s/epoch - 222ms/step\n",
            "Epoch 7/10\n",
            "66/66 - 15s - loss: 0.9988 - accuracy: 0.6805 - val_loss: 1.3604 - val_accuracy: 0.5222 - 15s/epoch - 221ms/step\n",
            "Epoch 8/10\n",
            "66/66 - 14s - loss: 0.7292 - accuracy: 0.7614 - val_loss: 0.7305 - val_accuracy: 0.7222 - 14s/epoch - 220ms/step\n",
            "Epoch 9/10\n",
            "66/66 - 15s - loss: 0.5198 - accuracy: 0.8205 - val_loss: 0.6487 - val_accuracy: 0.7411 - 15s/epoch - 221ms/step\n",
            "Epoch 10/10\n",
            "66/66 - 15s - loss: 0.3334 - accuracy: 0.9005 - val_loss: 0.4434 - val_accuracy: 0.8311 - 15s/epoch - 221ms/step\n"
          ]
        }
      ],
      "source": [
        "model.compile(loss='sparse_categorical_crossentropy', optimizer='adam', metrics=['accuracy'])\n",
        "num_epochs = 10\n",
        "history = model.fit(train_padded, training_label_seq, epochs=num_epochs, validation_data=(validation_padded, validation_label_seq), verbose=2)"
      ]
    },
    {
      "cell_type": "markdown",
      "source": [
        "## 7) Model Evaluation"
      ],
      "metadata": {
        "id": "Hi0cbKbB0LtQ"
      }
    },
    {
      "cell_type": "code",
      "source": [
        "score = model.evaluate(validation_padded, validation_label_seq, verbose=10)\n",
        "\n",
        "print(\"Loss: %.3f \\nAccuracy: %.3f\" % (score[0], score[1]))"
      ],
      "metadata": {
        "colab": {
          "base_uri": "https://localhost:8080/"
        },
        "id": "rXqI2UJYvojM",
        "outputId": "deb37030-a263-4ad3-8ac7-f4aac7be24c1"
      },
      "execution_count": 18,
      "outputs": [
        {
          "output_type": "stream",
          "name": "stdout",
          "text": [
            "Loss: 0.443 \n",
            "Accuracy: 0.831\n"
          ]
        }
      ]
    },
    {
      "cell_type": "code",
      "source": [
        "LABELS = ['altatheism', 'compgraphics', 'composmswindowsmisc', 'compsysibmpchardware', 'compsysmachardware', 'compwindowsx', 'miscforsale', 'recautos', 'recmotorcycles', 'recsportbaseball',\n",
        "              'recsporthockey', 'scicrypt', 'scielectronics', 'scimed', 'scispace', 'socreligionchristian', 'talkpoliticsguns', 'talkpoliticsmideast', 'talkpoliticsmisc', 'talkreligionmisc']"
      ],
      "metadata": {
        "id": "2KNaCV1oc2TC"
      },
      "execution_count": 19,
      "outputs": []
    },
    {
      "cell_type": "code",
      "source": [
        "from sklearn.metrics import classification_report\n",
        "\n",
        "y_pred = model.predict(validation_padded, batch_size=64, verbose=10)\n",
        "y_pred_bool = np.argmax(y_pred, axis=1)\n",
        "print(classification_report(validation_label_seq.copy(), y_pred_bool.copy(), target_names=LABELS))"
      ],
      "metadata": {
        "colab": {
          "base_uri": "https://localhost:8080/"
        },
        "id": "nHDrH_IPw5AI",
        "outputId": "d0ca25d0-c735-424c-faf9-643611ffbf96"
      },
      "execution_count": 20,
      "outputs": [
        {
          "output_type": "stream",
          "name": "stdout",
          "text": [
            "                      precision    recall  f1-score   support\n",
            "\n",
            "          altatheism       0.96      1.00      0.98        52\n",
            "        compgraphics       1.00      1.00      1.00        52\n",
            " composmswindowsmisc       0.86      0.88      0.87        50\n",
            "compsysibmpchardware       0.92      0.98      0.95        49\n",
            "  compsysmachardware       1.00      0.26      0.41        47\n",
            "        compwindowsx       0.71      0.98      0.83        46\n",
            "         miscforsale       0.94      0.96      0.95        46\n",
            "            recautos       1.00      1.00      1.00        44\n",
            "      recmotorcycles       0.27      0.32      0.29        44\n",
            "    recsportbaseball       0.88      0.48      0.62        44\n",
            "      recsporthockey       0.73      1.00      0.85        44\n",
            "            scicrypt       0.93      0.95      0.94        44\n",
            "      scielectronics       0.98      1.00      0.99        43\n",
            "              scimed       0.83      1.00      0.91        43\n",
            "            scispace       1.00      0.60      0.75        43\n",
            "socreligionchristian       0.97      0.67      0.79        43\n",
            "    talkpoliticsguns       1.00      0.79      0.88        43\n",
            " talkpoliticsmideast       0.49      0.79      0.60        42\n",
            "    talkpoliticsmisc       0.98      0.98      0.98        41\n",
            "    talkreligionmisc       0.78      0.95      0.85        40\n",
            "\n",
            "            accuracy                           0.83       900\n",
            "           macro avg       0.86      0.83      0.82       900\n",
            "        weighted avg       0.86      0.83      0.82       900\n",
            "\n"
          ]
        }
      ]
    },
    {
      "cell_type": "code",
      "source": [
        "# Plot graphs for accuracy and loss\n",
        "def plot_graphs(history, string):\n",
        "  plt.plot(history.history[string])\n",
        "  plt.plot(history.history['val_'+string])\n",
        "  plt.xlabel(\"Epochs\")\n",
        "  plt.ylabel(string)\n",
        "  plt.legend([string, 'val_'+string])\n",
        "  plt.show()\n",
        "  \n",
        "plot_graphs(history, \"accuracy\")\n",
        "plot_graphs(history, \"loss\")"
      ],
      "metadata": {
        "colab": {
          "base_uri": "https://localhost:8080/",
          "height": 541
        },
        "id": "EA20eH5o9xt0",
        "outputId": "f423bc6d-8099-49ab-ae7a-7ef1d995f340"
      },
      "execution_count": 21,
      "outputs": [
        {
          "output_type": "display_data",
          "data": {
            "image/png": "[encoded data removed]",
            "text/plain": [
              "<Figure size 432x288 with 1 Axes>"
            ]
          },
          "metadata": {
            "needs_background": "light"
          }
        },
        {
          "output_type": "display_data",
          "data": {
            "image/png": "[encoded data removed]",
            "text/plain": [
              "<Figure size 432x288 with 1 Axes>"
            ]
          },
          "metadata": {
            "needs_background": "light"
          }
        }
      ]
    }
  ],
  "metadata": {
    "colab": {
      "collapsed_sections": [],
      "name": "lstm_v2.ipynb",
      "provenance": [],
      "authorship_tag": "ABX9TyOJdwUEPorB1KjDJCQ/oOa2",
      "include_colab_link": true
    },
    "kernelspec": {
      "display_name": "Python 3",
      "name": "python3"
    },
    "language_info": {
      "name": "python"
    },
    "accelerator": "GPU"
  },
  "nbformat": 4,
  "nbformat_minor": 0
}