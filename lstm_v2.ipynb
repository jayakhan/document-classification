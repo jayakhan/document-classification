{
  "cells": [
    {
      "cell_type": "markdown",
      "metadata": {
        "id": "view-in-github",
        "colab_type": "text"
      },
      "source": [
        "<a href=\"https://colab.research.google.com/github/jayakhan/document-classification/blob/main/lstm_v2.ipynb\" target=\"_parent\"><img src=\"https://colab.research.google.com/assets/colab-badge.svg\" alt=\"Open In Colab\"/></a>"
      ]
    },
    {
      "cell_type": "markdown",
      "source": [
        "## 1) Import Libraries"
      ],
      "metadata": {
        "id": "OMv-jNrCyAw4"
      }
    },
    {
      "cell_type": "code",
      "execution_count": null,
      "metadata": {
        "id": "Nbz7pFk_tGTH"
      },
      "outputs": [],
      "source": [
        "import numpy as np\n",
        "import nltk\n",
        "nltk.download('stopwords')\n",
        "import pandas as pd\n",
        "import matplotlib.pyplot as plt\n",
        "from sklearn.model_selection import train_test_split\n",
        "\n",
        "from nltk.corpus import stopwords\n",
        "STOPWORDS = set(stopwords.words('english'))\n",
        "\n",
        "from tensorflow import keras\n",
        "import tensorflow as tf\n",
        "from tensorflow.keras.models import Sequential\n",
        "from tensorflow.keras.preprocessing.text import Tokenizer\n",
        "from tensorflow.keras.preprocessing.sequence import pad_sequences"
      ]
    },
    {
      "cell_type": "markdown",
      "source": [
        "## 2) Set Model Hyperparameters"
      ],
      "metadata": {
        "id": "AyYbSjZIyKpN"
      }
    },
    {
      "cell_type": "code",
      "execution_count": 28,
      "metadata": {
        "id": "Aj7eML586AMb"
      },
      "outputs": [],
      "source": [
        "#Hyperparameters\n",
        "vocab_size = 2000\n",
        "embedding_dim = 64\n",
        "max_length = 500\n",
        "trunc_type = 'post'\n",
        "padding_type = 'post'\n",
        "oov_tok = '<OOV>'\n",
        "training_portion = .8"
      ]
    },
    {
      "cell_type": "markdown",
      "source": [
        "## 3) Load Real Dataset"
      ],
      "metadata": {
        "id": "Z_C6P_nSyRg_"
      }
    },
    {
      "cell_type": "code",
      "execution_count": 31,
      "metadata": {
        "id": "7bl3sH6ZtQFm"
      },
      "outputs": [],
      "source": [
        "# Adding Dataset into articles and labels list\n",
        "articles = []\n",
        "labels = []\n",
        "with open('/content/synthetic_data_v1.txt') as file:\n",
        "  docs = file.readlines()\n",
        "  for line in docs:\n",
        "    labels.append(line.split('\\t')[0])\n",
        "    article = line.split('\\t')[1]\n",
        "    for word in STOPWORDS:\n",
        "      token = ' ' + word + ' '\n",
        "      article = article.replace(token, ' ')\n",
        "      article = article.replace(' ', ' ')\n",
        "    articles.append(article)"
      ]
    },
    {
      "cell_type": "code",
      "source": [
        "# Clean Label Names\n",
        "labels_new = []\n",
        "for i in labels:\n",
        "  i = i.replace('.', '')\n",
        "  i = i.replace('-', '')\n",
        "  labels_new.append(i)"
      ],
      "metadata": {
        "id": "BHgRDxNCmJrn"
      },
      "execution_count": 32,
      "outputs": []
    },
    {
      "cell_type": "markdown",
      "source": [
        "## 4) Split data into 70% training and 30% validation datasets"
      ],
      "metadata": {
        "id": "k9yC_BsoygJJ"
      }
    },
    {
      "cell_type": "code",
      "source": [
        "train_articles, validation_articles, train_labels, validation_labels = train_test_split(articles, labels_new, test_size=0.3, stratify=labels_new)"
      ],
      "metadata": {
        "id": "Pm-YSCezWZCL"
      },
      "execution_count": 33,
      "outputs": []
    },
    {
      "cell_type": "code",
      "execution_count": 34,
      "metadata": {
        "colab": {
          "base_uri": "https://localhost:8080/"
        },
        "id": "rM0Phhsc8jkw",
        "outputId": "2518f191-28d6-4607-cf3d-dba0b7ea7acc"
      },
      "outputs": [
        {
          "output_type": "stream",
          "name": "stdout",
          "text": [
            "2100\n",
            "2100\n",
            "900\n",
            "900\n"
          ]
        }
      ],
      "source": [
        "print(len(train_articles))\n",
        "print(len(train_labels))\n",
        "print(len(validation_articles))\n",
        "print(len(validation_labels))"
      ]
    },
    {
      "cell_type": "code",
      "source": [
        "# Check distribution of training dataset\n",
        "pd.Series(train_labels).value_counts()"
      ],
      "metadata": {
        "colab": {
          "base_uri": "https://localhost:8080/"
        },
        "id": "uVbvpNlvVoAU",
        "outputId": "84ff42ab-9060-49b8-82eb-84db02c0ffcb"
      },
      "execution_count": 35,
      "outputs": [
        {
          "output_type": "execute_result",
          "data": {
            "text/plain": [
              "scispace                123\n",
              "recmotorcycles          120\n",
              "compwindowsx            120\n",
              "recsporthockey          118\n",
              "compsysmachardware      115\n",
              "scielectronics          106\n",
              "scimed                  105\n",
              "compsysibmpchardware    104\n",
              "scicrypt                103\n",
              "talkpoliticsmideast     102\n",
              "recsportbaseball        101\n",
              "compgraphics            101\n",
              "talkpoliticsmisc        101\n",
              "talkreligionmisc        101\n",
              "altatheism              101\n",
              "talkpoliticsguns        100\n",
              "composmswindowsmisc      99\n",
              "miscforsale              97\n",
              "recautos                 95\n",
              "socreligionchristian     88\n",
              "dtype: int64"
            ]
          },
          "metadata": {},
          "execution_count": 35
        }
      ]
    },
    {
      "cell_type": "code",
      "source": [
        " # Check distribution of validation dataset\n",
        " pd.Series(validation_labels).value_counts()"
      ],
      "metadata": {
        "colab": {
          "base_uri": "https://localhost:8080/"
        },
        "id": "j2PZgN7-dQnv",
        "outputId": "eb62c6c5-2958-47f6-a8e5-029774c9ac5d"
      },
      "execution_count": 36,
      "outputs": [
        {
          "output_type": "execute_result",
          "data": {
            "text/plain": [
              "scispace                53\n",
              "recmotorcycles          52\n",
              "compwindowsx            51\n",
              "recsporthockey          50\n",
              "compsysmachardware      49\n",
              "scimed                  45\n",
              "scielectronics          45\n",
              "scicrypt                44\n",
              "talkpoliticsmideast     44\n",
              "compsysibmpchardware    44\n",
              "recsportbaseball        44\n",
              "compgraphics            44\n",
              "talkpoliticsguns        43\n",
              "talkreligionmisc        43\n",
              "altatheism              43\n",
              "talkpoliticsmisc        43\n",
              "miscforsale             42\n",
              "composmswindowsmisc     42\n",
              "recautos                41\n",
              "socreligionchristian    38\n",
              "dtype: int64"
            ]
          },
          "metadata": {},
          "execution_count": 36
        }
      ]
    },
    {
      "cell_type": "markdown",
      "source": [
        "## 5a) Tokenization and Vectorization - Articles"
      ],
      "metadata": {
        "id": "B2e-79W5y0IM"
      }
    },
    {
      "cell_type": "code",
      "execution_count": 37,
      "metadata": {
        "colab": {
          "base_uri": "https://localhost:8080/"
        },
        "id": "9Nqv14ys6eTz",
        "outputId": "e92a61dd-2fdc-4664-cb68-625e6efcc1a8"
      },
      "outputs": [
        {
          "output_type": "stream",
          "name": "stdout",
          "text": [
            "[1214, 56, 889, 987, 1110, 68, 682, 341, 227, 532, 799, 916, 608, 144, 56, 97, 317, 549, 1418, 65, 603, 22, 12, 484, 183, 515, 109, 118, 290, 141, 645, 96, 69, 237, 41, 62, 184, 507, 1782, 40, 47, 109, 385, 287, 17, 88, 411, 927, 46, 411, 1455, 737, 528, 1380, 212, 1486, 881, 168, 14, 1842, 234, 263, 128, 405, 905, 1748, 1227, 505, 268, 248, 212, 130, 341, 15, 202, 1754, 497, 9, 52, 3, 293, 263, 365, 1783, 512, 2, 299, 737, 709, 14, 1669, 600, 11, 111, 211, 88, 930, 45, 889, 16, 7, 1399, 157, 472, 1504, 1432, 3, 18, 47, 24, 676, 168, 53, 233, 341, 1045, 101, 562, 930, 86, 170, 72, 79, 497, 1413, 146, 168, 14, 120, 168, 378, 954, 189, 42, 22, 236, 1026, 94, 62, 476, 15, 2, 2, 97, 676, 47, 647, 6, 89, 1933, 23, 5, 1026, 328, 14, 104, 151, 397, 446, 170, 83, 527, 22, 365, 263, 1204, 22, 222, 490, 1556, 777, 1626, 1057, 344, 1084, 2, 557, 1381, 109, 205, 960, 386, 287, 499, 210, 299, 1381, 109, 458, 1311, 22, 3, 946, 430, 6, 905, 261, 42, 22, 3, 303, 1128, 2, 12, 31, 22, 214, 10, 537, 1153, 242, 470, 317, 262, 875, 22, 1142, 464, 347, 337, 524, 1889, 951, 59, 186, 568, 1521, 131, 68, 1858, 864, 1136, 22, 81, 23, 268, 1093, 88, 184, 109, 19, 768, 73, 385, 185, 727, 37, 1022, 338, 161, 263, 326, 90, 68, 22, 493, 313, 1362, 47, 12, 696, 3, 68, 510, 97, 18, 237, 130, 488, 645, 193, 2, 45, 42, 90, 60, 86, 83, 6, 341, 344, 89, 234, 1137, 562, 817, 510, 243, 1415, 1045, 131, 737, 13, 145, 22, 6, 50, 458, 549, 908, 709, 623, 1748, 161, 22, 1144, 6, 960, 780, 1022, 109, 310, 966, 1362, 464, 1336, 326, 97, 457, 86, 237, 185, 383, 17, 136, 905, 418, 273, 125, 261, 2, 1184, 364, 1321, 2, 454, 13, 217, 47, 22, 94, 109, 102, 464, 954, 341, 109, 930, 20, 430, 786, 1837, 1098, 210, 730, 434, 14, 454, 232, 23, 278, 47, 214, 109, 1681, 269, 235, 368, 890, 512, 317, 15, 15, 26, 250, 1360, 6, 20, 17, 2, 635, 817, 86, 6, 79, 119, 94, 224, 96, 52, 12, 73, 25, 59, 1556, 579, 1783, 47, 273, 290, 930, 565, 1499, 1486, 598, 1109, 341, 387, 876, 597, 1779, 287, 20, 83, 96, 905, 1139, 525, 47, 130, 423, 527, 198, 56, 791, 962, 173, 234, 50, 1094, 684, 56, 128, 496, 175, 109, 45, 277, 47, 1439, 1382, 642, 113, 579, 410, 483, 134, 179, 397, 153, 8, 310, 960, 671, 45, 287, 50, 287, 885, 140, 449, 130, 4, 146, 12, 1239, 109, 1010, 220, 6, 2, 562, 86, 1366, 279, 109, 930, 1060, 1116, 671, 77, 22, 25, 165, 146, 22, 1116, 1867, 1142, 3, 1297, 773, 496, 920, 22, 11, 399, 476, 86]\n",
            "[101, 415, 1089, 7, 306, 763, 237, 134, 96, 9, 1907, 563, 768, 1503, 111, 50, 614, 1125, 1559, 8, 227, 1694, 18, 222, 490, 210, 546, 1263, 608, 97, 378, 1191, 99, 336, 2, 7, 871, 1180, 93, 549, 678, 3, 594, 966, 1373, 241, 461, 1074, 890, 584, 704, 23, 257, 313, 164, 90, 34, 93, 138, 317, 3, 178, 50, 378, 10, 130, 53, 582, 148, 501, 1733, 1032, 1773, 107, 149, 81, 263, 458, 130, 710, 29, 875, 135, 263, 1537, 47, 344, 1848, 61, 24, 83, 244, 178, 93, 1134, 31, 93, 168, 307, 93, 1191, 90, 7, 148, 6, 245, 3, 69, 5, 1001, 303, 93, 210, 68, 95, 9, 9, 78, 15, 895, 1681, 416, 187, 1204, 35, 429, 107, 371, 799, 556, 890, 922, 21, 228, 52, 1751, 1400, 10, 3, 87, 61, 93, 32, 370, 579, 1533, 130, 252, 1297, 2, 68, 164, 838, 876, 22, 62, 584, 532, 1955, 223, 24, 985, 891, 1751, 107, 768, 214, 636, 583, 130, 1365, 34, 1156, 41, 1915, 53, 93, 348, 865, 282, 381, 28, 52, 549, 98, 38, 99, 854, 263, 802, 176, 608, 24, 18, 101, 17, 52, 2, 21, 346, 120, 1128, 56, 293, 130, 111, 48, 46, 739, 701, 636, 975, 8, 135, 1231, 5, 1303, 1533, 10, 23, 358, 34, 12, 8, 50, 214, 1257, 1182, 939, 1599, 483, 683, 207, 313, 913, 299, 1337, 1494, 60, 15, 47, 579, 37, 2, 55, 895, 98, 86, 214, 3, 1238, 394, 583, 701, 309, 1299, 86, 85, 97, 614, 9, 693, 10, 18, 371, 1155, 525, 296, 164, 865, 93, 562, 94, 383, 263, 1029, 414, 336, 731, 580, 910, 381, 174, 207, 293, 41, 14, 85, 1221, 172, 658, 719, 145, 55, 1902, 390, 2, 93, 93, 7, 702, 158, 89, 97, 1252, 525, 109, 109, 1915, 963, 259, 1955, 1717, 234, 95, 93, 6, 3, 484, 68, 273, 510, 1156, 4, 38, 78, 37, 358, 237, 65, 120, 1426, 47, 187, 1081, 540, 104, 378, 967, 175, 428, 373, 2, 93, 264, 579, 1336, 164, 135, 174, 87, 97, 45, 802, 45, 889, 64, 1925, 1182, 86, 470, 237, 174, 608, 1375, 1839, 3, 363, 15, 149, 580, 536, 447, 561, 1429, 908, 226, 41, 259, 127, 187, 666, 157, 87, 561, 372, 4, 802, 1426, 283, 198, 181, 10, 90, 170, 1844, 698, 528, 257, 336, 1458, 287, 85, 30, 90, 178, 1733, 887, 83, 1043, 85, 1767, 1247, 4, 81, 107, 214, 1081, 890, 875, 345, 736, 17, 761, 319, 729, 361, 881, 100, 29, 18, 1533, 48, 104, 263, 54, 889, 561, 891, 6, 528, 1337, 2, 132, 86, 702, 718, 1598, 1308, 47, 264, 921, 1133, 524, 23, 13, 34, 871, 382, 643, 109, 565, 12, 1496, 1703, 40, 346, 528, 466, 648, 397, 2, 71, 10, 2, 164, 185, 974, 625, 524, 601, 624, 36, 854, 239, 61, 110, 107, 443, 26, 10, 488, 23, 248, 55, 111, 516, 4, 253]\n"
          ]
        }
      ],
      "source": [
        "# Tokenize articles for training datasets\n",
        "tokenizer = Tokenizer(num_words = vocab_size, oov_token=oov_tok)\n",
        "tokenizer.fit_on_texts(train_articles)\n",
        "train_sequences = tokenizer.texts_to_sequences(train_articles)\n",
        "validation_sequences = tokenizer.texts_to_sequences(validation_articles)\n",
        "\n",
        "print(train_sequences[10])\n",
        "print(validation_sequences[10])"
      ]
    },
    {
      "cell_type": "code",
      "execution_count": 38,
      "metadata": {
        "colab": {
          "base_uri": "https://localhost:8080/"
        },
        "id": "-OJgosYj7Ash",
        "outputId": "4c2fea63-05b2-40f0-cc41-8a440a5bf0f5"
      },
      "outputs": [
        {
          "output_type": "stream",
          "name": "stdout",
          "text": [
            "497\n",
            "500\n",
            "500\n",
            "500\n",
            "499\n",
            "500\n",
            "499\n",
            "500\n"
          ]
        }
      ],
      "source": [
        "# Padding to the end of the training and validation articles\n",
        "train_padded = pad_sequences(train_sequences, maxlen=max_length, padding=padding_type, truncating=trunc_type)\n",
        "validation_padded = pad_sequences(validation_sequences, maxlen=max_length, padding=padding_type, truncating=trunc_type)\n",
        "\n",
        "print(len(train_sequences[0]))\n",
        "print(len(train_padded[0]))\n",
        "\n",
        "print(len(train_sequences[1]))\n",
        "print(len(train_padded[1]))\n",
        "\n",
        "print(len(train_sequences[10]))\n",
        "print(len(train_padded[10]))\n",
        "\n",
        "print(len(validation_sequences[10]))\n",
        "print(len(validation_padded[10]))"
      ]
    },
    {
      "cell_type": "markdown",
      "source": [
        "## 5b) Tokenization and Vectorization - Labels"
      ],
      "metadata": {
        "id": "Y9t-oTWUzhDa"
      }
    },
    {
      "cell_type": "code",
      "execution_count": 39,
      "metadata": {
        "colab": {
          "base_uri": "https://localhost:8080/"
        },
        "id": "PNtlnmms9Qv7",
        "outputId": "0ae82ea8-3592-4731-9983-e859534a4cb5"
      },
      "outputs": [
        {
          "output_type": "stream",
          "name": "stdout",
          "text": [
            "[2]\n",
            "[6]\n",
            "[11]\n",
            "(2100, 1)\n",
            "[2]\n",
            "[9]\n",
            "[12]\n",
            "(900, 1)\n"
          ]
        }
      ],
      "source": [
        "label_tokenizer = Tokenizer()\n",
        "label_tokenizer.fit_on_texts(labels_new)\n",
        "training_label_seq = np.asarray(label_tokenizer.texts_to_sequences(train_labels))\n",
        "validation_label_seq = np.asarray(label_tokenizer.texts_to_sequences(validation_labels))\n",
        "print(training_label_seq[0])\n",
        "print(training_label_seq[1])\n",
        "print(training_label_seq[2])\n",
        "print(training_label_seq.shape)\n",
        "\n",
        "print(validation_label_seq[0])\n",
        "print(validation_label_seq[1])\n",
        "print(validation_label_seq[2])\n",
        "print(validation_label_seq.shape)"
      ]
    },
    {
      "cell_type": "markdown",
      "source": [
        "## 6) Model Building"
      ],
      "metadata": {
        "id": "aY5dhJ7Uzttt"
      }
    },
    {
      "cell_type": "code",
      "execution_count": 40,
      "metadata": {
        "colab": {
          "base_uri": "https://localhost:8080/"
        },
        "id": "pEk37J04AObX",
        "outputId": "5009394b-b868-43d0-ffd5-89341bc22fcd"
      },
      "outputs": [
        {
          "output_type": "stream",
          "name": "stdout",
          "text": [
            "Model: \"sequential_1\"\n",
            "_________________________________________________________________\n",
            " Layer (type)                Output Shape              Param #   \n",
            "=================================================================\n",
            " embedding_1 (Embedding)     (None, None, 64)          128000    \n",
            "                                                                 \n",
            " bidirectional_1 (Bidirectio  (None, 128)              66048     \n",
            " nal)                                                            \n",
            "                                                                 \n",
            " dense_2 (Dense)             (None, 64)                8256      \n",
            "                                                                 \n",
            " dense_3 (Dense)             (None, 32)                2080      \n",
            "                                                                 \n",
            "=================================================================\n",
            "Total params: 204,384\n",
            "Trainable params: 204,384\n",
            "Non-trainable params: 0\n",
            "_________________________________________________________________\n"
          ]
        }
      ],
      "source": [
        "model = tf.keras.Sequential([\n",
        "    # Add an Embedding layer expecting input vocab of size 2000, and output embedding dimension of size 64\n",
        "    tf.keras.layers.Embedding(vocab_size, embedding_dim),\n",
        "    tf.keras.layers.Bidirectional(tf.keras.layers.LSTM(embedding_dim)),\n",
        "    tf.keras.layers.Dense(embedding_dim, activation='relu'),\n",
        "    tf.keras.layers.Dense(32, activation='softmax')\n",
        "])\n",
        "model.summary()"
      ]
    },
    {
      "cell_type": "code",
      "source": [
        "[print(i.shape, i.dtype) for i in model.inputs]\n",
        "[print(o.shape, o.dtype) for o in model.outputs]\n",
        "[print(l.name, l.input_shape, l.dtype) for l in model.layers]"
      ],
      "metadata": {
        "colab": {
          "base_uri": "https://localhost:8080/"
        },
        "id": "m7QyMUS00BhU",
        "outputId": "2a1724b5-2c34-481c-a59d-09123e95f7ae"
      },
      "execution_count": 41,
      "outputs": [
        {
          "output_type": "stream",
          "name": "stdout",
          "text": [
            "(None, None) <dtype: 'float32'>\n",
            "(None, 32) <dtype: 'float32'>\n",
            "embedding_1 (None, None) float32\n",
            "bidirectional_1 (None, None, 64) float32\n",
            "dense_2 (None, 128) float32\n",
            "dense_3 (None, 64) float32\n"
          ]
        },
        {
          "output_type": "execute_result",
          "data": {
            "text/plain": [
              "[None, None, None, None]"
            ]
          },
          "metadata": {},
          "execution_count": 41
        }
      ]
    },
    {
      "cell_type": "code",
      "execution_count": 42,
      "metadata": {
        "colab": {
          "base_uri": "https://localhost:8080/"
        },
        "id": "k3Tz3RjBBTkL",
        "outputId": "7d5db0cf-974b-4ffc-d645-c94336858377"
      },
      "outputs": [
        {
          "output_type": "stream",
          "name": "stdout",
          "text": [
            "(2100, 500)\n",
            "(2100, 1)\n",
            "(900, 500)\n",
            "(900, 1)\n"
          ]
        }
      ],
      "source": [
        "# Check dataset before model fitting\n",
        "print(train_padded.shape)\n",
        "print(training_label_seq.shape)\n",
        "print(validation_padded.shape)\n",
        "print(validation_label_seq.shape)"
      ]
    },
    {
      "cell_type": "code",
      "execution_count": 43,
      "metadata": {
        "colab": {
          "base_uri": "https://localhost:8080/"
        },
        "id": "SGGa_ixyF5OW",
        "outputId": "3c031216-213e-47a5-96ae-418790174e05"
      },
      "outputs": [
        {
          "output_type": "stream",
          "name": "stdout",
          "text": [
            "<class 'numpy.ndarray'>\n",
            "<class 'numpy.ndarray'>\n",
            "<class 'numpy.ndarray'>\n",
            "<class 'numpy.ndarray'>\n"
          ]
        }
      ],
      "source": [
        "# Check dataset before model fitting\n",
        "print(type(train_padded))\n",
        "print(type(training_label_seq))\n",
        "print(type(validation_padded))\n",
        "print(type(validation_label_seq))"
      ]
    },
    {
      "cell_type": "markdown",
      "source": [
        "## 6) Model Validation"
      ],
      "metadata": {
        "id": "H8WM5tJVcjsP"
      }
    },
    {
      "cell_type": "code",
      "execution_count": 45,
      "metadata": {
        "id": "JWxWZyvAAYtm",
        "colab": {
          "base_uri": "https://localhost:8080/"
        },
        "outputId": "6d2089ff-5a4a-4517-9c12-dd16d4f4f6ec"
      },
      "outputs": [
        {
          "output_type": "stream",
          "name": "stdout",
          "text": [
            "Epoch 1/10\n",
            "66/66 - 19s - loss: 0.3345 - accuracy: 0.8943 - val_loss: 0.6198 - val_accuracy: 0.7856 - 19s/epoch - 291ms/step\n",
            "Epoch 2/10\n",
            "66/66 - 14s - loss: 0.1944 - accuracy: 0.9471 - val_loss: 0.4530 - val_accuracy: 0.8478 - 14s/epoch - 214ms/step\n",
            "Epoch 3/10\n",
            "66/66 - 14s - loss: 0.1372 - accuracy: 0.9576 - val_loss: 0.5396 - val_accuracy: 0.8222 - 14s/epoch - 213ms/step\n",
            "Epoch 4/10\n",
            "66/66 - 14s - loss: 0.1510 - accuracy: 0.9595 - val_loss: 0.4588 - val_accuracy: 0.8500 - 14s/epoch - 213ms/step\n",
            "Epoch 5/10\n",
            "66/66 - 14s - loss: 0.0803 - accuracy: 0.9833 - val_loss: 0.4353 - val_accuracy: 0.8611 - 14s/epoch - 213ms/step\n",
            "Epoch 6/10\n",
            "66/66 - 14s - loss: 0.1064 - accuracy: 0.9686 - val_loss: 0.3947 - val_accuracy: 0.8767 - 14s/epoch - 213ms/step\n",
            "Epoch 7/10\n",
            "66/66 - 14s - loss: 0.0403 - accuracy: 0.9900 - val_loss: 0.2758 - val_accuracy: 0.9178 - 14s/epoch - 214ms/step\n",
            "Epoch 8/10\n",
            "66/66 - 14s - loss: 0.0747 - accuracy: 0.9795 - val_loss: 0.4432 - val_accuracy: 0.8544 - 14s/epoch - 214ms/step\n",
            "Epoch 9/10\n",
            "66/66 - 14s - loss: 0.0316 - accuracy: 0.9943 - val_loss: 0.2746 - val_accuracy: 0.9133 - 14s/epoch - 213ms/step\n",
            "Epoch 10/10\n",
            "66/66 - 14s - loss: 0.1612 - accuracy: 0.9567 - val_loss: 0.4405 - val_accuracy: 0.8700 - 14s/epoch - 214ms/step\n"
          ]
        }
      ],
      "source": [
        "model.compile(loss='sparse_categorical_crossentropy', optimizer='adam', metrics=['accuracy'])\n",
        "num_epochs = 10\n",
        "history = model.fit(train_padded, training_label_seq, epochs=num_epochs, validation_data=(validation_padded, validation_label_seq), verbose=2)"
      ]
    },
    {
      "cell_type": "markdown",
      "source": [
        "## 7) Model Evaluation"
      ],
      "metadata": {
        "id": "Hi0cbKbB0LtQ"
      }
    },
    {
      "cell_type": "code",
      "source": [
        "score = model.evaluate(validation_padded, validation_label_seq, verbose=10)\n",
        "\n",
        "print(\"Loss: %.3f \\nAccuracy: %.3f\" % (score[0], score[1]))"
      ],
      "metadata": {
        "colab": {
          "base_uri": "https://localhost:8080/"
        },
        "id": "rXqI2UJYvojM",
        "outputId": "a2f0b574-0d27-4243-b068-623da9086211"
      },
      "execution_count": 46,
      "outputs": [
        {
          "output_type": "stream",
          "name": "stdout",
          "text": [
            "Loss: 0.440 \n",
            "Accuracy: 0.870\n"
          ]
        }
      ]
    },
    {
      "cell_type": "code",
      "source": [
        "from sklearn.metrics import classification_report\n",
        "\n",
        "y_pred = model.predict(validation_padded, batch_size=64, verbose=10)\n",
        "y_pred_bool = np.argmax(y_pred, axis=1)\n",
        "print(classification_report(validation_label_seq.copy(), y_pred_bool.copy()))"
      ],
      "metadata": {
        "colab": {
          "base_uri": "https://localhost:8080/"
        },
        "id": "nHDrH_IPw5AI",
        "outputId": "73b3c4d5-5909-4101-cb5c-7fbf2dc93cf1"
      },
      "execution_count": 47,
      "outputs": [
        {
          "output_type": "stream",
          "name": "stdout",
          "text": [
            "              precision    recall  f1-score   support\n",
            "\n",
            "           1       0.85      0.85      0.85        53\n",
            "           2       0.90      0.87      0.88        52\n",
            "           3       1.00      1.00      1.00        51\n",
            "           4       0.96      0.96      0.96        50\n",
            "           5       0.91      0.80      0.85        49\n",
            "           6       0.76      0.93      0.84        45\n",
            "           7       0.94      0.67      0.78        45\n",
            "           8       0.81      0.95      0.88        44\n",
            "           9       0.97      0.89      0.93        44\n",
            "          10       0.87      0.93      0.90        44\n",
            "          11       0.87      0.89      0.88        44\n",
            "          12       1.00      0.98      0.99        44\n",
            "          13       0.96      0.58      0.72        43\n",
            "          14       0.80      0.81      0.80        43\n",
            "          15       0.94      0.72      0.82        43\n",
            "          16       0.86      1.00      0.92        43\n",
            "          17       0.87      0.93      0.90        42\n",
            "          18       0.87      0.95      0.91        42\n",
            "          19       0.56      0.73      0.63        41\n",
            "          20       0.88      0.95      0.91        38\n",
            "\n",
            "    accuracy                           0.87       900\n",
            "   macro avg       0.88      0.87      0.87       900\n",
            "weighted avg       0.88      0.87      0.87       900\n",
            "\n"
          ]
        }
      ]
    },
    {
      "cell_type": "code",
      "source": [
        "# Plot graphs for accuracy and loss\n",
        "def plot_graphs(history, string):\n",
        "  plt.plot(history.history[string])\n",
        "  plt.plot(history.history['val_'+string])\n",
        "  plt.xlabel(\"Epochs\")\n",
        "  plt.ylabel(string)\n",
        "  plt.legend([string, 'val_'+string])\n",
        "  plt.show()\n",
        "  \n",
        "plot_graphs(history, \"accuracy\")\n",
        "plot_graphs(history, \"loss\")"
      ],
      "metadata": {
        "colab": {
          "base_uri": "https://localhost:8080/",
          "height": 541
        },
        "id": "EA20eH5o9xt0",
        "outputId": "3b6494ed-8192-4614-d367-3f5439d343ad"
      },
      "execution_count": 48,
      "outputs": [
        {
          "output_type": "display_data",
          "data": {
            "image/png": "[encoded data removed]",
            "text/plain": [
              "<Figure size 432x288 with 1 Axes>"
            ]
          },
          "metadata": {
            "needs_background": "light"
          }
        },
        {
          "output_type": "display_data",
          "data": {
            "image/png": "[encoded data removed]",
            "text/plain": [
              "<Figure size 432x288 with 1 Axes>"
            ]
          },
          "metadata": {
            "needs_background": "light"
          }
        }
      ]
    }
  ],
  "metadata": {
    "colab": {
      "collapsed_sections": [],
      "name": "lstm_v2.ipynb",
      "provenance": [],
      "authorship_tag": "ABX9TyNs4DaaaATAB77IZTM0lscr",
      "include_colab_link": true
    },
    "kernelspec": {
      "display_name": "Python 3",
      "name": "python3"
    },
    "language_info": {
      "name": "python"
    },
    "accelerator": "GPU"
  },
  "nbformat": 4,
  "nbformat_minor": 0
}